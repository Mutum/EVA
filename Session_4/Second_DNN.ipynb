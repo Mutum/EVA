{
  "nbformat": 4,
  "nbformat_minor": 0,
  "metadata": {
    "colab": {
      "name": "Second DNN.ipynb",
      "version": "0.3.2",
      "provenance": [],
      "collapsed_sections": []
    },
    "kernelspec": {
      "name": "python3",
      "display_name": "Python 3"
    },
    "accelerator": "GPU"
  },
  "cells": [
    {
      "cell_type": "markdown",
      "metadata": {
        "id": "YC4c2ciyeMgT",
        "colab_type": "text"
      },
      "source": [
        "# Observation from first network\n",
        "- achevied validation score of 98.97% in 6th epoch of 10 epoch overall\n",
        "-  Training tends to overfits quickly, and by 3rd epoch training accuracy passed validation accuracy\n",
        "\n",
        "# Refining first network\n",
        "We are keeping the same architecture and experiment below:\n",
        "- increase number of kernels and making sure total parameters is within 15K\n",
        "- Adding BatchNormalization "
      ]
    },
    {
      "cell_type": "markdown",
      "metadata": {
        "id": "aNyZv-Ec52ot",
        "colab_type": "text"
      },
      "source": [
        "# **Import Libraries and modules**"
      ]
    },
    {
      "cell_type": "code",
      "metadata": {
        "id": "3m3w1Cw49Zkt",
        "colab_type": "code",
        "colab": {}
      },
      "source": [
        "# https://keras.io/\n",
        "!pip install -q keras  # intalled keras\n",
        "import keras           # import keras"
      ],
      "execution_count": 0,
      "outputs": []
    },
    {
      "cell_type": "code",
      "metadata": {
        "id": "Eso6UHE080D4",
        "colab_type": "code",
        "colab": {}
      },
      "source": [
        "import numpy as np     # import numpy for numerical calculation\n",
        "\n",
        "from keras.models import Sequential                                                      # import keras` Sequential model which is a linear stack of layers.\n",
        "from keras.layers import Dense, Dropout, Activation, Flatten, Add,BatchNormalization     # importing : Dense - for fullconnected layers , Dropout : for dropout , Activation: activation function, \n",
        "                                                                                         # Flatten : for converting n-dimensional array to 1-D array , Add : for adding layers\n",
        "from keras.layers import Convolution2D, MaxPooling2D                  # importing convolution and maxpooling function\n",
        "from keras.utils import np_utils                                      # from keras.utils import np_utils which is a separate package (and a keras dependency - which doesn't get install with it)\n",
        "\n",
        "from keras.datasets import mnist                                      # from keras.datasets, importing mnist dataset"
      ],
      "execution_count": 0,
      "outputs": []
    },
    {
      "cell_type": "markdown",
      "metadata": {
        "id": "zByEi95J86RD",
        "colab_type": "text"
      },
      "source": [
        "### Load pre-shuffled MNIST data into train and test sets"
      ]
    },
    {
      "cell_type": "code",
      "metadata": {
        "id": "7eRM0QWN83PV",
        "colab_type": "code",
        "colab": {}
      },
      "source": [
        "(X_train, y_train), (X_test, y_test) = mnist.load_data()     # Load mnist and make  tuple pair of train and test"
      ],
      "execution_count": 0,
      "outputs": []
    },
    {
      "cell_type": "code",
      "metadata": {
        "id": "4a4Be72j8-ZC",
        "colab_type": "code",
        "outputId": "74351167-c314-4466-f5ce-0b8a4f9ea671",
        "colab": {
          "base_uri": "https://localhost:8080/",
          "height": 305
        }
      },
      "source": [
        "print (X_train.shape)                                                 # printing dimension of X_train. Total 60k of 2-Dimension 28x28 image\n",
        "from matplotlib import pyplot as plt                                  # import pyplot as plt from matplotlib, used for plotting\n",
        "%matplotlib inline                                                    # matplotlib magic command to show static plot right below our code\n",
        "plt.imshow(X_train[0])                                                 # display first image in our training data"
      ],
      "execution_count": 28,
      "outputs": [
        {
          "output_type": "stream",
          "text": [
            "(60000, 28, 28)\n"
          ],
          "name": "stdout"
        },
        {
          "output_type": "execute_result",
          "data": {
            "text/plain": [
              "<matplotlib.image.AxesImage at 0x7f617c1b1400>"
            ]
          },
          "metadata": {
            "tags": []
          },
          "execution_count": 28
        },
        {
          "output_type": "display_data",
          "data": {
            "image/png": "[encoded data removed]",
            "text/plain": [
              "<Figure size 432x288 with 1 Axes>"
            ]
          },
          "metadata": {
            "tags": []
          }
        }
      ]
    },
    {
      "cell_type": "markdown",
      "metadata": {
        "id": "Z0CqOrcVXjuX",
        "colab_type": "text"
      },
      "source": [
        "### Reshaping image because The Convolution2D layers in Keras are designed to work with 3 dimensions per example"
      ]
    },
    {
      "cell_type": "code",
      "metadata": {
        "id": "dkmprriw9AnZ",
        "colab_type": "code",
        "colab": {}
      },
      "source": [
        "X_train = X_train.reshape(X_train.shape[0], 28, 28,1)          # reshaping 28x28x1 dimensions for all 60k images\n",
        "X_test = X_test.reshape(X_test.shape[0], 28, 28,1)              # reshaping 28x28x1 dimensions for all 10k images"
      ],
      "execution_count": 0,
      "outputs": []
    },
    {
      "cell_type": "markdown",
      "metadata": {
        "id": "fQ8XkTROXqkQ",
        "colab_type": "text"
      },
      "source": [
        "### Change numpy array data types and Scaled\n",
        "Currently it has \"uint8\" i.e. Unsigned integer (0 to 255).\n",
        "\n",
        "Scaled ? Since we used Gradient Descent, for faster convergence we required number to be scaled."
      ]
    },
    {
      "cell_type": "code",
      "metadata": {
        "id": "X2m4YS4E9CRh",
        "colab_type": "code",
        "colab": {}
      },
      "source": [
        "X_train = X_train.astype('float32')        # changed array’s data-type to float32\n",
        "X_test = X_test.astype('float32')          # same as above\n",
        "\n",
        "# scale the pixel intensities down to the 0-1 range by dividing them by 255 which is the max value\n",
        "X_train /= 255\n",
        "X_test /= 255"
      ],
      "execution_count": 0,
      "outputs": []
    },
    {
      "cell_type": "markdown",
      "metadata": {
        "id": "mjGv8U6wXwDQ",
        "colab_type": "text"
      },
      "source": [
        "### One-hot vector labels of target variable"
      ]
    },
    {
      "cell_type": "code",
      "metadata": {
        "id": "0Mn0vAYD9DvB",
        "colab_type": "code",
        "outputId": "ad75c90b-a4e8-460c-f97d-88e90a506de4",
        "colab": {
          "base_uri": "https://localhost:8080/",
          "height": 35
        }
      },
      "source": [
        "y_train[:10]           # checking first 10 digits label (target variable)"
      ],
      "execution_count": 31,
      "outputs": [
        {
          "output_type": "execute_result",
          "data": {
            "text/plain": [
              "array([5, 0, 4, 1, 9, 2, 1, 3, 1, 4], dtype=uint8)"
            ]
          },
          "metadata": {
            "tags": []
          },
          "execution_count": 31
        }
      ]
    },
    {
      "cell_type": "code",
      "metadata": {
        "id": "ZG8JiXR39FHC",
        "colab_type": "code",
        "colab": {}
      },
      "source": [
        "# Convert 1-dimensional class arrays to 10-dimensional class matrices\n",
        "Y_train = np_utils.to_categorical(y_train, 10)\n",
        "Y_test = np_utils.to_categorical(y_test, 10)"
      ],
      "execution_count": 0,
      "outputs": []
    },
    {
      "cell_type": "code",
      "metadata": {
        "id": "fYlFRvKS9HMB",
        "colab_type": "code",
        "outputId": "b3e6429a-2ee6-479b-b3b3-7258a0e0ef99",
        "colab": {
          "base_uri": "https://localhost:8080/",
          "height": 195
        }
      },
      "source": [
        "Y_train[:10]     # the first 10 class` array, compare the position of 1 (count starts from 0) in below and our y_train[:10] values. These two are same!!\n"
      ],
      "execution_count": 33,
      "outputs": [
        {
          "output_type": "execute_result",
          "data": {
            "text/plain": [
              "array([[0., 0., 0., 0., 0., 1., 0., 0., 0., 0.],\n",
              "       [1., 0., 0., 0., 0., 0., 0., 0., 0., 0.],\n",
              "       [0., 0., 0., 0., 1., 0., 0., 0., 0., 0.],\n",
              "       [0., 1., 0., 0., 0., 0., 0., 0., 0., 0.],\n",
              "       [0., 0., 0., 0., 0., 0., 0., 0., 0., 1.],\n",
              "       [0., 0., 1., 0., 0., 0., 0., 0., 0., 0.],\n",
              "       [0., 1., 0., 0., 0., 0., 0., 0., 0., 0.],\n",
              "       [0., 0., 0., 1., 0., 0., 0., 0., 0., 0.],\n",
              "       [0., 1., 0., 0., 0., 0., 0., 0., 0., 0.],\n",
              "       [0., 0., 0., 0., 1., 0., 0., 0., 0., 0.]], dtype=float32)"
            ]
          },
          "metadata": {
            "tags": []
          },
          "execution_count": 33
        }
      ]
    },
    {
      "cell_type": "markdown",
      "metadata": {
        "id": "781ZPczYp6ga",
        "colab_type": "text"
      },
      "source": [
        "# Import google colab drive and user authentication¶\n"
      ]
    },
    {
      "cell_type": "code",
      "metadata": {
        "id": "vWWJznGQp2tL",
        "colab_type": "code",
        "outputId": "0dec7b78-a802-4981-9542-14e42eac2546",
        "colab": {
          "base_uri": "https://localhost:8080/",
          "height": 35
        }
      },
      "source": [
        "from google.colab import drive\n",
        "drive.mount('/content/gdrive')\n",
        "\n",
        "!pip install -U -q PyDrive\n",
        "from pydrive.auth import GoogleAuth\n",
        "from pydrive.drive import GoogleDrive\n",
        "from google.colab import auth\n",
        "from oauth2client.client import GoogleCredentials \n",
        "\n",
        "\n",
        "# 1. Authenticate and create the PyDrive client.\n",
        "auth.authenticate_user()\n",
        "gauth = GoogleAuth()\n",
        "gauth.credentials = GoogleCredentials.get_application_default()\n",
        "drive = GoogleDrive(gauth)"
      ],
      "execution_count": 34,
      "outputs": [
        {
          "output_type": "stream",
          "text": [
            "Drive already mounted at /content/gdrive; to attempt to forcibly remount, call drive.mount(\"/content/gdrive\", force_remount=True).\n"
          ],
          "name": "stdout"
        }
      ]
    },
    {
      "cell_type": "markdown",
      "metadata": {
        "id": "Zovk7utVX3Ls",
        "colab_type": "text"
      },
      "source": [
        "# Defining model"
      ]
    },
    {
      "cell_type": "code",
      "metadata": {
        "id": "osKqT73Q9JJB",
        "colab_type": "code",
        "outputId": "b051a1a0-84ec-438c-c3e3-cbe991beaa93",
        "colab": {
          "base_uri": "https://localhost:8080/",
          "height": 195
        }
      },
      "source": [
        "from keras.layers import Activation     # importing \"Activation\"\n",
        "model = Sequential()                     # initiate keras` Sequential model \n",
        "\n",
        " \n",
        "model.add(Convolution2D(10, 3, 3, activation='relu', input_shape=(28,28,1))) # 26\n",
        "model.add(BatchNormalization())\n",
        "\n",
        "model.add(Convolution2D(15, 3, 3, activation='relu')) # 24\n",
        "model.add(BatchNormalization())\n",
        "model.add(Convolution2D(20, 3, 3, activation='relu')) # 22\n",
        "model.add(BatchNormalization())\n",
        "\n",
        "model.add(MaxPooling2D(pool_size=(2, 2))) # 11\n",
        "model.add(Convolution2D(10, 1, 1, activation='relu')) # 11\n",
        "model.add(BatchNormalization())\n",
        "\n",
        "model.add(Convolution2D(15, 3, 3, activation='relu')) # 9\n",
        "model.add(BatchNormalization())\n",
        "model.add(Convolution2D(20, 3, 3, activation='relu')) # 7\n",
        "model.add(BatchNormalization())\n",
        "\n",
        "model.add(Convolution2D(10, 1, activation='relu')) #7\n",
        "model.add(BatchNormalization())\n",
        "model.add(Convolution2D(10, 7))\n",
        "model.add(Flatten())\n",
        "model.add(Activation('softmax'))"
      ],
      "execution_count": 35,
      "outputs": [
        {
          "output_type": "stream",
          "text": [
            "/usr/local/lib/python3.6/dist-packages/ipykernel_launcher.py:5: UserWarning: Update your `Conv2D` call to the Keras 2 API: `Conv2D(10, (3, 3), activation=\"relu\", input_shape=(28, 28, 1...)`\n",
            "  \"\"\"\n",
            "/usr/local/lib/python3.6/dist-packages/ipykernel_launcher.py:8: UserWarning: Update your `Conv2D` call to the Keras 2 API: `Conv2D(15, (3, 3), activation=\"relu\")`\n",
            "  \n",
            "/usr/local/lib/python3.6/dist-packages/ipykernel_launcher.py:10: UserWarning: Update your `Conv2D` call to the Keras 2 API: `Conv2D(20, (3, 3), activation=\"relu\")`\n",
            "  # Remove the CWD from sys.path while we load stuff.\n",
            "/usr/local/lib/python3.6/dist-packages/ipykernel_launcher.py:14: UserWarning: Update your `Conv2D` call to the Keras 2 API: `Conv2D(10, (1, 1), activation=\"relu\")`\n",
            "  \n",
            "/usr/local/lib/python3.6/dist-packages/ipykernel_launcher.py:17: UserWarning: Update your `Conv2D` call to the Keras 2 API: `Conv2D(15, (3, 3), activation=\"relu\")`\n",
            "/usr/local/lib/python3.6/dist-packages/ipykernel_launcher.py:19: UserWarning: Update your `Conv2D` call to the Keras 2 API: `Conv2D(20, (3, 3), activation=\"relu\")`\n"
          ],
          "name": "stderr"
        }
      ]
    },
    {
      "cell_type": "code",
      "metadata": {
        "id": "TzdAYg1k9K7Z",
        "colab_type": "code",
        "outputId": "1230b33f-767f-49c5-cc2e-6b2bc973d9b0",
        "colab": {
          "base_uri": "https://localhost:8080/",
          "height": 781
        }
      },
      "source": [
        "model.summary()"
      ],
      "execution_count": 36,
      "outputs": [
        {
          "output_type": "stream",
          "text": [
            "_________________________________________________________________\n",
            "Layer (type)                 Output Shape              Param #   \n",
            "=================================================================\n",
            "conv2d_33 (Conv2D)           (None, 26, 26, 10)        100       \n",
            "_________________________________________________________________\n",
            "batch_normalization_1 (Batch (None, 26, 26, 10)        40        \n",
            "_________________________________________________________________\n",
            "conv2d_34 (Conv2D)           (None, 24, 24, 15)        1365      \n",
            "_________________________________________________________________\n",
            "batch_normalization_2 (Batch (None, 24, 24, 15)        60        \n",
            "_________________________________________________________________\n",
            "conv2d_35 (Conv2D)           (None, 22, 22, 20)        2720      \n",
            "_________________________________________________________________\n",
            "batch_normalization_3 (Batch (None, 22, 22, 20)        80        \n",
            "_________________________________________________________________\n",
            "max_pooling2d_5 (MaxPooling2 (None, 11, 11, 20)        0         \n",
            "_________________________________________________________________\n",
            "conv2d_36 (Conv2D)           (None, 11, 11, 10)        210       \n",
            "_________________________________________________________________\n",
            "batch_normalization_4 (Batch (None, 11, 11, 10)        40        \n",
            "_________________________________________________________________\n",
            "conv2d_37 (Conv2D)           (None, 9, 9, 15)          1365      \n",
            "_________________________________________________________________\n",
            "batch_normalization_5 (Batch (None, 9, 9, 15)          60        \n",
            "_________________________________________________________________\n",
            "conv2d_38 (Conv2D)           (None, 7, 7, 20)          2720      \n",
            "_________________________________________________________________\n",
            "batch_normalization_6 (Batch (None, 7, 7, 20)          80        \n",
            "_________________________________________________________________\n",
            "conv2d_39 (Conv2D)           (None, 7, 7, 10)          210       \n",
            "_________________________________________________________________\n",
            "batch_normalization_7 (Batch (None, 7, 7, 10)          40        \n",
            "_________________________________________________________________\n",
            "conv2d_40 (Conv2D)           (None, 1, 1, 10)          4910      \n",
            "_________________________________________________________________\n",
            "flatten_5 (Flatten)          (None, 10)                0         \n",
            "_________________________________________________________________\n",
            "activation_5 (Activation)    (None, 10)                0         \n",
            "=================================================================\n",
            "Total params: 14,000\n",
            "Trainable params: 13,800\n",
            "Non-trainable params: 200\n",
            "_________________________________________________________________\n"
          ],
          "name": "stdout"
        }
      ]
    },
    {
      "cell_type": "markdown",
      "metadata": {
        "id": "HzTeBoIoYEj9",
        "colab_type": "text"
      },
      "source": [
        "### Configures the model for training.\n",
        "- loss as 'categorical_crossentropy' since we are dealing with multi-class classification\n",
        "- \"adam\" - Adaptive Moment Estimation one of the common/best gradient-based optimizer\n",
        "- \"accuracy\" as the model metrics"
      ]
    },
    {
      "cell_type": "code",
      "metadata": {
        "id": "Zp6SuGrL9M3h",
        "colab_type": "code",
        "colab": {}
      },
      "source": [
        "# configure model with above parameters\n",
        "\n",
        "model.compile(loss='categorical_crossentropy',\n",
        "             optimizer='adam',\n",
        "             metrics=['accuracy'])"
      ],
      "execution_count": 0,
      "outputs": []
    },
    {
      "cell_type": "markdown",
      "metadata": {
        "id": "Q1jRBDuPqS-5",
        "colab_type": "text"
      },
      "source": [
        "# Callbacks for model monitor during training and saving weights¶\n"
      ]
    },
    {
      "cell_type": "code",
      "metadata": {
        "id": "sLiieSeLqVkA",
        "colab_type": "code",
        "colab": {}
      },
      "source": [
        "from keras.callbacks import  ModelCheckpoint  # importing checkpoint\n",
        "\n",
        "filepath=\"/content/gdrive/My Drive/EVA_session_4-2_weights-improvement-{epoch:02d}-{val_acc:.2f}.hdf5\"                                  # filepath in google drive to save weights\n",
        "checkpoint = ModelCheckpoint(filepath, monitor='val_acc', verbose=1, save_best_only=True, mode='max',save_weights_only=True)    # checkpoint to monitor validation accuracy, and save which give max accuracy"
      ],
      "execution_count": 0,
      "outputs": []
    },
    {
      "cell_type": "markdown",
      "metadata": {
        "id": "WmsiRrLHYK0E",
        "colab_type": "text"
      },
      "source": [
        "### Fit the model on Training set\n",
        "batch_size=32 : sends 32 image in batch-wise and train model (feed-forward and backpropagation) 10 number of epoch : One epoch is when an entire dataset is passed both forward and backward through the neural network only once. verbose as 1 : show progress bar of the training with details"
      ]
    },
    {
      "cell_type": "code",
      "metadata": {
        "id": "4xWoKhPY9Of5",
        "colab_type": "code",
        "outputId": "9c0bce63-f49d-4307-e9a9-f6d9e228cbdf",
        "colab": {
          "base_uri": "https://localhost:8080/",
          "height": 799
        }
      },
      "source": [
        "# fit model with above notes along with checkpoint and  validation datasets\n",
        "\n",
        "model.fit(X_train, Y_train, batch_size=32, nb_epoch=10, verbose=1,\n",
        "         validation_data=(X_test, Y_test),\n",
        "         callbacks=[checkpoint])"
      ],
      "execution_count": 39,
      "outputs": [
        {
          "output_type": "stream",
          "text": [
            "/usr/local/lib/python3.6/dist-packages/ipykernel_launcher.py:3: UserWarning: The `nb_epoch` argument in `fit` has been renamed `epochs`.\n",
            "  This is separate from the ipykernel package so we can avoid doing imports until\n"
          ],
          "name": "stderr"
        },
        {
          "output_type": "stream",
          "text": [
            "Train on 60000 samples, validate on 10000 samples\n",
            "Epoch 1/10\n",
            "60000/60000 [==============================] - 21s 350us/step - loss: 0.1366 - acc: 0.9578 - val_loss: 0.0518 - val_acc: 0.9842\n",
            "\n",
            "Epoch 00001: val_acc improved from -inf to 0.98420, saving model to /content/gdrive/My Drive/EVA_session_4-2_weights-improvement-01-0.98.hdf5\n",
            "Epoch 2/10\n",
            "60000/60000 [==============================] - 20s 336us/step - loss: 0.0454 - acc: 0.9858 - val_loss: 0.0464 - val_acc: 0.9854\n",
            "\n",
            "Epoch 00002: val_acc improved from 0.98420 to 0.98540, saving model to /content/gdrive/My Drive/EVA_session_4-2_weights-improvement-02-0.99.hdf5\n",
            "Epoch 3/10\n",
            "60000/60000 [==============================] - 19s 324us/step - loss: 0.0362 - acc: 0.9886 - val_loss: 0.0416 - val_acc: 0.9872\n",
            "\n",
            "Epoch 00003: val_acc improved from 0.98540 to 0.98720, saving model to /content/gdrive/My Drive/EVA_session_4-2_weights-improvement-03-0.99.hdf5\n",
            "Epoch 4/10\n",
            "60000/60000 [==============================] - 19s 322us/step - loss: 0.0303 - acc: 0.9904 - val_loss: 0.0384 - val_acc: 0.9882\n",
            "\n",
            "Epoch 00004: val_acc improved from 0.98720 to 0.98820, saving model to /content/gdrive/My Drive/EVA_session_4-2_weights-improvement-04-0.99.hdf5\n",
            "Epoch 5/10\n",
            "60000/60000 [==============================] - 20s 330us/step - loss: 0.0251 - acc: 0.9916 - val_loss: 0.0373 - val_acc: 0.9893\n",
            "\n",
            "Epoch 00005: val_acc improved from 0.98820 to 0.98930, saving model to /content/gdrive/My Drive/EVA_session_4-2_weights-improvement-05-0.99.hdf5\n",
            "Epoch 6/10\n",
            "60000/60000 [==============================] - 20s 338us/step - loss: 0.0228 - acc: 0.9929 - val_loss: 0.0315 - val_acc: 0.9899\n",
            "\n",
            "Epoch 00006: val_acc improved from 0.98930 to 0.98990, saving model to /content/gdrive/My Drive/EVA_session_4-2_weights-improvement-06-0.99.hdf5\n",
            "Epoch 7/10\n",
            "60000/60000 [==============================] - 21s 350us/step - loss: 0.0202 - acc: 0.9937 - val_loss: 0.0292 - val_acc: 0.9923\n",
            "\n",
            "Epoch 00007: val_acc improved from 0.98990 to 0.99230, saving model to /content/gdrive/My Drive/EVA_session_4-2_weights-improvement-07-0.99.hdf5\n",
            "Epoch 8/10\n",
            "60000/60000 [==============================] - 19s 324us/step - loss: 0.0176 - acc: 0.9941 - val_loss: 0.0354 - val_acc: 0.9896\n",
            "\n",
            "Epoch 00008: val_acc did not improve from 0.99230\n",
            "Epoch 9/10\n",
            "60000/60000 [==============================] - 21s 347us/step - loss: 0.0154 - acc: 0.9948 - val_loss: 0.0383 - val_acc: 0.9901\n",
            "\n",
            "Epoch 00009: val_acc did not improve from 0.99230\n",
            "Epoch 10/10\n",
            "60000/60000 [==============================] - 20s 335us/step - loss: 0.0149 - acc: 0.9949 - val_loss: 0.0360 - val_acc: 0.9884\n",
            "\n",
            "Epoch 00010: val_acc did not improve from 0.99230\n"
          ],
          "name": "stdout"
        },
        {
          "output_type": "execute_result",
          "data": {
            "text/plain": [
              "<keras.callbacks.History at 0x7f6170099780>"
            ]
          },
          "metadata": {
            "tags": []
          },
          "execution_count": 39
        }
      ]
    },
    {
      "cell_type": "markdown",
      "metadata": {
        "id": "9EFkd95TYTah",
        "colab_type": "text"
      },
      "source": [
        "### Model evaluation¶\n",
        "Please note that predict is a part of model evaluation. Only after we predict, one can used prediction value to evalute our metrics, say \"accuracy"
      ]
    },
    {
      "cell_type": "code",
      "metadata": {
        "id": "j_pV4CvcrzOa",
        "colab_type": "code",
        "colab": {}
      },
      "source": [
        "model.load_weights('/content/gdrive/My Drive/EVA_session_4-2_weights-improvement-07-0.99.hdf5')  # load weight which give max accuracy in above training"
      ],
      "execution_count": 0,
      "outputs": []
    },
    {
      "cell_type": "code",
      "metadata": {
        "id": "AtsH-lLk-eLb",
        "colab_type": "code",
        "colab": {}
      },
      "source": [
        "score = model.evaluate(X_test, Y_test, verbose=0) # Use trained model and predict on test set , then finally score metrics. We have given \"accuracy\" as our metrics"
      ],
      "execution_count": 0,
      "outputs": []
    },
    {
      "cell_type": "code",
      "metadata": {
        "id": "mkX8JMv79q9r",
        "colab_type": "code",
        "outputId": "896e9be8-06da-4586-e0de-ea6b6a4d7e16",
        "colab": {
          "base_uri": "https://localhost:8080/",
          "height": 35
        }
      },
      "source": [
        "print(score)    # print validation score"
      ],
      "execution_count": 45,
      "outputs": [
        {
          "output_type": "stream",
          "text": [
            "[0.0291767020403262, 0.9923]\n"
          ],
          "name": "stdout"
        }
      ]
    },
    {
      "cell_type": "code",
      "metadata": {
        "id": "OCWoJkwE9suh",
        "colab_type": "code",
        "colab": {}
      },
      "source": [
        "y_pred = model.predict(X_test) # used trained model to predict class"
      ],
      "execution_count": 0,
      "outputs": []
    },
    {
      "cell_type": "code",
      "metadata": {
        "id": "Ym7iCFBm9uBs",
        "colab_type": "code",
        "outputId": "f9463a61-8d01-4fdb-c1c6-4d9e61751838",
        "colab": {
          "base_uri": "https://localhost:8080/",
          "height": 515
        }
      },
      "source": [
        "print(y_pred[:9])    # first 9 prediction\n",
        "print(y_test[:9])     # actual 9 target class"
      ],
      "execution_count": 47,
      "outputs": [
        {
          "output_type": "stream",
          "text": [
            "[[1.07702189e-11 2.79257520e-11 7.33258645e-08 8.22191382e-09\n",
            "  6.77605309e-15 2.77541950e-14 7.80111587e-17 9.99999881e-01\n",
            "  5.81423147e-12 9.64914260e-10]\n",
            " [5.14398135e-10 1.64169303e-10 9.99999881e-01 3.24087181e-11\n",
            "  3.01920017e-11 1.35411132e-13 1.77257562e-07 3.51250121e-15\n",
            "  1.51116220e-09 6.41269503e-12]\n",
            " [5.01058082e-07 9.99491215e-01 4.35921748e-07 4.52964279e-08\n",
            "  4.75628796e-04 1.50573908e-06 3.86883926e-07 1.49747325e-06\n",
            "  2.25153417e-05 6.27376266e-06]\n",
            " [9.99997377e-01 2.05308305e-11 5.00749109e-10 8.94249258e-11\n",
            "  1.05983625e-11 2.40364756e-10 2.59871990e-06 2.35230481e-11\n",
            "  1.00193964e-10 3.16198873e-10]\n",
            " [4.84760365e-09 1.72137735e-08 1.35740516e-10 1.61612987e-10\n",
            "  9.99938846e-01 3.51592200e-10 1.74455328e-09 1.43980036e-10\n",
            "  3.00569347e-10 6.11995783e-05]\n",
            " [3.54659250e-07 9.99837518e-01 8.92673313e-07 1.63575475e-09\n",
            "  1.52966284e-04 6.57656045e-08 4.75228497e-08 1.34490870e-06\n",
            "  5.08456560e-06 1.62684455e-06]\n",
            " [4.06229344e-14 2.39057885e-10 1.86742871e-10 1.51312843e-15\n",
            "  9.99998569e-01 7.06467003e-13 1.67246808e-14 1.27568242e-11\n",
            "  1.18525034e-09 1.38132634e-06]\n",
            " [7.78255377e-11 8.03524081e-10 1.00178397e-07 2.17607230e-08\n",
            "  4.58630075e-06 5.78074371e-08 6.80822925e-14 4.71406665e-08\n",
            "  2.89991959e-07 9.99994993e-01]\n",
            " [5.51295898e-08 3.31893096e-10 6.27709329e-10 2.67722896e-07\n",
            "  1.00960462e-09 9.51500475e-01 4.64504771e-02 2.16583956e-11\n",
            "  2.04703980e-03 1.72765829e-06]]\n",
            "[7 2 1 0 4 1 4 9 5]\n"
          ],
          "name": "stdout"
        }
      ]
    },
    {
      "cell_type": "markdown",
      "metadata": {
        "id": "fjSzpGntYeu8",
        "colab_type": "text"
      },
      "source": [
        "# Visualization\n"
      ]
    },
    {
      "cell_type": "code",
      "metadata": {
        "id": "CT--y98_dr2T",
        "colab_type": "code",
        "colab": {}
      },
      "source": [
        "layer_dict = dict([(layer.name, layer) for layer in model.layers])"
      ],
      "execution_count": 0,
      "outputs": []
    },
    {
      "cell_type": "code",
      "metadata": {
        "id": "2GY4Upv4dsUR",
        "colab_type": "code",
        "outputId": "00641990-2af0-4c0b-b44d-723220b0a653",
        "colab": {
          "base_uri": "https://localhost:8080/",
          "height": 741
        }
      },
      "source": [
        "import numpy as np\n",
        "from matplotlib import pyplot as plt\n",
        "from keras import backend as K\n",
        "%matplotlib inline\n",
        "# util function to convert a tensor into a valid image\n",
        "def deprocess_image(x):\n",
        "    # normalize tensor: center on 0., ensure std is 0.1\n",
        "    x -= x.mean()\n",
        "    x /= (x.std() + 1e-5)\n",
        "    x *= 0.1\n",
        "\n",
        "    # clip to [0, 1]\n",
        "    x += 0.5\n",
        "    x = np.clip(x, 0, 1)\n",
        "\n",
        "    # convert to RGB array\n",
        "    x *= 255\n",
        "    #x = x.transpose((1, 2, 0))\n",
        "    x = np.clip(x, 0, 255).astype('uint8')\n",
        "    return x\n",
        "\n",
        "def vis_img_in_filter(img = np.array(X_train[2]).reshape((1, 28, 28, 1)).astype(np.float64), \n",
        "                      layer_name = 'conv2d_35'):\n",
        "    layer_output = layer_dict[layer_name].output\n",
        "    img_ascs = list()\n",
        "    for filter_index in range(layer_output.shape[3]):\n",
        "        # build a loss function that maximizes the activation\n",
        "        # of the nth filter of the layer considered\n",
        "        loss = K.mean(layer_output[:, :, :, filter_index])\n",
        "\n",
        "        # compute the gradient of the input picture wrt this loss\n",
        "        grads = K.gradients(loss, model.input)[0]\n",
        "\n",
        "        # normalization trick: we normalize the gradient\n",
        "        grads /= (K.sqrt(K.mean(K.square(grads))) + 1e-5)\n",
        "\n",
        "        # this function returns the loss and grads given the input picture\n",
        "        iterate = K.function([model.input], [loss, grads])\n",
        "\n",
        "        # step size for gradient ascent\n",
        "        step = 5.\n",
        "\n",
        "        img_asc = np.array(img)\n",
        "        # run gradient ascent for 20 steps\n",
        "        for i in range(20):\n",
        "            loss_value, grads_value = iterate([img_asc])\n",
        "            img_asc += grads_value * step\n",
        "\n",
        "        img_asc = img_asc[0]\n",
        "        img_ascs.append(deprocess_image(img_asc).reshape((28, 28)))\n",
        "        \n",
        "    if layer_output.shape[3] >= 35:\n",
        "        plot_x, plot_y = 6, 6\n",
        "    elif layer_output.shape[3] >= 23:\n",
        "        plot_x, plot_y = 4, 6\n",
        "    elif layer_output.shape[3] >= 11:\n",
        "        plot_x, plot_y = 2, 6\n",
        "    else:\n",
        "        plot_x, plot_y = 1, 2\n",
        "    fig, ax = plt.subplots(plot_x, plot_y, figsize = (12, 12))\n",
        "    ax[0, 0].imshow(img.reshape((28, 28)), cmap = 'gray')\n",
        "    ax[0, 0].set_title('Input image')\n",
        "    fig.suptitle('Input image and %s filters' % (layer_name,))\n",
        "    fig.tight_layout(pad = 0.3, rect = [0, 0, 0.9, 0.9])\n",
        "    for (x, y) in [(i, j) for i in range(plot_x) for j in range(plot_y)]:\n",
        "        if x == 0 and y == 0:\n",
        "            continue\n",
        "        ax[x, y].imshow(img_ascs[x * plot_y + y - 1], cmap = 'gray')\n",
        "        ax[x, y].set_title('filter %d' % (x * plot_y + y - 1))\n",
        "\n",
        "vis_img_in_filter()"
      ],
      "execution_count": 50,
      "outputs": [
        {
          "output_type": "display_data",
          "data": {
            "image/png": "[encoded data removed]",
            "text/plain": [
              "<Figure size 864x864 with 12 Axes>"
            ]
          },
          "metadata": {
            "tags": []
          }
        }
      ]
    },
    {
      "cell_type": "code",
      "metadata": {
        "id": "9tvptcn8dxvp",
        "colab_type": "code",
        "colab": {}
      },
      "source": [
        ""
      ],
      "execution_count": 0,
      "outputs": []
    }
  ]
}