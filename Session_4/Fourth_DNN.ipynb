{
  "nbformat": 4,
  "nbformat_minor": 0,
  "metadata": {
    "colab": {
      "name": "Fourth DNN.ipynb",
      "version": "0.3.2",
      "provenance": [],
      "collapsed_sections": []
    },
    "kernelspec": {
      "name": "python3",
      "display_name": "Python 3"
    },
    "accelerator": "GPU"
  },
  "cells": [
    {
      "cell_type": "markdown",
      "metadata": {
        "id": "JcOH2DLzis1a",
        "colab_type": "text"
      },
      "source": [
        "# Observation from third network\n",
        "- achevied validation score of 99.24% VS 99.23% of second network\n",
        "-  There seems to be tendency of flucation of accuracy, meaning proper learning rate deduction might be usefull.\n",
        "\n",
        "\n",
        "# Refining third network\n",
        " - Introduced learning rate scheduler\n",
        " - increased dropout to 1% and thereby increase number of epoch\n",
        " - batch size same as third network i.e. 64\n",
        " \n",
        "# Achived 99.4% validation score in this notebook"
      ]
    },
    {
      "cell_type": "markdown",
      "metadata": {
        "id": "aNyZv-Ec52ot",
        "colab_type": "text"
      },
      "source": [
        "# **Import Libraries and modules**"
      ]
    },
    {
      "cell_type": "code",
      "metadata": {
        "id": "3m3w1Cw49Zkt",
        "colab_type": "code",
        "colab": {}
      },
      "source": [
        "# https://keras.io/\n",
        "!pip install -q keras  # intalled keras\n",
        "import keras           # import keras"
      ],
      "execution_count": 0,
      "outputs": []
    },
    {
      "cell_type": "code",
      "metadata": {
        "id": "Eso6UHE080D4",
        "colab_type": "code",
        "colab": {}
      },
      "source": [
        "import numpy as np     # import numpy for numerical calculation\n",
        "\n",
        "from keras.models import Sequential                                                     # import keras` Sequential model which is a linear stack of layers.\n",
        "from keras.layers import Dense, Dropout, Activation, Flatten, Add,BatchNormalization     # importing : Dense - for fullconnected layers , Dropout : for dropout , Activation: activation function, \n",
        "                                                                      # Flatten : for converting n-dimensional array to 1-D array , Add : for adding layers\n",
        "from keras.layers import Convolution2D, MaxPooling2D                  # importing convolution and maxpooling function\n",
        "from keras.utils import np_utils                                      # from keras.utils import np_utils which is a separate package (and a keras dependency - which doesn't get install with it)\n",
        "\n",
        "from keras.datasets import mnist                                      # from keras.datasets, importing mnist dataset"
      ],
      "execution_count": 0,
      "outputs": []
    },
    {
      "cell_type": "markdown",
      "metadata": {
        "id": "zByEi95J86RD",
        "colab_type": "text"
      },
      "source": [
        "### Load pre-shuffled MNIST data into train and test sets"
      ]
    },
    {
      "cell_type": "code",
      "metadata": {
        "id": "7eRM0QWN83PV",
        "colab_type": "code",
        "colab": {}
      },
      "source": [
        "(X_train, y_train), (X_test, y_test) = mnist.load_data()      # Load mnist and make  tuple pair of train and test"
      ],
      "execution_count": 0,
      "outputs": []
    },
    {
      "cell_type": "code",
      "metadata": {
        "id": "4a4Be72j8-ZC",
        "colab_type": "code",
        "outputId": "832e1679-a644-480b-e47d-b5de90e25734",
        "colab": {
          "base_uri": "https://localhost:8080/",
          "height": 305
        }
      },
      "source": [
        "print (X_train.shape)                                                 # printing dimension of X_train. Total 60k of 2-Dimension 28x28 image\n",
        "from matplotlib import pyplot as plt                                  # import pyplot as plt from matplotlib, used for plotting\n",
        "%matplotlib inline                                                    # matplotlib magic command to show static plot right below our code\n",
        "plt.imshow(X_train[0])                                                 # display first image in our training data"
      ],
      "execution_count": 244,
      "outputs": [
        {
          "output_type": "stream",
          "text": [
            "(60000, 28, 28)\n"
          ],
          "name": "stdout"
        },
        {
          "output_type": "execute_result",
          "data": {
            "text/plain": [
              "<matplotlib.image.AxesImage at 0x7efb2f49c630>"
            ]
          },
          "metadata": {
            "tags": []
          },
          "execution_count": 244
        },
        {
          "output_type": "display_data",
          "data": {
            "image/png": "[encoded data removed]",
            "text/plain": [
              "<Figure size 432x288 with 1 Axes>"
            ]
          },
          "metadata": {
            "tags": []
          }
        }
      ]
    },
    {
      "cell_type": "markdown",
      "metadata": {
        "id": "CYI2KaENaGKK",
        "colab_type": "text"
      },
      "source": [
        "### Reshaping image because The Convolution2D layers in Keras are designed to work with 3 dimensions per example"
      ]
    },
    {
      "cell_type": "code",
      "metadata": {
        "id": "dkmprriw9AnZ",
        "colab_type": "code",
        "colab": {}
      },
      "source": [
        "X_train = X_train.reshape(X_train.shape[0], 28, 28,1)          # reshaping 28x28x1 dimensions for all 60k images\n",
        "X_test = X_test.reshape(X_test.shape[0], 28, 28,1)              # reshaping 28x28x1 dimensions for all 10k images"
      ],
      "execution_count": 0,
      "outputs": []
    },
    {
      "cell_type": "markdown",
      "metadata": {
        "id": "Dazq87wzaKMn",
        "colab_type": "text"
      },
      "source": [
        "### Change numpy array data types and Scaled\n",
        "Currently it has \"uint8\" i.e. Unsigned integer (0 to 255).\n",
        "\n",
        "Scaled ? Since we used Gradient Descent, for faster convergence we required number to be scaled."
      ]
    },
    {
      "cell_type": "code",
      "metadata": {
        "id": "X2m4YS4E9CRh",
        "colab_type": "code",
        "colab": {}
      },
      "source": [
        "X_train = X_train.astype('float32')        # changed array’s data-type to float32\n",
        "X_test = X_test.astype('float32')          # same as above\n",
        "\n",
        "# scale the pixel intensities down to the 0-1 range by dividing them by 255 which is the max value\n",
        "X_train /= 255\n",
        "X_test /= 255"
      ],
      "execution_count": 0,
      "outputs": []
    },
    {
      "cell_type": "markdown",
      "metadata": {
        "id": "upOA-VewaPM5",
        "colab_type": "text"
      },
      "source": [
        "### One-hot vector labels of target variable"
      ]
    },
    {
      "cell_type": "code",
      "metadata": {
        "id": "0Mn0vAYD9DvB",
        "colab_type": "code",
        "outputId": "f76d0730-c927-4ee3-e5ab-5b8fa7d5cc51",
        "colab": {
          "base_uri": "https://localhost:8080/",
          "height": 35
        }
      },
      "source": [
        "y_train[:10]   # checking first 10 digits label (target variable)"
      ],
      "execution_count": 247,
      "outputs": [
        {
          "output_type": "execute_result",
          "data": {
            "text/plain": [
              "array([5, 0, 4, 1, 9, 2, 1, 3, 1, 4], dtype=uint8)"
            ]
          },
          "metadata": {
            "tags": []
          },
          "execution_count": 247
        }
      ]
    },
    {
      "cell_type": "code",
      "metadata": {
        "id": "ZG8JiXR39FHC",
        "colab_type": "code",
        "colab": {}
      },
      "source": [
        "# Convert 1-dimensional class arrays to 10-dimensional class matrices\n",
        "Y_train = np_utils.to_categorical(y_train, 10)\n",
        "Y_test = np_utils.to_categorical(y_test, 10)"
      ],
      "execution_count": 0,
      "outputs": []
    },
    {
      "cell_type": "code",
      "metadata": {
        "id": "fYlFRvKS9HMB",
        "colab_type": "code",
        "outputId": "e67b6602-f6cc-43f3-9669-2bd59cf4f2b5",
        "colab": {
          "base_uri": "https://localhost:8080/",
          "height": 195
        }
      },
      "source": [
        "Y_train[:10]     # the first 10 class` array, compare the position of 1 (count starts from 0) in below and our y_train[:10] values. These two are same!!\n"
      ],
      "execution_count": 249,
      "outputs": [
        {
          "output_type": "execute_result",
          "data": {
            "text/plain": [
              "array([[0., 0., 0., 0., 0., 1., 0., 0., 0., 0.],\n",
              "       [1., 0., 0., 0., 0., 0., 0., 0., 0., 0.],\n",
              "       [0., 0., 0., 0., 1., 0., 0., 0., 0., 0.],\n",
              "       [0., 1., 0., 0., 0., 0., 0., 0., 0., 0.],\n",
              "       [0., 0., 0., 0., 0., 0., 0., 0., 0., 1.],\n",
              "       [0., 0., 1., 0., 0., 0., 0., 0., 0., 0.],\n",
              "       [0., 1., 0., 0., 0., 0., 0., 0., 0., 0.],\n",
              "       [0., 0., 0., 1., 0., 0., 0., 0., 0., 0.],\n",
              "       [0., 1., 0., 0., 0., 0., 0., 0., 0., 0.],\n",
              "       [0., 0., 0., 0., 1., 0., 0., 0., 0., 0.]], dtype=float32)"
            ]
          },
          "metadata": {
            "tags": []
          },
          "execution_count": 249
        }
      ]
    },
    {
      "cell_type": "markdown",
      "metadata": {
        "id": "781ZPczYp6ga",
        "colab_type": "text"
      },
      "source": [
        "# Import google colab drive and user authentication¶\n"
      ]
    },
    {
      "cell_type": "code",
      "metadata": {
        "id": "vWWJznGQp2tL",
        "colab_type": "code",
        "outputId": "efd96187-e516-4d3f-9459-87c9a2eb13d6",
        "colab": {
          "base_uri": "https://localhost:8080/",
          "height": 35
        }
      },
      "source": [
        "from google.colab import drive\n",
        "drive.mount('/content/gdrive')\n",
        "\n",
        "!pip install -U -q PyDrive\n",
        "from pydrive.auth import GoogleAuth\n",
        "from pydrive.drive import GoogleDrive\n",
        "from google.colab import auth\n",
        "from oauth2client.client import GoogleCredentials \n",
        "\n",
        "\n",
        "# 1. Authenticate and create the PyDrive client.\n",
        "auth.authenticate_user()\n",
        "gauth = GoogleAuth()\n",
        "gauth.credentials = GoogleCredentials.get_application_default()\n",
        "drive = GoogleDrive(gauth)"
      ],
      "execution_count": 250,
      "outputs": [
        {
          "output_type": "stream",
          "text": [
            "Drive already mounted at /content/gdrive; to attempt to forcibly remount, call drive.mount(\"/content/gdrive\", force_remount=True).\n"
          ],
          "name": "stdout"
        }
      ]
    },
    {
      "cell_type": "markdown",
      "metadata": {
        "id": "joo8xz4UaXII",
        "colab_type": "text"
      },
      "source": [
        "# Defining model"
      ]
    },
    {
      "cell_type": "code",
      "metadata": {
        "id": "osKqT73Q9JJB",
        "colab_type": "code",
        "outputId": "42f3e2f8-6af7-4641-a259-a3a604862e56",
        "colab": {
          "base_uri": "https://localhost:8080/",
          "height": 177
        }
      },
      "source": [
        "from keras.layers import Activation # importing \"Activation\"\n",
        "model = Sequential()                # initiate keras` Sequential model \n",
        "\n",
        " \n",
        "model.add(Convolution2D(10, 3, 3, activation='relu', input_shape=(28,28,1))) # 26\n",
        "model.add(BatchNormalization())\n",
        "model.add(Dropout(0.1))\n",
        "\n",
        "model.add(Convolution2D(15, 3, 3, activation='relu')) # 24\n",
        "model.add(BatchNormalization())\n",
        "model.add(Dropout(0.1))\n",
        "model.add(Convolution2D(20, 3, 3, activation='relu')) # 22\n",
        "model.add(BatchNormalization())\n",
        "model.add(Dropout(0.1))\n",
        "\n",
        "model.add(MaxPooling2D(pool_size=(2, 2))) # 11\n",
        "model.add(Convolution2D(10, 1, 1, activation='relu')) # 11\n",
        "model.add(BatchNormalization())\n",
        "\n",
        "model.add(Convolution2D(15, 3, 3, activation='relu')) # 9\n",
        "model.add(BatchNormalization())\n",
        "model.add(Dropout(0.1))\n",
        "model.add(Convolution2D(20, 3, 3, activation='relu')) # 7\n",
        "model.add(BatchNormalization())\n",
        "model.add(Dropout(0.1))\n",
        "\n",
        "model.add(Convolution2D(10, 1, activation='relu')) #7\n",
        "model.add(BatchNormalization())\n",
        "model.add(Convolution2D(10, 7))\n",
        "model.add(Flatten())\n",
        "model.add(Activation('softmax'))"
      ],
      "execution_count": 251,
      "outputs": [
        {
          "output_type": "stream",
          "text": [
            "/usr/local/lib/python3.6/dist-packages/ipykernel_launcher.py:5: UserWarning: Update your `Conv2D` call to the Keras 2 API: `Conv2D(10, (3, 3), activation=\"relu\", input_shape=(28, 28, 1...)`\n",
            "  \"\"\"\n",
            "/usr/local/lib/python3.6/dist-packages/ipykernel_launcher.py:9: UserWarning: Update your `Conv2D` call to the Keras 2 API: `Conv2D(15, (3, 3), activation=\"relu\")`\n",
            "  if __name__ == '__main__':\n",
            "/usr/local/lib/python3.6/dist-packages/ipykernel_launcher.py:12: UserWarning: Update your `Conv2D` call to the Keras 2 API: `Conv2D(20, (3, 3), activation=\"relu\")`\n",
            "  if sys.path[0] == '':\n",
            "/usr/local/lib/python3.6/dist-packages/ipykernel_launcher.py:17: UserWarning: Update your `Conv2D` call to the Keras 2 API: `Conv2D(10, (1, 1), activation=\"relu\")`\n",
            "/usr/local/lib/python3.6/dist-packages/ipykernel_launcher.py:20: UserWarning: Update your `Conv2D` call to the Keras 2 API: `Conv2D(15, (3, 3), activation=\"relu\")`\n",
            "/usr/local/lib/python3.6/dist-packages/ipykernel_launcher.py:23: UserWarning: Update your `Conv2D` call to the Keras 2 API: `Conv2D(20, (3, 3), activation=\"relu\")`\n"
          ],
          "name": "stderr"
        }
      ]
    },
    {
      "cell_type": "code",
      "metadata": {
        "id": "TzdAYg1k9K7Z",
        "colab_type": "code",
        "outputId": "1a41e8f8-908c-4b6b-b681-9aa806cf2648",
        "colab": {
          "base_uri": "https://localhost:8080/",
          "height": 959
        }
      },
      "source": [
        "model.summary()"
      ],
      "execution_count": 252,
      "outputs": [
        {
          "output_type": "stream",
          "text": [
            "_________________________________________________________________\n",
            "Layer (type)                 Output Shape              Param #   \n",
            "=================================================================\n",
            "conv2d_129 (Conv2D)          (None, 26, 26, 10)        100       \n",
            "_________________________________________________________________\n",
            "batch_normalization_113 (Bat (None, 26, 26, 10)        40        \n",
            "_________________________________________________________________\n",
            "dropout_81 (Dropout)         (None, 26, 26, 10)        0         \n",
            "_________________________________________________________________\n",
            "conv2d_130 (Conv2D)          (None, 24, 24, 15)        1365      \n",
            "_________________________________________________________________\n",
            "batch_normalization_114 (Bat (None, 24, 24, 15)        60        \n",
            "_________________________________________________________________\n",
            "dropout_82 (Dropout)         (None, 24, 24, 15)        0         \n",
            "_________________________________________________________________\n",
            "conv2d_131 (Conv2D)          (None, 22, 22, 20)        2720      \n",
            "_________________________________________________________________\n",
            "batch_normalization_115 (Bat (None, 22, 22, 20)        80        \n",
            "_________________________________________________________________\n",
            "dropout_83 (Dropout)         (None, 22, 22, 20)        0         \n",
            "_________________________________________________________________\n",
            "max_pooling2d_17 (MaxPooling (None, 11, 11, 20)        0         \n",
            "_________________________________________________________________\n",
            "conv2d_132 (Conv2D)          (None, 11, 11, 10)        210       \n",
            "_________________________________________________________________\n",
            "batch_normalization_116 (Bat (None, 11, 11, 10)        40        \n",
            "_________________________________________________________________\n",
            "conv2d_133 (Conv2D)          (None, 9, 9, 15)          1365      \n",
            "_________________________________________________________________\n",
            "batch_normalization_117 (Bat (None, 9, 9, 15)          60        \n",
            "_________________________________________________________________\n",
            "dropout_84 (Dropout)         (None, 9, 9, 15)          0         \n",
            "_________________________________________________________________\n",
            "conv2d_134 (Conv2D)          (None, 7, 7, 20)          2720      \n",
            "_________________________________________________________________\n",
            "batch_normalization_118 (Bat (None, 7, 7, 20)          80        \n",
            "_________________________________________________________________\n",
            "dropout_85 (Dropout)         (None, 7, 7, 20)          0         \n",
            "_________________________________________________________________\n",
            "conv2d_135 (Conv2D)          (None, 7, 7, 10)          210       \n",
            "_________________________________________________________________\n",
            "batch_normalization_119 (Bat (None, 7, 7, 10)          40        \n",
            "_________________________________________________________________\n",
            "conv2d_136 (Conv2D)          (None, 1, 1, 10)          4910      \n",
            "_________________________________________________________________\n",
            "flatten_17 (Flatten)         (None, 10)                0         \n",
            "_________________________________________________________________\n",
            "activation_17 (Activation)   (None, 10)                0         \n",
            "=================================================================\n",
            "Total params: 14,000\n",
            "Trainable params: 13,800\n",
            "Non-trainable params: 200\n",
            "_________________________________________________________________\n"
          ],
          "name": "stdout"
        }
      ]
    },
    {
      "cell_type": "markdown",
      "metadata": {
        "id": "jgjr7giealAm",
        "colab_type": "text"
      },
      "source": [
        "### Learning rate Scheduler \n",
        "- This will allow our learning rate for optimizer Adam change per our defined function\n",
        "- our function \"scheduler\" below change learning reduce after every 5 epoch\n",
        "\n",
        "### Configures the model for training\n",
        "- loss as 'categorical_crossentropy' since we are dealing with multi-class classification\n",
        "- \"adam\" - Adaptive Moment Estimation one of the common/best gradient-based optimizer , with learning rate scheduler\n",
        "- \"accuracy\" as the model metrics"
      ]
    },
    {
      "cell_type": "code",
      "metadata": {
        "id": "Zp6SuGrL9M3h",
        "colab_type": "code",
        "colab": {}
      },
      "source": [
        "# configure model with above parameters\n",
        "\n",
        "from keras.optimizers import Adam\n",
        "from keras.callbacks import LearningRateScheduler\n",
        "\n",
        "def scheduler(epoch, lr):\n",
        "  return round(0.02 * 1/(1 + 0.319 * epoch), 5)\n",
        "\n",
        "model.compile(loss='categorical_crossentropy', optimizer=Adam(lr=0.001), metrics=['accuracy'])"
      ],
      "execution_count": 0,
      "outputs": []
    },
    {
      "cell_type": "markdown",
      "metadata": {
        "id": "Q1jRBDuPqS-5",
        "colab_type": "text"
      },
      "source": [
        "# Callbacks for model monitor during training and saving weights¶\n"
      ]
    },
    {
      "cell_type": "code",
      "metadata": {
        "id": "sLiieSeLqVkA",
        "colab_type": "code",
        "colab": {}
      },
      "source": [
        "from keras.callbacks import  ModelCheckpoint  # importing checkpoint\n",
        "\n",
        "filepath=\"/content/gdrive/My Drive/EVA_session_4-4_weights-improvement-{epoch:02d}-{val_acc:.2f}.hdf5\"                                  # filepath in google drive to save weights\n",
        "checkpoint = ModelCheckpoint(filepath, monitor='val_acc', verbose=1, save_best_only=True, mode='max',save_weights_only=True)    # checkpoint to monitor validation accuracy, and save which give max accuracy"
      ],
      "execution_count": 0,
      "outputs": []
    },
    {
      "cell_type": "markdown",
      "metadata": {
        "id": "e2No6pv2b0SP",
        "colab_type": "text"
      },
      "source": [
        "### Fit the model on Training set\n",
        "- batch_size=64 : sends 64 image in batch-wise and train model (feed-forward and backpropagation) 10 number of epoch : One epoch is when an entire dataset is passed both forward and backward through the neural network only once. verbose as 1 : show progress bar of the training with details\n",
        "\n",
        "- 30 epoch"
      ]
    },
    {
      "cell_type": "code",
      "metadata": {
        "id": "4xWoKhPY9Of5",
        "colab_type": "code",
        "outputId": "1bde62eb-0220-4e89-ef79-a4b1de182318",
        "colab": {
          "base_uri": "https://localhost:8080/",
          "height": 2221
        }
      },
      "source": [
        "# fit model with above notes along with checkpoint and  validation datasets\n",
        "\n",
        "model.fit(X_train, Y_train, batch_size=64, nb_epoch=30, verbose=1,\n",
        "         validation_data=(X_test, Y_test),\n",
        "         callbacks=[checkpoint])"
      ],
      "execution_count": 255,
      "outputs": [
        {
          "output_type": "stream",
          "text": [
            "/usr/local/lib/python3.6/dist-packages/ipykernel_launcher.py:3: UserWarning: The `nb_epoch` argument in `fit` has been renamed `epochs`.\n",
            "  This is separate from the ipykernel package so we can avoid doing imports until\n"
          ],
          "name": "stderr"
        },
        {
          "output_type": "stream",
          "text": [
            "Train on 60000 samples, validate on 10000 samples\n",
            "Epoch 1/30\n",
            "60000/60000 [==============================] - 20s 335us/step - loss: 0.2310 - acc: 0.9275 - val_loss: 0.0486 - val_acc: 0.9852\n",
            "\n",
            "Epoch 00001: val_acc improved from -inf to 0.98520, saving model to /content/gdrive/My Drive/EVA_session_4-4_weights-improvement-01-0.99.hdf5\n",
            "Epoch 2/30\n",
            "60000/60000 [==============================] - 13s 214us/step - loss: 0.0633 - acc: 0.9812 - val_loss: 0.0481 - val_acc: 0.9845\n",
            "\n",
            "Epoch 00002: val_acc did not improve from 0.98520\n",
            "Epoch 3/30\n",
            "60000/60000 [==============================] - 13s 214us/step - loss: 0.0496 - acc: 0.9839 - val_loss: 0.0288 - val_acc: 0.9904\n",
            "\n",
            "Epoch 00003: val_acc improved from 0.98520 to 0.99040, saving model to /content/gdrive/My Drive/EVA_session_4-4_weights-improvement-03-0.99.hdf5\n",
            "Epoch 4/30\n",
            "60000/60000 [==============================] - 14s 233us/step - loss: 0.0421 - acc: 0.9867 - val_loss: 0.0327 - val_acc: 0.9886\n",
            "\n",
            "Epoch 00004: val_acc did not improve from 0.99040\n",
            "Epoch 5/30\n",
            "60000/60000 [==============================] - 13s 213us/step - loss: 0.0374 - acc: 0.9882 - val_loss: 0.0267 - val_acc: 0.9912\n",
            "\n",
            "Epoch 00005: val_acc improved from 0.99040 to 0.99120, saving model to /content/gdrive/My Drive/EVA_session_4-4_weights-improvement-05-0.99.hdf5\n",
            "Epoch 6/30\n",
            "60000/60000 [==============================] - 13s 213us/step - loss: 0.0340 - acc: 0.9893 - val_loss: 0.0258 - val_acc: 0.9917\n",
            "\n",
            "Epoch 00006: val_acc improved from 0.99120 to 0.99170, saving model to /content/gdrive/My Drive/EVA_session_4-4_weights-improvement-06-0.99.hdf5\n",
            "Epoch 7/30\n",
            "60000/60000 [==============================] - 13s 213us/step - loss: 0.0299 - acc: 0.9903 - val_loss: 0.0362 - val_acc: 0.9885\n",
            "\n",
            "Epoch 00007: val_acc did not improve from 0.99170\n",
            "Epoch 8/30\n",
            "60000/60000 [==============================] - 13s 213us/step - loss: 0.0282 - acc: 0.9911 - val_loss: 0.0334 - val_acc: 0.9901\n",
            "\n",
            "Epoch 00008: val_acc did not improve from 0.99170\n",
            "Epoch 9/30\n",
            "60000/60000 [==============================] - 13s 212us/step - loss: 0.0265 - acc: 0.9915 - val_loss: 0.0251 - val_acc: 0.9921\n",
            "\n",
            "Epoch 00009: val_acc improved from 0.99170 to 0.99210, saving model to /content/gdrive/My Drive/EVA_session_4-4_weights-improvement-09-0.99.hdf5\n",
            "Epoch 10/30\n",
            "60000/60000 [==============================] - 14s 233us/step - loss: 0.0245 - acc: 0.9917 - val_loss: 0.0248 - val_acc: 0.9927\n",
            "\n",
            "Epoch 00010: val_acc improved from 0.99210 to 0.99270, saving model to /content/gdrive/My Drive/EVA_session_4-4_weights-improvement-10-0.99.hdf5\n",
            "Epoch 11/30\n",
            "60000/60000 [==============================] - 13s 214us/step - loss: 0.0251 - acc: 0.9920 - val_loss: 0.0256 - val_acc: 0.9917\n",
            "\n",
            "Epoch 00011: val_acc did not improve from 0.99270\n",
            "Epoch 12/30\n",
            "60000/60000 [==============================] - 13s 214us/step - loss: 0.0239 - acc: 0.9922 - val_loss: 0.0245 - val_acc: 0.9926\n",
            "\n",
            "Epoch 00012: val_acc did not improve from 0.99270\n",
            "Epoch 13/30\n",
            "60000/60000 [==============================] - 13s 224us/step - loss: 0.0229 - acc: 0.9925 - val_loss: 0.0233 - val_acc: 0.9928\n",
            "\n",
            "Epoch 00013: val_acc improved from 0.99270 to 0.99280, saving model to /content/gdrive/My Drive/EVA_session_4-4_weights-improvement-13-0.99.hdf5\n",
            "Epoch 14/30\n",
            "60000/60000 [==============================] - 13s 213us/step - loss: 0.0215 - acc: 0.9928 - val_loss: 0.0210 - val_acc: 0.9940\n",
            "\n",
            "Epoch 00014: val_acc improved from 0.99280 to 0.99400, saving model to /content/gdrive/My Drive/EVA_session_4-4_weights-improvement-14-0.99.hdf5\n",
            "Epoch 15/30\n",
            "60000/60000 [==============================] - 13s 213us/step - loss: 0.0199 - acc: 0.9935 - val_loss: 0.0215 - val_acc: 0.9938\n",
            "\n",
            "Epoch 00015: val_acc did not improve from 0.99400\n",
            "Epoch 16/30\n",
            "60000/60000 [==============================] - 14s 234us/step - loss: 0.0180 - acc: 0.9941 - val_loss: 0.0254 - val_acc: 0.9923\n",
            "\n",
            "Epoch 00016: val_acc did not improve from 0.99400\n",
            "Epoch 17/30\n",
            "60000/60000 [==============================] - 13s 213us/step - loss: 0.0189 - acc: 0.9940 - val_loss: 0.0229 - val_acc: 0.9936\n",
            "\n",
            "Epoch 00017: val_acc did not improve from 0.99400\n",
            "Epoch 18/30\n",
            "60000/60000 [==============================] - 13s 212us/step - loss: 0.0179 - acc: 0.9938 - val_loss: 0.0214 - val_acc: 0.9939\n",
            "\n",
            "Epoch 00018: val_acc did not improve from 0.99400\n",
            "Epoch 19/30\n",
            "60000/60000 [==============================] - 14s 237us/step - loss: 0.0167 - acc: 0.9943 - val_loss: 0.0240 - val_acc: 0.9938\n",
            "\n",
            "Epoch 00019: val_acc did not improve from 0.99400\n",
            "Epoch 20/30\n",
            "60000/60000 [==============================] - 13s 214us/step - loss: 0.0163 - acc: 0.9945 - val_loss: 0.0250 - val_acc: 0.9933\n",
            "\n",
            "Epoch 00020: val_acc did not improve from 0.99400\n",
            "Epoch 21/30\n",
            "60000/60000 [==============================] - 13s 213us/step - loss: 0.0162 - acc: 0.9944 - val_loss: 0.0234 - val_acc: 0.9930\n",
            "\n",
            "Epoch 00021: val_acc did not improve from 0.99400\n",
            "Epoch 22/30\n",
            "60000/60000 [==============================] - 14s 231us/step - loss: 0.0147 - acc: 0.9949 - val_loss: 0.0254 - val_acc: 0.9926\n",
            "\n",
            "Epoch 00022: val_acc did not improve from 0.99400\n",
            "Epoch 23/30\n",
            "60000/60000 [==============================] - 13s 215us/step - loss: 0.0148 - acc: 0.9950 - val_loss: 0.0252 - val_acc: 0.9928\n",
            "\n",
            "Epoch 00023: val_acc did not improve from 0.99400\n",
            "Epoch 24/30\n",
            "60000/60000 [==============================] - 13s 213us/step - loss: 0.0133 - acc: 0.9956 - val_loss: 0.0239 - val_acc: 0.9935\n",
            "\n",
            "Epoch 00024: val_acc did not improve from 0.99400\n",
            "Epoch 25/30\n",
            "60000/60000 [==============================] - 13s 213us/step - loss: 0.0154 - acc: 0.9947 - val_loss: 0.0270 - val_acc: 0.9931\n",
            "\n",
            "Epoch 00025: val_acc did not improve from 0.99400\n",
            "Epoch 26/30\n",
            "60000/60000 [==============================] - 13s 213us/step - loss: 0.0149 - acc: 0.9948 - val_loss: 0.0320 - val_acc: 0.9913\n",
            "\n",
            "Epoch 00026: val_acc did not improve from 0.99400\n",
            "Epoch 27/30\n",
            "60000/60000 [==============================] - 13s 212us/step - loss: 0.0128 - acc: 0.9955 - val_loss: 0.0264 - val_acc: 0.9927\n",
            "\n",
            "Epoch 00027: val_acc did not improve from 0.99400\n",
            "Epoch 28/30\n",
            "60000/60000 [==============================] - 13s 225us/step - loss: 0.0137 - acc: 0.9952 - val_loss: 0.0296 - val_acc: 0.9919\n",
            "\n",
            "Epoch 00028: val_acc did not improve from 0.99400\n",
            "Epoch 29/30\n",
            "60000/60000 [==============================] - 13s 220us/step - loss: 0.0135 - acc: 0.9956 - val_loss: 0.0294 - val_acc: 0.9918\n",
            "\n",
            "Epoch 00029: val_acc did not improve from 0.99400\n",
            "Epoch 30/30\n",
            "60000/60000 [==============================] - 13s 214us/step - loss: 0.0130 - acc: 0.9955 - val_loss: 0.0251 - val_acc: 0.9931\n",
            "\n",
            "Epoch 00030: val_acc did not improve from 0.99400\n"
          ],
          "name": "stdout"
        },
        {
          "output_type": "execute_result",
          "data": {
            "text/plain": [
              "<keras.callbacks.History at 0x7efb2f44a710>"
            ]
          },
          "metadata": {
            "tags": []
          },
          "execution_count": 255
        }
      ]
    },
    {
      "cell_type": "markdown",
      "metadata": {
        "id": "0E3dKPfRcFL5",
        "colab_type": "text"
      },
      "source": [
        "### Model evaluation¶\n",
        "Please note that predict is a part of model evaluation. Only after we predict, one can used prediction value to evalute our metrics, say \"accuracy"
      ]
    },
    {
      "cell_type": "code",
      "metadata": {
        "id": "j_pV4CvcrzOa",
        "colab_type": "code",
        "colab": {}
      },
      "source": [
        "model.load_weights('/content/gdrive/My Drive/EVA_session_4-4_weights-improvement-14-0.99.hdf5')  # load weight which give max accuracy in above training"
      ],
      "execution_count": 0,
      "outputs": []
    },
    {
      "cell_type": "code",
      "metadata": {
        "id": "AtsH-lLk-eLb",
        "colab_type": "code",
        "colab": {}
      },
      "source": [
        "score = model.evaluate(X_test, Y_test, verbose=0) # Use trained model and predict on test set , then finally score metrics. We have given \"accuracy\" as our metrics"
      ],
      "execution_count": 0,
      "outputs": []
    },
    {
      "cell_type": "code",
      "metadata": {
        "id": "mkX8JMv79q9r",
        "colab_type": "code",
        "outputId": "43626f35-f597-4606-f250-c4254d83a100",
        "colab": {
          "base_uri": "https://localhost:8080/",
          "height": 35
        }
      },
      "source": [
        "print(score)  # print validation score"
      ],
      "execution_count": 258,
      "outputs": [
        {
          "output_type": "stream",
          "text": [
            "[0.02099271324053043, 0.994]\n"
          ],
          "name": "stdout"
        }
      ]
    },
    {
      "cell_type": "code",
      "metadata": {
        "id": "OCWoJkwE9suh",
        "colab_type": "code",
        "colab": {}
      },
      "source": [
        "y_pred = model.predict(X_test)  # used trained model to predict class"
      ],
      "execution_count": 0,
      "outputs": []
    },
    {
      "cell_type": "code",
      "metadata": {
        "id": "Ym7iCFBm9uBs",
        "colab_type": "code",
        "outputId": "cfe2f50d-ec1a-43b3-b600-e88fa365dc11",
        "colab": {
          "base_uri": "https://localhost:8080/",
          "height": 515
        }
      },
      "source": [
        "print(y_pred[:9])    # first 9 prediction\n",
        "print(y_test[:9])     # actual 9 target class"
      ],
      "execution_count": 260,
      "outputs": [
        {
          "output_type": "stream",
          "text": [
            "[[5.20881838e-10 2.21902045e-11 2.82327695e-09 3.17371018e-08\n",
            "  4.96450957e-14 8.31912456e-11 1.01584450e-15 1.00000000e+00\n",
            "  1.86196192e-13 4.12667731e-08]\n",
            " [4.81559947e-09 1.16330803e-08 1.00000000e+00 1.16215084e-11\n",
            "  3.17406062e-12 7.48262553e-17 9.67991465e-09 1.25061298e-13\n",
            "  2.54121932e-11 2.66019368e-12]\n",
            " [2.28795538e-09 9.99990225e-01 6.80119342e-07 1.66889969e-08\n",
            "  4.86634008e-07 1.69867278e-07 1.83407053e-07 7.90510785e-06\n",
            "  8.82661908e-08 3.00229118e-07]\n",
            " [9.99675632e-01 2.86237679e-12 1.94403810e-07 1.25934090e-08\n",
            "  2.19278928e-09 1.03605313e-09 3.22578882e-04 1.64922287e-09\n",
            "  1.52059295e-06 3.22601146e-09]\n",
            " [4.94447487e-14 3.50008945e-11 1.63799974e-09 6.51800376e-16\n",
            "  9.99999762e-01 3.43575944e-14 1.69674413e-11 7.57977778e-11\n",
            "  2.71611900e-12 2.72087021e-07]\n",
            " [5.04257747e-09 9.99984860e-01 4.42564169e-06 1.67326930e-09\n",
            "  8.63631271e-07 5.50307910e-10 9.79125492e-09 9.08605034e-06\n",
            "  9.35809865e-08 6.66935534e-07]\n",
            " [3.32428096e-15 2.89113888e-08 1.57923917e-11 6.43909906e-14\n",
            "  9.99997616e-01 1.08998730e-11 1.57217329e-11 2.17256013e-09\n",
            "  3.17951447e-07 2.10294525e-06]\n",
            " [1.28699690e-11 2.35813695e-11 9.26965793e-09 5.74272678e-11\n",
            "  9.76236242e-06 1.97328334e-11 3.33508151e-13 4.46033965e-09\n",
            "  3.56060106e-08 9.99990225e-01]\n",
            " [3.00773663e-05 5.93880457e-12 1.00361234e-07 2.58689177e-08\n",
            "  3.84528409e-09 9.02588308e-01 9.71007943e-02 1.92900318e-09\n",
            "  2.79025262e-04 1.54965846e-06]]\n",
            "[7 2 1 0 4 1 4 9 5]\n"
          ],
          "name": "stdout"
        }
      ]
    },
    {
      "cell_type": "markdown",
      "metadata": {
        "id": "f9iECFS8cTzW",
        "colab_type": "text"
      },
      "source": [
        "# Visualization\n"
      ]
    },
    {
      "cell_type": "code",
      "metadata": {
        "id": "CT--y98_dr2T",
        "colab_type": "code",
        "colab": {}
      },
      "source": [
        "layer_dict = dict([(layer.name, layer) for layer in model.layers])"
      ],
      "execution_count": 0,
      "outputs": []
    },
    {
      "cell_type": "code",
      "metadata": {
        "id": "2GY4Upv4dsUR",
        "colab_type": "code",
        "outputId": "07eec6eb-cd22-4120-caa6-09dc800d66dd",
        "colab": {
          "base_uri": "https://localhost:8080/",
          "height": 741
        }
      },
      "source": [
        "import numpy as np\n",
        "from matplotlib import pyplot as plt\n",
        "from keras import backend as K\n",
        "%matplotlib inline\n",
        "# util function to convert a tensor into a valid image\n",
        "def deprocess_image(x):\n",
        "    # normalize tensor: center on 0., ensure std is 0.1\n",
        "    x -= x.mean()\n",
        "    x /= (x.std() + 1e-5)\n",
        "    x *= 0.1\n",
        "\n",
        "    # clip to [0, 1]\n",
        "    x += 0.5\n",
        "    x = np.clip(x, 0, 1)\n",
        "\n",
        "    # convert to RGB array\n",
        "    x *= 255\n",
        "    #x = x.transpose((1, 2, 0))\n",
        "    x = np.clip(x, 0, 255).astype('uint8')\n",
        "    return x\n",
        "\n",
        "def vis_img_in_filter(img = np.array(X_train[2]).reshape((1, 28, 28, 1)).astype(np.float64), \n",
        "                      layer_name = 'conv2d_131'):\n",
        "    layer_output = layer_dict[layer_name].output\n",
        "    img_ascs = list()\n",
        "    for filter_index in range(layer_output.shape[3]):\n",
        "        # build a loss function that maximizes the activation\n",
        "        # of the nth filter of the layer considered\n",
        "        loss = K.mean(layer_output[:, :, :, filter_index])\n",
        "\n",
        "        # compute the gradient of the input picture wrt this loss\n",
        "        grads = K.gradients(loss, model.input)[0]\n",
        "\n",
        "        # normalization trick: we normalize the gradient\n",
        "        grads /= (K.sqrt(K.mean(K.square(grads))) + 1e-5)\n",
        "\n",
        "        # this function returns the loss and grads given the input picture\n",
        "        iterate = K.function([model.input], [loss, grads])\n",
        "\n",
        "        # step size for gradient ascent\n",
        "        step = 5.\n",
        "\n",
        "        img_asc = np.array(img)\n",
        "        # run gradient ascent for 20 steps\n",
        "        for i in range(20):\n",
        "            loss_value, grads_value = iterate([img_asc])\n",
        "            img_asc += grads_value * step\n",
        "\n",
        "        img_asc = img_asc[0]\n",
        "        img_ascs.append(deprocess_image(img_asc).reshape((28, 28)))\n",
        "        \n",
        "    if layer_output.shape[3] >= 35:\n",
        "        plot_x, plot_y = 6, 6\n",
        "    elif layer_output.shape[3] >= 23:\n",
        "        plot_x, plot_y = 4, 6\n",
        "    elif layer_output.shape[3] >= 11:\n",
        "        plot_x, plot_y = 2, 6\n",
        "    else:\n",
        "        plot_x, plot_y = 1, 2\n",
        "    fig, ax = plt.subplots(plot_x, plot_y, figsize = (12, 12))\n",
        "    ax[0, 0].imshow(img.reshape((28, 28)), cmap = 'gray')\n",
        "    ax[0, 0].set_title('Input image')\n",
        "    fig.suptitle('Input image and %s filters' % (layer_name,))\n",
        "    fig.tight_layout(pad = 0.3, rect = [0, 0, 0.9, 0.9])\n",
        "    for (x, y) in [(i, j) for i in range(plot_x) for j in range(plot_y)]:\n",
        "        if x == 0 and y == 0:\n",
        "            continue\n",
        "        ax[x, y].imshow(img_ascs[x * plot_y + y - 1], cmap = 'gray')\n",
        "        ax[x, y].set_title('filter %d' % (x * plot_y + y - 1))\n",
        "\n",
        "vis_img_in_filter()"
      ],
      "execution_count": 262,
      "outputs": [
        {
          "output_type": "display_data",
          "data": {
            "image/png": "[encoded data removed]",
            "text/plain": [
              "<Figure size 864x864 with 12 Axes>"
            ]
          },
          "metadata": {
            "tags": []
          }
        }
      ]
    },
    {
      "cell_type": "code",
      "metadata": {
        "id": "9tvptcn8dxvp",
        "colab_type": "code",
        "colab": {}
      },
      "source": [
        ""
      ],
      "execution_count": 0,
      "outputs": []
    }
  ]
}