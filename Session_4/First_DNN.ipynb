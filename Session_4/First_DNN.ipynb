{
  "nbformat": 4,
  "nbformat_minor": 0,
  "metadata": {
    "colab": {
      "name": "First DNN.ipynb",
      "version": "0.3.2",
      "provenance": [],
      "collapsed_sections": []
    },
    "kernelspec": {
      "name": "python3",
      "display_name": "Python 3"
    },
    "accelerator": "GPU"
  },
  "cells": [
    {
      "cell_type": "markdown",
      "metadata": {
        "id": "_bw5T8BQckck",
        "colab_type": "text"
      },
      "source": [
        "# Vanilla network\n",
        "\n",
        "Here we create a Vanilla network which has no:\n",
        "- No  BN, DropOut, LR, larger batch size, change in Optimizer, etc\n",
        "- Such that our parameter is within 15k \n",
        "- we would be imporving network further to acheived 99.4% validation accuracy"
      ]
    },
    {
      "cell_type": "markdown",
      "metadata": {
        "id": "aNyZv-Ec52ot",
        "colab_type": "text"
      },
      "source": [
        "# **Import Libraries and modules**"
      ]
    },
    {
      "cell_type": "code",
      "metadata": {
        "id": "3m3w1Cw49Zkt",
        "colab_type": "code",
        "colab": {}
      },
      "source": [
        "# https://keras.io/\n",
        "!pip install -q keras  # intalled keras\n",
        "import keras           # import keras"
      ],
      "execution_count": 0,
      "outputs": []
    },
    {
      "cell_type": "code",
      "metadata": {
        "id": "Eso6UHE080D4",
        "colab_type": "code",
        "colab": {}
      },
      "source": [
        "import numpy as np     # import numpy for numerical calculation\n",
        "\n",
        "from keras.models import Sequential                                   # import keras` Sequential model which is a linear stack of layers.\n",
        "from keras.layers import Dense, Dropout, Activation, Flatten, Add     # importing : Dense - for fullconnected layers , Dropout : for dropout , Activation: activation function, \n",
        "                                                                      # Flatten : for converting n-dimensional array to 1-D array , Add : for adding layers\n",
        "from keras.layers import Convolution2D, MaxPooling2D                  # importing convolution and maxpooling function\n",
        "from keras.utils import np_utils                                      # from keras.utils import np_utils which is a separate package (and a keras dependency - which doesn't get install with it)\n",
        "\n",
        "from keras.datasets import mnist                                      # from keras.datasets, importing mnist dataset"
      ],
      "execution_count": 0,
      "outputs": []
    },
    {
      "cell_type": "markdown",
      "metadata": {
        "id": "zByEi95J86RD",
        "colab_type": "text"
      },
      "source": [
        "### Load pre-shuffled MNIST data into train and test sets"
      ]
    },
    {
      "cell_type": "code",
      "metadata": {
        "id": "7eRM0QWN83PV",
        "colab_type": "code",
        "colab": {}
      },
      "source": [
        "(X_train, y_train), (X_test, y_test) = mnist.load_data()                # Load mnist and make  tuple pair of train and test"
      ],
      "execution_count": 0,
      "outputs": []
    },
    {
      "cell_type": "code",
      "metadata": {
        "id": "4a4Be72j8-ZC",
        "colab_type": "code",
        "outputId": "97ee312e-0dfd-4028-ce0d-9b6d5a65ea7d",
        "colab": {
          "base_uri": "https://localhost:8080/",
          "height": 305
        }
      },
      "source": [
        "print (X_train.shape)                                                 # printing dimension of X_train. Total 60k of 2-Dimension 28x28 image\n",
        "from matplotlib import pyplot as plt                                  # import pyplot as plt from matplotlib, used for plotting\n",
        "%matplotlib inline                                                    # matplotlib magic command to show static plot right below our code\n",
        "plt.imshow(X_train[0])                                                 # display first image in our training data"
      ],
      "execution_count": 49,
      "outputs": [
        {
          "output_type": "stream",
          "text": [
            "(60000, 28, 28)\n"
          ],
          "name": "stdout"
        },
        {
          "output_type": "execute_result",
          "data": {
            "text/plain": [
              "<matplotlib.image.AxesImage at 0x7f58cd3d2710>"
            ]
          },
          "metadata": {
            "tags": []
          },
          "execution_count": 49
        },
        {
          "output_type": "display_data",
          "data": {
            "image/png": "[encoded data removed]",
            "text/plain": [
              "<Figure size 432x288 with 1 Axes>"
            ]
          },
          "metadata": {
            "tags": []
          }
        }
      ]
    },
    {
      "cell_type": "markdown",
      "metadata": {
        "id": "6S-u8bTvTKqu",
        "colab_type": "text"
      },
      "source": [
        "### Reshaping image because The Convolution2D layers in Keras are designed to work with 3 dimensions per example"
      ]
    },
    {
      "cell_type": "code",
      "metadata": {
        "id": "dkmprriw9AnZ",
        "colab_type": "code",
        "colab": {}
      },
      "source": [
        "X_train = X_train.reshape(X_train.shape[0], 28, 28,1)          # reshaping 28x28x1 dimensions for all 60k images\n",
        "X_test = X_test.reshape(X_test.shape[0], 28, 28,1)              # reshaping 28x28x1 dimensions for all 10k images"
      ],
      "execution_count": 0,
      "outputs": []
    },
    {
      "cell_type": "markdown",
      "metadata": {
        "id": "eUgfFTU-TX47",
        "colab_type": "text"
      },
      "source": [
        "### Change numpy array data types and Scaled\n",
        "Currently it has \"uint8\" i.e. Unsigned integer (0 to 255).\n",
        "\n",
        "Scaled ? Since we used Gradient Descent, for faster convergence we required number to be scaled."
      ]
    },
    {
      "cell_type": "code",
      "metadata": {
        "id": "X2m4YS4E9CRh",
        "colab_type": "code",
        "colab": {}
      },
      "source": [
        "X_train = X_train.astype('float32')        # changed array’s data-type to float32\n",
        "X_test = X_test.astype('float32')          # same as above\n",
        "\n",
        "# scale the pixel intensities down to the 0-1 range by dividing them by 255 which is the max value\n",
        "X_train /= 255\n",
        "X_test /= 255"
      ],
      "execution_count": 0,
      "outputs": []
    },
    {
      "cell_type": "markdown",
      "metadata": {
        "id": "VPu05te3TkNB",
        "colab_type": "text"
      },
      "source": [
        "### One-hot vector labels of target variable"
      ]
    },
    {
      "cell_type": "code",
      "metadata": {
        "id": "0Mn0vAYD9DvB",
        "colab_type": "code",
        "outputId": "e6e4777c-ce8f-4907-979e-56daef1b394f",
        "colab": {
          "base_uri": "https://localhost:8080/",
          "height": 35
        }
      },
      "source": [
        "y_train[:10]           # checking first 10 digits label (target variable)"
      ],
      "execution_count": 52,
      "outputs": [
        {
          "output_type": "execute_result",
          "data": {
            "text/plain": [
              "array([5, 0, 4, 1, 9, 2, 1, 3, 1, 4], dtype=uint8)"
            ]
          },
          "metadata": {
            "tags": []
          },
          "execution_count": 52
        }
      ]
    },
    {
      "cell_type": "code",
      "metadata": {
        "id": "ZG8JiXR39FHC",
        "colab_type": "code",
        "colab": {}
      },
      "source": [
        "# Convert 1-dimensional class arrays to 10-dimensional class matrices\n",
        "Y_train = np_utils.to_categorical(y_train, 10)\n",
        "Y_test = np_utils.to_categorical(y_test, 10)"
      ],
      "execution_count": 0,
      "outputs": []
    },
    {
      "cell_type": "code",
      "metadata": {
        "id": "fYlFRvKS9HMB",
        "colab_type": "code",
        "outputId": "59034154-ac74-46a6-e9d7-7f75171456ef",
        "colab": {
          "base_uri": "https://localhost:8080/",
          "height": 195
        }
      },
      "source": [
        "Y_train[:10]     # the first 10 class` array, compare the position of 1 (count starts from 0) in below and our y_train[:10] values. These two are same!!\n"
      ],
      "execution_count": 54,
      "outputs": [
        {
          "output_type": "execute_result",
          "data": {
            "text/plain": [
              "array([[0., 0., 0., 0., 0., 1., 0., 0., 0., 0.],\n",
              "       [1., 0., 0., 0., 0., 0., 0., 0., 0., 0.],\n",
              "       [0., 0., 0., 0., 1., 0., 0., 0., 0., 0.],\n",
              "       [0., 1., 0., 0., 0., 0., 0., 0., 0., 0.],\n",
              "       [0., 0., 0., 0., 0., 0., 0., 0., 0., 1.],\n",
              "       [0., 0., 1., 0., 0., 0., 0., 0., 0., 0.],\n",
              "       [0., 1., 0., 0., 0., 0., 0., 0., 0., 0.],\n",
              "       [0., 0., 0., 1., 0., 0., 0., 0., 0., 0.],\n",
              "       [0., 1., 0., 0., 0., 0., 0., 0., 0., 0.],\n",
              "       [0., 0., 0., 0., 1., 0., 0., 0., 0., 0.]], dtype=float32)"
            ]
          },
          "metadata": {
            "tags": []
          },
          "execution_count": 54
        }
      ]
    },
    {
      "cell_type": "markdown",
      "metadata": {
        "id": "781ZPczYp6ga",
        "colab_type": "text"
      },
      "source": [
        "# Import google colab drive and user authentication¶\n"
      ]
    },
    {
      "cell_type": "code",
      "metadata": {
        "id": "vWWJznGQp2tL",
        "colab_type": "code",
        "colab": {
          "base_uri": "https://localhost:8080/",
          "height": 35
        },
        "outputId": "11bac661-6662-4834-d3d5-68be865a75b6"
      },
      "source": [
        "from google.colab import drive\n",
        "drive.mount('/content/gdrive')\n",
        "\n",
        "!pip install -U -q PyDrive\n",
        "from pydrive.auth import GoogleAuth\n",
        "from pydrive.drive import GoogleDrive\n",
        "from google.colab import auth\n",
        "from oauth2client.client import GoogleCredentials \n",
        "\n",
        "\n",
        "# 1. Authenticate and create the PyDrive client.\n",
        "auth.authenticate_user()\n",
        "gauth = GoogleAuth()\n",
        "gauth.credentials = GoogleCredentials.get_application_default()\n",
        "drive = GoogleDrive(gauth)"
      ],
      "execution_count": 55,
      "outputs": [
        {
          "output_type": "stream",
          "text": [
            "Drive already mounted at /content/gdrive; to attempt to forcibly remount, call drive.mount(\"/content/gdrive\", force_remount=True).\n"
          ],
          "name": "stdout"
        }
      ]
    },
    {
      "cell_type": "markdown",
      "metadata": {
        "id": "f46x0_KkTyB1",
        "colab_type": "text"
      },
      "source": [
        "# Defining model"
      ]
    },
    {
      "cell_type": "code",
      "metadata": {
        "id": "osKqT73Q9JJB",
        "colab_type": "code",
        "outputId": "81af3725-2810-4d57-bc66-018c2f0f9076",
        "colab": {
          "base_uri": "https://localhost:8080/",
          "height": 230
        }
      },
      "source": [
        "from keras.layers import Activation                            # importing \"Activation\"\n",
        "model = Sequential()                                            # initiate keras` Sequential model \n",
        "\n",
        " \n",
        "model.add(Convolution2D(10, 3, 3, activation='relu', input_shape=(28,28,1))) # 26\n",
        "\n",
        "model.add(Convolution2D(10, 3, 3, activation='relu')) # 24\n",
        "model.add(Convolution2D(20, 3, 3, activation='relu')) # 22\n",
        "\n",
        "model.add(MaxPooling2D(pool_size=(2, 2))) # 11\n",
        "model.add(Convolution2D(10, 1, 1, activation='relu')) # 11\n",
        "\n",
        "model.add(Convolution2D(10, 3, 3, activation='relu')) # 9\n",
        "model.add(Convolution2D(20, 3, 3, activation='relu')) # 7\n",
        "\n",
        "model.add(Convolution2D(10, 1, activation='relu')) #7\n",
        "model.add(Convolution2D(10, 7))\n",
        "model.add(Flatten())\n",
        "model.add(Activation('softmax'))"
      ],
      "execution_count": 56,
      "outputs": [
        {
          "output_type": "stream",
          "text": [
            "/usr/local/lib/python3.6/dist-packages/ipykernel_launcher.py:5: UserWarning: Update your `Conv2D` call to the Keras 2 API: `Conv2D(10, (3, 3), activation=\"relu\", input_shape=(28, 28, 1...)`\n",
            "  \"\"\"\n",
            "/usr/local/lib/python3.6/dist-packages/ipykernel_launcher.py:7: UserWarning: Update your `Conv2D` call to the Keras 2 API: `Conv2D(10, (3, 3), activation=\"relu\")`\n",
            "  import sys\n",
            "/usr/local/lib/python3.6/dist-packages/ipykernel_launcher.py:8: UserWarning: Update your `Conv2D` call to the Keras 2 API: `Conv2D(20, (3, 3), activation=\"relu\")`\n",
            "  \n",
            "/usr/local/lib/python3.6/dist-packages/ipykernel_launcher.py:11: UserWarning: Update your `Conv2D` call to the Keras 2 API: `Conv2D(10, (1, 1), activation=\"relu\")`\n",
            "  # This is added back by InteractiveShellApp.init_path()\n",
            "/usr/local/lib/python3.6/dist-packages/ipykernel_launcher.py:13: UserWarning: Update your `Conv2D` call to the Keras 2 API: `Conv2D(10, (3, 3), activation=\"relu\")`\n",
            "  del sys.path[0]\n",
            "/usr/local/lib/python3.6/dist-packages/ipykernel_launcher.py:14: UserWarning: Update your `Conv2D` call to the Keras 2 API: `Conv2D(20, (3, 3), activation=\"relu\")`\n",
            "  \n"
          ],
          "name": "stderr"
        }
      ]
    },
    {
      "cell_type": "code",
      "metadata": {
        "id": "TzdAYg1k9K7Z",
        "colab_type": "code",
        "outputId": "2f7e7fd1-4ba6-4d5b-b4f0-8ded91494bfd",
        "colab": {
          "base_uri": "https://localhost:8080/",
          "height": 532
        }
      },
      "source": [
        "model.summary()"
      ],
      "execution_count": 57,
      "outputs": [
        {
          "output_type": "stream",
          "text": [
            "_________________________________________________________________\n",
            "Layer (type)                 Output Shape              Param #   \n",
            "=================================================================\n",
            "conv2d_25 (Conv2D)           (None, 26, 26, 10)        100       \n",
            "_________________________________________________________________\n",
            "conv2d_26 (Conv2D)           (None, 24, 24, 10)        910       \n",
            "_________________________________________________________________\n",
            "conv2d_27 (Conv2D)           (None, 22, 22, 20)        1820      \n",
            "_________________________________________________________________\n",
            "max_pooling2d_4 (MaxPooling2 (None, 11, 11, 20)        0         \n",
            "_________________________________________________________________\n",
            "conv2d_28 (Conv2D)           (None, 11, 11, 10)        210       \n",
            "_________________________________________________________________\n",
            "conv2d_29 (Conv2D)           (None, 9, 9, 10)          910       \n",
            "_________________________________________________________________\n",
            "conv2d_30 (Conv2D)           (None, 7, 7, 20)          1820      \n",
            "_________________________________________________________________\n",
            "conv2d_31 (Conv2D)           (None, 7, 7, 10)          210       \n",
            "_________________________________________________________________\n",
            "conv2d_32 (Conv2D)           (None, 1, 1, 10)          4910      \n",
            "_________________________________________________________________\n",
            "flatten_4 (Flatten)          (None, 10)                0         \n",
            "_________________________________________________________________\n",
            "activation_4 (Activation)    (None, 10)                0         \n",
            "=================================================================\n",
            "Total params: 10,890\n",
            "Trainable params: 10,890\n",
            "Non-trainable params: 0\n",
            "_________________________________________________________________\n"
          ],
          "name": "stdout"
        }
      ]
    },
    {
      "cell_type": "markdown",
      "metadata": {
        "id": "IcOgFtbzUBzi",
        "colab_type": "text"
      },
      "source": [
        "### Configures the model for training.\n",
        "- loss as 'categorical_crossentropy' since we are dealing with multi-class classification\n",
        "- \"adam\" - Adaptive Moment Estimation one of the common/best gradient-based optimizer\n",
        "- \"accuracy\" as the model metrics"
      ]
    },
    {
      "cell_type": "code",
      "metadata": {
        "id": "Zp6SuGrL9M3h",
        "colab_type": "code",
        "colab": {}
      },
      "source": [
        "# configure model with above parameters\n",
        "\n",
        "model.compile(loss='categorical_crossentropy',\n",
        "             optimizer='adam',\n",
        "             metrics=['accuracy'])"
      ],
      "execution_count": 0,
      "outputs": []
    },
    {
      "cell_type": "markdown",
      "metadata": {
        "id": "Q1jRBDuPqS-5",
        "colab_type": "text"
      },
      "source": [
        "# Callbacks for model monitor during training and saving weights¶\n"
      ]
    },
    {
      "cell_type": "code",
      "metadata": {
        "id": "sLiieSeLqVkA",
        "colab_type": "code",
        "colab": {}
      },
      "source": [
        "from keras.callbacks import  ModelCheckpoint  # importing checkpoint\n",
        "\n",
        "filepath=\"/content/gdrive/My Drive/EVA_session_4-1_weights-improvement-{epoch:02d}-{val_acc:.2f}.hdf5\"                                  # filepath in google drive to save weights\n",
        "checkpoint = ModelCheckpoint(filepath, monitor='val_acc', verbose=1, save_best_only=True, mode='max',save_weights_only=True)    # checkpoint to monitor validation accuracy, and save which give max accuracy"
      ],
      "execution_count": 0,
      "outputs": []
    },
    {
      "cell_type": "markdown",
      "metadata": {
        "id": "SzYpZKDAURRl",
        "colab_type": "text"
      },
      "source": [
        "### Fit the model on Training set\n",
        "batch_size=32 : sends 32 image in batch-wise and train model (feed-forward and backpropagation) 10 number of epoch : One epoch is when an entire dataset is passed both forward and backward through the neural network only once. verbose as 1 : show progress bar of the training with details"
      ]
    },
    {
      "cell_type": "code",
      "metadata": {
        "id": "4xWoKhPY9Of5",
        "colab_type": "code",
        "outputId": "90d1726c-5892-47a2-f1aa-ba75608a53b3",
        "colab": {
          "base_uri": "https://localhost:8080/",
          "height": 799
        }
      },
      "source": [
        "# fit model with above notes along with checkpoint and pass validation datasets\n",
        "\n",
        "model.fit(X_train, Y_train, batch_size=32, nb_epoch=10, verbose=1,\n",
        "         validation_data=(X_test, Y_test),\n",
        "         callbacks=[checkpoint])"
      ],
      "execution_count": 60,
      "outputs": [
        {
          "output_type": "stream",
          "text": [
            "/usr/local/lib/python3.6/dist-packages/ipykernel_launcher.py:3: UserWarning: The `nb_epoch` argument in `fit` has been renamed `epochs`.\n",
            "  This is separate from the ipykernel package so we can avoid doing imports until\n"
          ],
          "name": "stderr"
        },
        {
          "output_type": "stream",
          "text": [
            "Train on 60000 samples, validate on 10000 samples\n",
            "Epoch 1/10\n",
            "60000/60000 [==============================] - 12s 194us/step - loss: 0.2143 - acc: 0.9338 - val_loss: 0.0775 - val_acc: 0.9755\n",
            "\n",
            "Epoch 00001: val_acc improved from -inf to 0.97550, saving model to /content/gdrive/My Drive/EVA_session_4-1_weights-improvement-01-0.98.hdf5\n",
            "Epoch 2/10\n",
            "60000/60000 [==============================] - 11s 179us/step - loss: 0.0750 - acc: 0.9772 - val_loss: 0.0595 - val_acc: 0.9804\n",
            "\n",
            "Epoch 00002: val_acc improved from 0.97550 to 0.98040, saving model to /content/gdrive/My Drive/EVA_session_4-1_weights-improvement-02-0.98.hdf5\n",
            "Epoch 3/10\n",
            "60000/60000 [==============================] - 11s 179us/step - loss: 0.0547 - acc: 0.9829 - val_loss: 0.0628 - val_acc: 0.9797\n",
            "\n",
            "Epoch 00003: val_acc did not improve from 0.98040\n",
            "Epoch 4/10\n",
            "60000/60000 [==============================] - 11s 179us/step - loss: 0.0445 - acc: 0.9863 - val_loss: 0.0513 - val_acc: 0.9853\n",
            "\n",
            "Epoch 00004: val_acc improved from 0.98040 to 0.98530, saving model to /content/gdrive/My Drive/EVA_session_4-1_weights-improvement-04-0.99.hdf5\n",
            "Epoch 5/10\n",
            "60000/60000 [==============================] - 11s 191us/step - loss: 0.0389 - acc: 0.9878 - val_loss: 0.0436 - val_acc: 0.9873\n",
            "\n",
            "Epoch 00005: val_acc improved from 0.98530 to 0.98730, saving model to /content/gdrive/My Drive/EVA_session_4-1_weights-improvement-05-0.99.hdf5\n",
            "Epoch 6/10\n",
            "60000/60000 [==============================] - 12s 194us/step - loss: 0.0328 - acc: 0.9900 - val_loss: 0.0417 - val_acc: 0.9876\n",
            "\n",
            "Epoch 00006: val_acc improved from 0.98730 to 0.98760, saving model to /content/gdrive/My Drive/EVA_session_4-1_weights-improvement-06-0.99.hdf5\n",
            "Epoch 7/10\n",
            "60000/60000 [==============================] - 11s 179us/step - loss: 0.0296 - acc: 0.9910 - val_loss: 0.0358 - val_acc: 0.9871\n",
            "\n",
            "Epoch 00007: val_acc did not improve from 0.98760\n",
            "Epoch 8/10\n",
            "60000/60000 [==============================] - 11s 179us/step - loss: 0.0265 - acc: 0.9912 - val_loss: 0.0381 - val_acc: 0.9897\n",
            "\n",
            "Epoch 00008: val_acc improved from 0.98760 to 0.98970, saving model to /content/gdrive/My Drive/EVA_session_4-1_weights-improvement-08-0.99.hdf5\n",
            "Epoch 9/10\n",
            "60000/60000 [==============================] - 11s 180us/step - loss: 0.0238 - acc: 0.9924 - val_loss: 0.0390 - val_acc: 0.9880\n",
            "\n",
            "Epoch 00009: val_acc did not improve from 0.98970\n",
            "Epoch 10/10\n",
            "60000/60000 [==============================] - 11s 178us/step - loss: 0.0225 - acc: 0.9926 - val_loss: 0.0408 - val_acc: 0.9883\n",
            "\n",
            "Epoch 00010: val_acc did not improve from 0.98970\n"
          ],
          "name": "stdout"
        },
        {
          "output_type": "execute_result",
          "data": {
            "text/plain": [
              "<keras.callbacks.History at 0x7f58cda514e0>"
            ]
          },
          "metadata": {
            "tags": []
          },
          "execution_count": 60
        }
      ]
    },
    {
      "cell_type": "markdown",
      "metadata": {
        "id": "mQKCRURUUoff",
        "colab_type": "text"
      },
      "source": [
        "### Model evaluation¶\n",
        "Please note that predict is a part of model evaluation. Only after we predict, one can used prediction value to evalute our metrics, say \"accuracy"
      ]
    },
    {
      "cell_type": "code",
      "metadata": {
        "id": "j_pV4CvcrzOa",
        "colab_type": "code",
        "colab": {}
      },
      "source": [
        "model.load_weights('/content/gdrive/My Drive/EVA_session_4-1_weights-improvement-08-0.99.hdf5')  # load weight which give max accuracy in above training"
      ],
      "execution_count": 0,
      "outputs": []
    },
    {
      "cell_type": "code",
      "metadata": {
        "id": "AtsH-lLk-eLb",
        "colab_type": "code",
        "colab": {}
      },
      "source": [
        "score = model.evaluate(X_test, Y_test, verbose=0)   # Use trained model and predict on test set , then finally score metrics. We have given \"accuracy\" as our metrics"
      ],
      "execution_count": 0,
      "outputs": []
    },
    {
      "cell_type": "code",
      "metadata": {
        "id": "mkX8JMv79q9r",
        "colab_type": "code",
        "outputId": "ef390772-2604-432a-f218-d71a2726aa35",
        "colab": {
          "base_uri": "https://localhost:8080/",
          "height": 35
        }
      },
      "source": [
        "print(score)      # print validation score"
      ],
      "execution_count": 63,
      "outputs": [
        {
          "output_type": "stream",
          "text": [
            "[0.03809648953591241, 0.9897]\n"
          ],
          "name": "stdout"
        }
      ]
    },
    {
      "cell_type": "code",
      "metadata": {
        "id": "OCWoJkwE9suh",
        "colab_type": "code",
        "colab": {}
      },
      "source": [
        "y_pred = model.predict(X_test)    # used trained model to predict class"
      ],
      "execution_count": 0,
      "outputs": []
    },
    {
      "cell_type": "code",
      "metadata": {
        "id": "Ym7iCFBm9uBs",
        "colab_type": "code",
        "outputId": "f63e7d62-d531-4e29-f5a9-f09cb52fb807",
        "colab": {
          "base_uri": "https://localhost:8080/",
          "height": 515
        }
      },
      "source": [
        "print(y_pred[:9])    # first 9 prediction\n",
        "print(y_test[:9])     # actual 9 target class"
      ],
      "execution_count": 65,
      "outputs": [
        {
          "output_type": "stream",
          "text": [
            "[[8.21929333e-08 7.13832882e-10 6.38273150e-07 1.39595140e-04\n",
            "  3.45699082e-13 2.22730332e-08 1.06213739e-14 9.99846578e-01\n",
            "  8.20820969e-06 4.88969772e-06]\n",
            " [2.30933523e-07 6.78657530e-09 9.99999642e-01 1.70687620e-09\n",
            "  1.12043586e-11 8.95380233e-13 6.75011824e-09 1.82965448e-12\n",
            "  1.33014339e-07 1.05578660e-16]\n",
            " [3.80491429e-07 9.99953270e-01 1.05903091e-05 1.92693875e-07\n",
            "  1.16718365e-05 9.25111465e-07 3.81988656e-07 1.89930561e-05\n",
            "  3.56105716e-06 9.41523695e-08]\n",
            " [9.99998450e-01 2.71702314e-15 1.60159760e-10 6.55446530e-11\n",
            "  6.75283662e-10 6.94305839e-08 1.32438458e-06 1.00812095e-10\n",
            "  1.27390734e-07 1.41287266e-08]\n",
            " [1.66047602e-08 6.69953080e-13 1.25695426e-10 2.29002359e-10\n",
            "  9.99978781e-01 1.20550783e-11 4.49509753e-06 2.00234251e-09\n",
            "  6.10897905e-06 1.05552381e-05]\n",
            " [1.08012294e-07 9.99920487e-01 5.67965890e-06 3.36107071e-08\n",
            "  2.76617520e-05 1.47702352e-07 2.34107240e-08 3.20093350e-05\n",
            "  1.34585616e-05 3.67486848e-07]\n",
            " [2.69350357e-15 6.27726204e-10 8.78916606e-10 6.20771212e-11\n",
            "  9.99086857e-01 6.10452730e-11 5.43824985e-10 1.18306120e-09\n",
            "  9.08835500e-04 4.25850931e-06]\n",
            " [4.81115103e-09 2.59787409e-08 2.19313479e-05 5.94845114e-05\n",
            "  7.45273009e-03 4.97569636e-06 3.91103505e-09 9.44498242e-05\n",
            "  7.96465727e-04 9.91569877e-01]\n",
            " [3.68905440e-08 2.32267525e-16 4.31405259e-12 3.01652321e-08\n",
            "  7.11681200e-11 4.99817729e-01 4.98146981e-01 6.35729479e-13\n",
            "  2.02108757e-03 1.41584742e-05]]\n",
            "[7 2 1 0 4 1 4 9 5]\n"
          ],
          "name": "stdout"
        }
      ]
    },
    {
      "cell_type": "markdown",
      "metadata": {
        "id": "ramIkq-XU4v2",
        "colab_type": "text"
      },
      "source": [
        "# Visualization\n"
      ]
    },
    {
      "cell_type": "code",
      "metadata": {
        "id": "CT--y98_dr2T",
        "colab_type": "code",
        "colab": {}
      },
      "source": [
        "layer_dict = dict([(layer.name, layer) for layer in model.layers])"
      ],
      "execution_count": 0,
      "outputs": []
    },
    {
      "cell_type": "code",
      "metadata": {
        "id": "2GY4Upv4dsUR",
        "colab_type": "code",
        "outputId": "7500e779-4efb-48cf-d331-a9f12a3dc83d",
        "colab": {
          "base_uri": "https://localhost:8080/",
          "height": 741
        }
      },
      "source": [
        "import numpy as np\n",
        "from matplotlib import pyplot as plt\n",
        "from keras import backend as K\n",
        "%matplotlib inline\n",
        "# util function to convert a tensor into a valid image\n",
        "def deprocess_image(x):\n",
        "    # normalize tensor: center on 0., ensure std is 0.1\n",
        "    x -= x.mean()\n",
        "    x /= (x.std() + 1e-5)\n",
        "    x *= 0.1\n",
        "\n",
        "    # clip to [0, 1]\n",
        "    x += 0.5\n",
        "    x = np.clip(x, 0, 1)\n",
        "\n",
        "    # convert to RGB array\n",
        "    x *= 255\n",
        "    #x = x.transpose((1, 2, 0))\n",
        "    x = np.clip(x, 0, 255).astype('uint8')\n",
        "    return x\n",
        "\n",
        "def vis_img_in_filter(img = np.array(X_train[2]).reshape((1, 28, 28, 1)).astype(np.float64), \n",
        "                      layer_name = 'conv2d_27'):\n",
        "    layer_output = layer_dict[layer_name].output\n",
        "    img_ascs = list()\n",
        "    for filter_index in range(layer_output.shape[3]):\n",
        "        # build a loss function that maximizes the activation\n",
        "        # of the nth filter of the layer considered\n",
        "        loss = K.mean(layer_output[:, :, :, filter_index])\n",
        "\n",
        "        # compute the gradient of the input picture wrt this loss\n",
        "        grads = K.gradients(loss, model.input)[0]\n",
        "\n",
        "        # normalization trick: we normalize the gradient\n",
        "        grads /= (K.sqrt(K.mean(K.square(grads))) + 1e-5)\n",
        "\n",
        "        # this function returns the loss and grads given the input picture\n",
        "        iterate = K.function([model.input], [loss, grads])\n",
        "\n",
        "        # step size for gradient ascent\n",
        "        step = 5.\n",
        "\n",
        "        img_asc = np.array(img)\n",
        "        # run gradient ascent for 20 steps\n",
        "        for i in range(20):\n",
        "            loss_value, grads_value = iterate([img_asc])\n",
        "            img_asc += grads_value * step\n",
        "\n",
        "        img_asc = img_asc[0]\n",
        "        img_ascs.append(deprocess_image(img_asc).reshape((28, 28)))\n",
        "        \n",
        "    if layer_output.shape[3] >= 35:\n",
        "        plot_x, plot_y = 6, 6\n",
        "    elif layer_output.shape[3] >= 23:\n",
        "        plot_x, plot_y = 4, 6\n",
        "    elif layer_output.shape[3] >= 11:\n",
        "        plot_x, plot_y = 2, 6\n",
        "    else:\n",
        "        plot_x, plot_y = 1, 2\n",
        "    fig, ax = plt.subplots(plot_x, plot_y, figsize = (12, 12))\n",
        "    ax[0, 0].imshow(img.reshape((28, 28)), cmap = 'gray')\n",
        "    ax[0, 0].set_title('Input image')\n",
        "    fig.suptitle('Input image and %s filters' % (layer_name,))\n",
        "    fig.tight_layout(pad = 0.3, rect = [0, 0, 0.9, 0.9])\n",
        "    for (x, y) in [(i, j) for i in range(plot_x) for j in range(plot_y)]:\n",
        "        if x == 0 and y == 0:\n",
        "            continue\n",
        "        ax[x, y].imshow(img_ascs[x * plot_y + y - 1], cmap = 'gray')\n",
        "        ax[x, y].set_title('filter %d' % (x * plot_y + y - 1))\n",
        "\n",
        "vis_img_in_filter()"
      ],
      "execution_count": 69,
      "outputs": [
        {
          "output_type": "display_data",
          "data": {
            "image/png": "[encoded data removed]",
            "text/plain": [
              "<Figure size 864x864 with 12 Axes>"
            ]
          },
          "metadata": {
            "tags": []
          }
        }
      ]
    },
    {
      "cell_type": "code",
      "metadata": {
        "id": "9tvptcn8dxvp",
        "colab_type": "code",
        "colab": {}
      },
      "source": [
        ""
      ],
      "execution_count": 0,
      "outputs": []
    }
  ]
}