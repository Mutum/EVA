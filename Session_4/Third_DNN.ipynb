{
  "nbformat": 4,
  "nbformat_minor": 0,
  "metadata": {
    "colab": {
      "name": "Third DNN.ipynb",
      "version": "0.3.2",
      "provenance": [],
      "collapsed_sections": []
    },
    "kernelspec": {
      "name": "python3",
      "display_name": "Python 3"
    },
    "accelerator": "GPU"
  },
  "cells": [
    {
      "cell_type": "markdown",
      "metadata": {
        "id": "wnU88aBzgRV5",
        "colab_type": "text"
      },
      "source": [
        "# Observation from Second network\n",
        "- achevied validation score of 99.23% withing 10 epoch\n",
        "-  Networks learns better from first architecture (BatchNormalization is helpfull)\n",
        "-  Also we noticed the difference between training and Validation is significant as number of epoch increases.\n",
        "\n",
        "\n",
        "# Refining Second network\n",
        "Lets attack the overfitting nature of the network and see combined effect of below changes:\n",
        "- add dropout of 0.05 in the network\n",
        "- increase to 15 epoch from 10 earlier.\n",
        "- Also increase batchsize to 64"
      ]
    },
    {
      "cell_type": "markdown",
      "metadata": {
        "id": "aNyZv-Ec52ot",
        "colab_type": "text"
      },
      "source": [
        "# **Import Libraries and modules**"
      ]
    },
    {
      "cell_type": "code",
      "metadata": {
        "id": "3m3w1Cw49Zkt",
        "colab_type": "code",
        "colab": {}
      },
      "source": [
        "# https://keras.io/\n",
        "!pip install -q keras  # intalled keras\n",
        "import keras           # import keras"
      ],
      "execution_count": 0,
      "outputs": []
    },
    {
      "cell_type": "code",
      "metadata": {
        "id": "Eso6UHE080D4",
        "colab_type": "code",
        "colab": {}
      },
      "source": [
        "import numpy as np     # import numpy for numerical calculation\n",
        "\n",
        "from keras.models import Sequential                                                     # import keras` Sequential model which is a linear stack of layers.\n",
        "from keras.layers import Dense, Dropout, Activation, Flatten, Add,BatchNormalization     # importing : Dense - for fullconnected layers , Dropout : for dropout , Activation: activation function, \n",
        "                                                                      # Flatten : for converting n-dimensional array to 1-D array , Add : for adding layers\n",
        "from keras.layers import Convolution2D, MaxPooling2D                  # importing convolution and maxpooling function\n",
        "from keras.utils import np_utils                                      # from keras.utils import np_utils which is a separate package (and a keras dependency - which doesn't get install with it)\n",
        "\n",
        "from keras.datasets import mnist                                      # from keras.datasets, importing mnist dataset"
      ],
      "execution_count": 0,
      "outputs": []
    },
    {
      "cell_type": "markdown",
      "metadata": {
        "id": "zByEi95J86RD",
        "colab_type": "text"
      },
      "source": [
        "### Load pre-shuffled MNIST data into train and test sets"
      ]
    },
    {
      "cell_type": "code",
      "metadata": {
        "id": "7eRM0QWN83PV",
        "colab_type": "code",
        "colab": {}
      },
      "source": [
        "(X_train, y_train), (X_test, y_test) = mnist.load_data()  # Load mnist and make  tuple pair of train and test"
      ],
      "execution_count": 0,
      "outputs": []
    },
    {
      "cell_type": "code",
      "metadata": {
        "id": "4a4Be72j8-ZC",
        "colab_type": "code",
        "outputId": "7673e9ed-04c2-4e2e-c64e-4bd401cba185",
        "colab": {
          "base_uri": "https://localhost:8080/",
          "height": 305
        }
      },
      "source": [
        "print (X_train.shape)                                                 # printing dimension of X_train. Total 60k of 2-Dimension 28x28 image\n",
        "from matplotlib import pyplot as plt                                  # import pyplot as plt from matplotlib, used for plotting\n",
        "%matplotlib inline                                                    # matplotlib magic command to show static plot right below our code\n",
        "plt.imshow(X_train[0])                                                 # display first image in our training data"
      ],
      "execution_count": 49,
      "outputs": [
        {
          "output_type": "stream",
          "text": [
            "(60000, 28, 28)\n"
          ],
          "name": "stdout"
        },
        {
          "output_type": "execute_result",
          "data": {
            "text/plain": [
              "<matplotlib.image.AxesImage at 0x7f37839ccdd8>"
            ]
          },
          "metadata": {
            "tags": []
          },
          "execution_count": 49
        },
        {
          "output_type": "display_data",
          "data": {
            "image/png": "[encoded data removed]",
            "text/plain": [
              "<Figure size 432x288 with 1 Axes>"
            ]
          },
          "metadata": {
            "tags": []
          }
        }
      ]
    },
    {
      "cell_type": "markdown",
      "metadata": {
        "id": "HHC5CjCxY4Az",
        "colab_type": "text"
      },
      "source": [
        "### Reshaping image because The Convolution2D layers in Keras are designed to work with 3 dimensions per example"
      ]
    },
    {
      "cell_type": "code",
      "metadata": {
        "id": "dkmprriw9AnZ",
        "colab_type": "code",
        "colab": {}
      },
      "source": [
        "X_train = X_train.reshape(X_train.shape[0], 28, 28,1)          # reshaping 28x28x1 dimensions for all 60k images\n",
        "X_test = X_test.reshape(X_test.shape[0], 28, 28,1)              # reshaping 28x28x1 dimensions for all 10k images"
      ],
      "execution_count": 0,
      "outputs": []
    },
    {
      "cell_type": "markdown",
      "metadata": {
        "id": "Jd9MoVMKY8Xw",
        "colab_type": "text"
      },
      "source": [
        "### Change numpy array data types and Scaled\n",
        "Currently it has \"uint8\" i.e. Unsigned integer (0 to 255).\n",
        "\n",
        "Scaled ? Since we used Gradient Descent, for faster convergence we required number to be scaled."
      ]
    },
    {
      "cell_type": "code",
      "metadata": {
        "id": "X2m4YS4E9CRh",
        "colab_type": "code",
        "colab": {}
      },
      "source": [
        "X_train = X_train.astype('float32')        # changed array’s data-type to float32\n",
        "X_test = X_test.astype('float32')          # same as above\n",
        "\n",
        "# scale the pixel intensities down to the 0-1 range by dividing them by 255 which is the max value\n",
        "X_train /= 255\n",
        "X_test /= 255"
      ],
      "execution_count": 0,
      "outputs": []
    },
    {
      "cell_type": "markdown",
      "metadata": {
        "id": "1iIkl6J8ZBhI",
        "colab_type": "text"
      },
      "source": [
        "### One-hot vector labels of target variable"
      ]
    },
    {
      "cell_type": "code",
      "metadata": {
        "id": "0Mn0vAYD9DvB",
        "colab_type": "code",
        "outputId": "28a8a2f0-e62f-4e08-c484-aea7cc348ad3",
        "colab": {
          "base_uri": "https://localhost:8080/",
          "height": 35
        }
      },
      "source": [
        "y_train[:10]           # checking first 10 digits label (target variable)"
      ],
      "execution_count": 52,
      "outputs": [
        {
          "output_type": "execute_result",
          "data": {
            "text/plain": [
              "array([5, 0, 4, 1, 9, 2, 1, 3, 1, 4], dtype=uint8)"
            ]
          },
          "metadata": {
            "tags": []
          },
          "execution_count": 52
        }
      ]
    },
    {
      "cell_type": "code",
      "metadata": {
        "id": "ZG8JiXR39FHC",
        "colab_type": "code",
        "colab": {}
      },
      "source": [
        "# Convert 1-dimensional class arrays to 10-dimensional class matrices\n",
        "Y_train = np_utils.to_categorical(y_train, 10)\n",
        "Y_test = np_utils.to_categorical(y_test, 10)"
      ],
      "execution_count": 0,
      "outputs": []
    },
    {
      "cell_type": "code",
      "metadata": {
        "id": "fYlFRvKS9HMB",
        "colab_type": "code",
        "outputId": "cb537c98-544f-492c-bfc1-09f35871e28b",
        "colab": {
          "base_uri": "https://localhost:8080/",
          "height": 195
        }
      },
      "source": [
        "Y_train[:10]     # the first 10 class` array, compare the position of 1 (count starts from 0) in below and our y_train[:10] values. These two are same!!\n"
      ],
      "execution_count": 54,
      "outputs": [
        {
          "output_type": "execute_result",
          "data": {
            "text/plain": [
              "array([[0., 0., 0., 0., 0., 1., 0., 0., 0., 0.],\n",
              "       [1., 0., 0., 0., 0., 0., 0., 0., 0., 0.],\n",
              "       [0., 0., 0., 0., 1., 0., 0., 0., 0., 0.],\n",
              "       [0., 1., 0., 0., 0., 0., 0., 0., 0., 0.],\n",
              "       [0., 0., 0., 0., 0., 0., 0., 0., 0., 1.],\n",
              "       [0., 0., 1., 0., 0., 0., 0., 0., 0., 0.],\n",
              "       [0., 1., 0., 0., 0., 0., 0., 0., 0., 0.],\n",
              "       [0., 0., 0., 1., 0., 0., 0., 0., 0., 0.],\n",
              "       [0., 1., 0., 0., 0., 0., 0., 0., 0., 0.],\n",
              "       [0., 0., 0., 0., 1., 0., 0., 0., 0., 0.]], dtype=float32)"
            ]
          },
          "metadata": {
            "tags": []
          },
          "execution_count": 54
        }
      ]
    },
    {
      "cell_type": "markdown",
      "metadata": {
        "id": "781ZPczYp6ga",
        "colab_type": "text"
      },
      "source": [
        "# Import google colab drive and user authentication¶\n"
      ]
    },
    {
      "cell_type": "code",
      "metadata": {
        "id": "vWWJznGQp2tL",
        "colab_type": "code",
        "outputId": "ec89fd2c-0cd8-46fd-ce23-9d77528520ef",
        "colab": {
          "base_uri": "https://localhost:8080/",
          "height": 35
        }
      },
      "source": [
        "from google.colab import drive\n",
        "drive.mount('/content/gdrive')\n",
        "\n",
        "!pip install -U -q PyDrive\n",
        "from pydrive.auth import GoogleAuth\n",
        "from pydrive.drive import GoogleDrive\n",
        "from google.colab import auth\n",
        "from oauth2client.client import GoogleCredentials \n",
        "\n",
        "\n",
        "# 1. Authenticate and create the PyDrive client.\n",
        "auth.authenticate_user()\n",
        "gauth = GoogleAuth()\n",
        "gauth.credentials = GoogleCredentials.get_application_default()\n",
        "drive = GoogleDrive(gauth)"
      ],
      "execution_count": 55,
      "outputs": [
        {
          "output_type": "stream",
          "text": [
            "Drive already mounted at /content/gdrive; to attempt to forcibly remount, call drive.mount(\"/content/gdrive\", force_remount=True).\n"
          ],
          "name": "stdout"
        }
      ]
    },
    {
      "cell_type": "markdown",
      "metadata": {
        "id": "ZUmDUXHPZJq8",
        "colab_type": "text"
      },
      "source": [
        "# Defining model"
      ]
    },
    {
      "cell_type": "code",
      "metadata": {
        "id": "osKqT73Q9JJB",
        "colab_type": "code",
        "outputId": "aa8a4369-937a-4e3c-e2ce-73ad85d7affb",
        "colab": {
          "base_uri": "https://localhost:8080/",
          "height": 177
        }
      },
      "source": [
        "from keras.layers import Activation     # importing \"Activation\"\n",
        "model = Sequential()                     # initiate keras` Sequential model \n",
        "\n",
        " \n",
        "model.add(Convolution2D(10, 3, 3, activation='relu', input_shape=(28,28,1))) # 26\n",
        "model.add(BatchNormalization())\n",
        "model.add(Dropout(0.05))\n",
        "\n",
        "model.add(Convolution2D(15, 3, 3, activation='relu')) # 24\n",
        "model.add(BatchNormalization())\n",
        "model.add(Dropout(0.05))\n",
        "model.add(Convolution2D(20, 3, 3, activation='relu')) # 22\n",
        "model.add(BatchNormalization())\n",
        "model.add(Dropout(0.05))\n",
        "\n",
        "model.add(MaxPooling2D(pool_size=(2, 2))) # 11\n",
        "model.add(Convolution2D(10, 1, 1, activation='relu')) # 11\n",
        "model.add(BatchNormalization())\n",
        "\n",
        "model.add(Convolution2D(15, 3, 3, activation='relu')) # 9\n",
        "model.add(BatchNormalization())\n",
        "model.add(Dropout(0.05))\n",
        "model.add(Convolution2D(20, 3, 3, activation='relu')) # 7\n",
        "model.add(BatchNormalization())\n",
        "model.add(Dropout(0.05))\n",
        "\n",
        "model.add(Convolution2D(10, 1, activation='relu')) #7\n",
        "model.add(BatchNormalization())\n",
        "model.add(Convolution2D(10, 7))\n",
        "model.add(Flatten())\n",
        "model.add(Activation('softmax'))"
      ],
      "execution_count": 56,
      "outputs": [
        {
          "output_type": "stream",
          "text": [
            "/usr/local/lib/python3.6/dist-packages/ipykernel_launcher.py:5: UserWarning: Update your `Conv2D` call to the Keras 2 API: `Conv2D(10, (3, 3), activation=\"relu\", input_shape=(28, 28, 1...)`\n",
            "  \"\"\"\n",
            "/usr/local/lib/python3.6/dist-packages/ipykernel_launcher.py:9: UserWarning: Update your `Conv2D` call to the Keras 2 API: `Conv2D(15, (3, 3), activation=\"relu\")`\n",
            "  if __name__ == '__main__':\n",
            "/usr/local/lib/python3.6/dist-packages/ipykernel_launcher.py:12: UserWarning: Update your `Conv2D` call to the Keras 2 API: `Conv2D(20, (3, 3), activation=\"relu\")`\n",
            "  if sys.path[0] == '':\n",
            "/usr/local/lib/python3.6/dist-packages/ipykernel_launcher.py:17: UserWarning: Update your `Conv2D` call to the Keras 2 API: `Conv2D(10, (1, 1), activation=\"relu\")`\n",
            "/usr/local/lib/python3.6/dist-packages/ipykernel_launcher.py:20: UserWarning: Update your `Conv2D` call to the Keras 2 API: `Conv2D(15, (3, 3), activation=\"relu\")`\n",
            "/usr/local/lib/python3.6/dist-packages/ipykernel_launcher.py:23: UserWarning: Update your `Conv2D` call to the Keras 2 API: `Conv2D(20, (3, 3), activation=\"relu\")`\n"
          ],
          "name": "stderr"
        }
      ]
    },
    {
      "cell_type": "code",
      "metadata": {
        "id": "TzdAYg1k9K7Z",
        "colab_type": "code",
        "outputId": "52a557cd-d08e-4c44-b3e1-0bfb21614904",
        "colab": {
          "base_uri": "https://localhost:8080/",
          "height": 959
        }
      },
      "source": [
        "model.summary()"
      ],
      "execution_count": 57,
      "outputs": [
        {
          "output_type": "stream",
          "text": [
            "_________________________________________________________________\n",
            "Layer (type)                 Output Shape              Param #   \n",
            "=================================================================\n",
            "conv2d_18 (Conv2D)           (None, 26, 26, 10)        100       \n",
            "_________________________________________________________________\n",
            "batch_normalization_15 (Batc (None, 26, 26, 10)        40        \n",
            "_________________________________________________________________\n",
            "dropout_6 (Dropout)          (None, 26, 26, 10)        0         \n",
            "_________________________________________________________________\n",
            "conv2d_19 (Conv2D)           (None, 24, 24, 15)        1365      \n",
            "_________________________________________________________________\n",
            "batch_normalization_16 (Batc (None, 24, 24, 15)        60        \n",
            "_________________________________________________________________\n",
            "dropout_7 (Dropout)          (None, 24, 24, 15)        0         \n",
            "_________________________________________________________________\n",
            "conv2d_20 (Conv2D)           (None, 22, 22, 20)        2720      \n",
            "_________________________________________________________________\n",
            "batch_normalization_17 (Batc (None, 22, 22, 20)        80        \n",
            "_________________________________________________________________\n",
            "dropout_8 (Dropout)          (None, 22, 22, 20)        0         \n",
            "_________________________________________________________________\n",
            "max_pooling2d_3 (MaxPooling2 (None, 11, 11, 20)        0         \n",
            "_________________________________________________________________\n",
            "conv2d_21 (Conv2D)           (None, 11, 11, 10)        210       \n",
            "_________________________________________________________________\n",
            "batch_normalization_18 (Batc (None, 11, 11, 10)        40        \n",
            "_________________________________________________________________\n",
            "conv2d_22 (Conv2D)           (None, 9, 9, 15)          1365      \n",
            "_________________________________________________________________\n",
            "batch_normalization_19 (Batc (None, 9, 9, 15)          60        \n",
            "_________________________________________________________________\n",
            "dropout_9 (Dropout)          (None, 9, 9, 15)          0         \n",
            "_________________________________________________________________\n",
            "conv2d_23 (Conv2D)           (None, 7, 7, 20)          2720      \n",
            "_________________________________________________________________\n",
            "batch_normalization_20 (Batc (None, 7, 7, 20)          80        \n",
            "_________________________________________________________________\n",
            "dropout_10 (Dropout)         (None, 7, 7, 20)          0         \n",
            "_________________________________________________________________\n",
            "conv2d_24 (Conv2D)           (None, 7, 7, 10)          210       \n",
            "_________________________________________________________________\n",
            "batch_normalization_21 (Batc (None, 7, 7, 10)          40        \n",
            "_________________________________________________________________\n",
            "conv2d_25 (Conv2D)           (None, 1, 1, 10)          4910      \n",
            "_________________________________________________________________\n",
            "flatten_3 (Flatten)          (None, 10)                0         \n",
            "_________________________________________________________________\n",
            "activation_3 (Activation)    (None, 10)                0         \n",
            "=================================================================\n",
            "Total params: 14,000\n",
            "Trainable params: 13,800\n",
            "Non-trainable params: 200\n",
            "_________________________________________________________________\n"
          ],
          "name": "stdout"
        }
      ]
    },
    {
      "cell_type": "markdown",
      "metadata": {
        "id": "CBxpIaFRZS-J",
        "colab_type": "text"
      },
      "source": [
        "### Configures the model for training.\n",
        "- loss as 'categorical_crossentropy' since we are dealing with multi-class classification\n",
        "- \"adam\" - Adaptive Moment Estimation one of the common/best gradient-based optimizer\n",
        "- \"accuracy\" as the model metrics"
      ]
    },
    {
      "cell_type": "code",
      "metadata": {
        "id": "Zp6SuGrL9M3h",
        "colab_type": "code",
        "colab": {}
      },
      "source": [
        "model.compile(loss='categorical_crossentropy',\n",
        "             optimizer='adam',\n",
        "             metrics=['accuracy'])"
      ],
      "execution_count": 0,
      "outputs": []
    },
    {
      "cell_type": "markdown",
      "metadata": {
        "id": "Q1jRBDuPqS-5",
        "colab_type": "text"
      },
      "source": [
        "# Callbacks for model monitor during training and saving weights¶\n"
      ]
    },
    {
      "cell_type": "code",
      "metadata": {
        "id": "sLiieSeLqVkA",
        "colab_type": "code",
        "colab": {}
      },
      "source": [
        "from keras.callbacks import  ModelCheckpoint  # importing checkpoint\n",
        "\n",
        "filepath=\"/content/gdrive/My Drive/EVA_session_4-3_weights-improvement-{epoch:02d}-{val_acc:.2f}.hdf5\"                                  # filepath in google drive to save weights\n",
        "checkpoint = ModelCheckpoint(filepath, monitor='val_acc', verbose=1, save_best_only=True, mode='max',save_weights_only=True)    # checkpoint to monitor validation accuracy, and save which give max accuracy"
      ],
      "execution_count": 0,
      "outputs": []
    },
    {
      "cell_type": "markdown",
      "metadata": {
        "id": "DayjB8S1ZadQ",
        "colab_type": "text"
      },
      "source": [
        "### Fit the model on Training set\n",
        "batch_size=64 : sends 64 image in batch-wise and train model (feed-forward and backpropagation) 10 number of epoch : One epoch is when an entire dataset is passed both forward and backward through the neural network only once. verbose as 1 : show progress bar of the training with details"
      ]
    },
    {
      "cell_type": "code",
      "metadata": {
        "id": "4xWoKhPY9Of5",
        "colab_type": "code",
        "outputId": "6978da93-ea75-4236-b717-788b696a7a09",
        "colab": {
          "base_uri": "https://localhost:8080/",
          "height": 1155
        }
      },
      "source": [
        "# fit model with above notes along with checkpoint and pass validation datasets\n",
        "\n",
        "model.fit(X_train, Y_train, batch_size=64, nb_epoch=15, verbose=1,\n",
        "         validation_data=(X_test, Y_test),\n",
        "         callbacks=[checkpoint])"
      ],
      "execution_count": 60,
      "outputs": [
        {
          "output_type": "stream",
          "text": [
            "/usr/local/lib/python3.6/dist-packages/ipykernel_launcher.py:3: UserWarning: The `nb_epoch` argument in `fit` has been renamed `epochs`.\n",
            "  This is separate from the ipykernel package so we can avoid doing imports until\n"
          ],
          "name": "stderr"
        },
        {
          "output_type": "stream",
          "text": [
            "Train on 60000 samples, validate on 10000 samples\n",
            "Epoch 1/15\n",
            "60000/60000 [==============================] - 13s 210us/step - loss: 0.2119 - acc: 0.9350 - val_loss: 0.0490 - val_acc: 0.9840\n",
            "\n",
            "Epoch 00001: val_acc improved from -inf to 0.98400, saving model to /content/gdrive/My Drive/EVA_session_4-3_weights-improvement-01-0.98.hdf5\n",
            "Epoch 2/15\n",
            "60000/60000 [==============================] - 11s 181us/step - loss: 0.0573 - acc: 0.9820 - val_loss: 0.0370 - val_acc: 0.9863\n",
            "\n",
            "Epoch 00002: val_acc improved from 0.98400 to 0.98630, saving model to /content/gdrive/My Drive/EVA_session_4-3_weights-improvement-02-0.99.hdf5\n",
            "Epoch 3/15\n",
            "60000/60000 [==============================] - 11s 181us/step - loss: 0.0428 - acc: 0.9868 - val_loss: 0.0322 - val_acc: 0.9878\n",
            "\n",
            "Epoch 00003: val_acc improved from 0.98630 to 0.98780, saving model to /content/gdrive/My Drive/EVA_session_4-3_weights-improvement-03-0.99.hdf5\n",
            "Epoch 4/15\n",
            "60000/60000 [==============================] - 11s 181us/step - loss: 0.0360 - acc: 0.9891 - val_loss: 0.0333 - val_acc: 0.9886\n",
            "\n",
            "Epoch 00004: val_acc improved from 0.98780 to 0.98860, saving model to /content/gdrive/My Drive/EVA_session_4-3_weights-improvement-04-0.99.hdf5\n",
            "Epoch 5/15\n",
            "60000/60000 [==============================] - 11s 182us/step - loss: 0.0313 - acc: 0.9899 - val_loss: 0.0318 - val_acc: 0.9904\n",
            "\n",
            "Epoch 00005: val_acc improved from 0.98860 to 0.99040, saving model to /content/gdrive/My Drive/EVA_session_4-3_weights-improvement-05-0.99.hdf5\n",
            "Epoch 6/15\n",
            "60000/60000 [==============================] - 11s 188us/step - loss: 0.0302 - acc: 0.9903 - val_loss: 0.0361 - val_acc: 0.9886\n",
            "\n",
            "Epoch 00006: val_acc did not improve from 0.99040\n",
            "Epoch 7/15\n",
            "60000/60000 [==============================] - 12s 195us/step - loss: 0.0253 - acc: 0.9917 - val_loss: 0.0288 - val_acc: 0.9914\n",
            "\n",
            "Epoch 00007: val_acc improved from 0.99040 to 0.99140, saving model to /content/gdrive/My Drive/EVA_session_4-3_weights-improvement-07-0.99.hdf5\n",
            "Epoch 8/15\n",
            "60000/60000 [==============================] - 11s 181us/step - loss: 0.0244 - acc: 0.9918 - val_loss: 0.0319 - val_acc: 0.9903\n",
            "\n",
            "Epoch 00008: val_acc did not improve from 0.99140\n",
            "Epoch 9/15\n",
            "60000/60000 [==============================] - 11s 181us/step - loss: 0.0226 - acc: 0.9928 - val_loss: 0.0297 - val_acc: 0.9905\n",
            "\n",
            "Epoch 00009: val_acc did not improve from 0.99140\n",
            "Epoch 10/15\n",
            "60000/60000 [==============================] - 11s 181us/step - loss: 0.0203 - acc: 0.9929 - val_loss: 0.0336 - val_acc: 0.9907\n",
            "\n",
            "Epoch 00010: val_acc did not improve from 0.99140\n",
            "Epoch 11/15\n",
            "60000/60000 [==============================] - 11s 181us/step - loss: 0.0184 - acc: 0.9939 - val_loss: 0.0317 - val_acc: 0.9909\n",
            "\n",
            "Epoch 00011: val_acc did not improve from 0.99140\n",
            "Epoch 12/15\n",
            "60000/60000 [==============================] - 11s 181us/step - loss: 0.0184 - acc: 0.9939 - val_loss: 0.0308 - val_acc: 0.9916\n",
            "\n",
            "Epoch 00012: val_acc improved from 0.99140 to 0.99160, saving model to /content/gdrive/My Drive/EVA_session_4-3_weights-improvement-12-0.99.hdf5\n",
            "Epoch 13/15\n",
            "60000/60000 [==============================] - 11s 180us/step - loss: 0.0169 - acc: 0.9943 - val_loss: 0.0268 - val_acc: 0.9924\n",
            "\n",
            "Epoch 00013: val_acc improved from 0.99160 to 0.99240, saving model to /content/gdrive/My Drive/EVA_session_4-3_weights-improvement-13-0.99.hdf5\n",
            "Epoch 14/15\n",
            "60000/60000 [==============================] - 12s 203us/step - loss: 0.0156 - acc: 0.9948 - val_loss: 0.0331 - val_acc: 0.9908\n",
            "\n",
            "Epoch 00014: val_acc did not improve from 0.99240\n",
            "Epoch 15/15\n",
            "60000/60000 [==============================] - 11s 181us/step - loss: 0.0150 - acc: 0.9951 - val_loss: 0.0304 - val_acc: 0.9919\n",
            "\n",
            "Epoch 00015: val_acc did not improve from 0.99240\n"
          ],
          "name": "stdout"
        },
        {
          "output_type": "execute_result",
          "data": {
            "text/plain": [
              "<keras.callbacks.History at 0x7f3782f87f98>"
            ]
          },
          "metadata": {
            "tags": []
          },
          "execution_count": 60
        }
      ]
    },
    {
      "cell_type": "markdown",
      "metadata": {
        "id": "O8G4Sd8bZlGr",
        "colab_type": "text"
      },
      "source": [
        "### Model evaluation¶\n",
        "Please note that predict is a part of model evaluation. Only after we predict, one can used prediction value to evalute our metrics, say \"accuracy"
      ]
    },
    {
      "cell_type": "code",
      "metadata": {
        "id": "j_pV4CvcrzOa",
        "colab_type": "code",
        "colab": {}
      },
      "source": [
        "model.load_weights('/content/gdrive/My Drive/EVA_session_4-3_weights-improvement-13-0.99.hdf5')  # load weight which give max accuracy in above training"
      ],
      "execution_count": 0,
      "outputs": []
    },
    {
      "cell_type": "code",
      "metadata": {
        "id": "AtsH-lLk-eLb",
        "colab_type": "code",
        "colab": {}
      },
      "source": [
        "score = model.evaluate(X_test, Y_test, verbose=0)  # Use trained model and predict on test set , then finally score metrics. We have given \"accuracy\" as our metrics"
      ],
      "execution_count": 0,
      "outputs": []
    },
    {
      "cell_type": "code",
      "metadata": {
        "id": "mkX8JMv79q9r",
        "colab_type": "code",
        "outputId": "f3d50035-6d75-4291-cc55-8ac0ecb6332d",
        "colab": {
          "base_uri": "https://localhost:8080/",
          "height": 35
        }
      },
      "source": [
        "print(score)  # print validation score"
      ],
      "execution_count": 63,
      "outputs": [
        {
          "output_type": "stream",
          "text": [
            "[0.026752483687520725, 0.9924]\n"
          ],
          "name": "stdout"
        }
      ]
    },
    {
      "cell_type": "code",
      "metadata": {
        "id": "OCWoJkwE9suh",
        "colab_type": "code",
        "colab": {}
      },
      "source": [
        "y_pred = model.predict(X_test) # used trained model to predict class"
      ],
      "execution_count": 0,
      "outputs": []
    },
    {
      "cell_type": "code",
      "metadata": {
        "id": "Ym7iCFBm9uBs",
        "colab_type": "code",
        "outputId": "5f0e92e2-a326-44f4-a156-c9b778347591",
        "colab": {
          "base_uri": "https://localhost:8080/",
          "height": 515
        }
      },
      "source": [
        "print(y_pred[:9])    # first 9 prediction\n",
        "print(y_test[:9])     # actual 9 target class"
      ],
      "execution_count": 65,
      "outputs": [
        {
          "output_type": "stream",
          "text": [
            "[[1.86514411e-12 1.19853381e-11 2.10086726e-10 1.12806424e-10\n",
            "  3.36487311e-15 4.80476336e-13 4.25745792e-17 1.00000000e+00\n",
            "  1.34497541e-14 2.94010177e-10]\n",
            " [3.15167739e-07 5.31016697e-09 9.99999642e-01 2.14320273e-09\n",
            "  1.87378141e-10 8.43117134e-13 2.54571457e-08 1.08765982e-10\n",
            "  1.81079163e-09 2.15330358e-12]\n",
            " [5.72186138e-08 9.99997377e-01 7.79916398e-09 6.24665120e-08\n",
            "  2.38835071e-07 8.72575811e-07 1.27481337e-06 8.15335639e-08\n",
            "  2.44704985e-08 2.01771888e-09]\n",
            " [9.99996781e-01 1.12502130e-12 3.39781145e-08 4.46728210e-09\n",
            "  6.27586738e-09 1.90145588e-09 1.59156571e-06 1.38059191e-11\n",
            "  7.68658936e-07 8.71662905e-07]\n",
            " [2.10598899e-11 1.28817816e-11 2.78316311e-11 2.75089278e-13\n",
            "  9.99999762e-01 4.48314866e-12 1.07065856e-10 2.25438049e-12\n",
            "  7.86883145e-12 1.99256476e-07]\n",
            " [6.68810785e-08 9.99988317e-01 9.31555064e-08 3.02189456e-08\n",
            "  1.17013963e-06 3.24922524e-08 7.29218002e-08 1.01689047e-05\n",
            "  1.62570633e-08 2.74700938e-08]\n",
            " [2.31437672e-13 2.60463140e-09 1.22119532e-08 1.41241587e-12\n",
            "  9.99978423e-01 1.60404867e-09 2.04363154e-12 1.75488055e-10\n",
            "  1.12580628e-05 1.03701968e-05]\n",
            " [1.70042747e-09 4.30045555e-09 3.70001572e-07 3.38198788e-07\n",
            "  2.57371403e-06 3.39691013e-08 1.60078914e-13 7.88931587e-09\n",
            "  2.00565129e-08 9.99996662e-01]\n",
            " [1.44960373e-08 3.61088248e-13 7.89833314e-13 9.89227016e-12\n",
            "  2.06937556e-09 9.99977469e-01 2.13488966e-05 3.99250132e-13\n",
            "  4.42772972e-07 7.76482580e-07]]\n",
            "[7 2 1 0 4 1 4 9 5]\n"
          ],
          "name": "stdout"
        }
      ]
    },
    {
      "cell_type": "markdown",
      "metadata": {
        "id": "RMyV3IuXZ0nc",
        "colab_type": "text"
      },
      "source": [
        "# Visualization\n"
      ]
    },
    {
      "cell_type": "code",
      "metadata": {
        "id": "CT--y98_dr2T",
        "colab_type": "code",
        "colab": {}
      },
      "source": [
        "layer_dict = dict([(layer.name, layer) for layer in model.layers])"
      ],
      "execution_count": 0,
      "outputs": []
    },
    {
      "cell_type": "code",
      "metadata": {
        "id": "2GY4Upv4dsUR",
        "colab_type": "code",
        "outputId": "5d24c429-dc29-4ba6-dc2a-d3b8f25a219e",
        "colab": {
          "base_uri": "https://localhost:8080/",
          "height": 741
        }
      },
      "source": [
        "import numpy as np\n",
        "from matplotlib import pyplot as plt\n",
        "from keras import backend as K\n",
        "%matplotlib inline\n",
        "# util function to convert a tensor into a valid image\n",
        "def deprocess_image(x):\n",
        "    # normalize tensor: center on 0., ensure std is 0.1\n",
        "    x -= x.mean()\n",
        "    x /= (x.std() + 1e-5)\n",
        "    x *= 0.1\n",
        "\n",
        "    # clip to [0, 1]\n",
        "    x += 0.5\n",
        "    x = np.clip(x, 0, 1)\n",
        "\n",
        "    # convert to RGB array\n",
        "    x *= 255\n",
        "    #x = x.transpose((1, 2, 0))\n",
        "    x = np.clip(x, 0, 255).astype('uint8')\n",
        "    return x\n",
        "\n",
        "def vis_img_in_filter(img = np.array(X_train[2]).reshape((1, 28, 28, 1)).astype(np.float64), \n",
        "                      layer_name = 'conv2d_20'):\n",
        "    layer_output = layer_dict[layer_name].output\n",
        "    img_ascs = list()\n",
        "    for filter_index in range(layer_output.shape[3]):\n",
        "        # build a loss function that maximizes the activation\n",
        "        # of the nth filter of the layer considered\n",
        "        loss = K.mean(layer_output[:, :, :, filter_index])\n",
        "\n",
        "        # compute the gradient of the input picture wrt this loss\n",
        "        grads = K.gradients(loss, model.input)[0]\n",
        "\n",
        "        # normalization trick: we normalize the gradient\n",
        "        grads /= (K.sqrt(K.mean(K.square(grads))) + 1e-5)\n",
        "\n",
        "        # this function returns the loss and grads given the input picture\n",
        "        iterate = K.function([model.input], [loss, grads])\n",
        "\n",
        "        # step size for gradient ascent\n",
        "        step = 5.\n",
        "\n",
        "        img_asc = np.array(img)\n",
        "        # run gradient ascent for 20 steps\n",
        "        for i in range(20):\n",
        "            loss_value, grads_value = iterate([img_asc])\n",
        "            img_asc += grads_value * step\n",
        "\n",
        "        img_asc = img_asc[0]\n",
        "        img_ascs.append(deprocess_image(img_asc).reshape((28, 28)))\n",
        "        \n",
        "    if layer_output.shape[3] >= 35:\n",
        "        plot_x, plot_y = 6, 6\n",
        "    elif layer_output.shape[3] >= 23:\n",
        "        plot_x, plot_y = 4, 6\n",
        "    elif layer_output.shape[3] >= 11:\n",
        "        plot_x, plot_y = 2, 6\n",
        "    else:\n",
        "        plot_x, plot_y = 1, 2\n",
        "    fig, ax = plt.subplots(plot_x, plot_y, figsize = (12, 12))\n",
        "    ax[0, 0].imshow(img.reshape((28, 28)), cmap = 'gray')\n",
        "    ax[0, 0].set_title('Input image')\n",
        "    fig.suptitle('Input image and %s filters' % (layer_name,))\n",
        "    fig.tight_layout(pad = 0.3, rect = [0, 0, 0.9, 0.9])\n",
        "    for (x, y) in [(i, j) for i in range(plot_x) for j in range(plot_y)]:\n",
        "        if x == 0 and y == 0:\n",
        "            continue\n",
        "        ax[x, y].imshow(img_ascs[x * plot_y + y - 1], cmap = 'gray')\n",
        "        ax[x, y].set_title('filter %d' % (x * plot_y + y - 1))\n",
        "\n",
        "vis_img_in_filter()"
      ],
      "execution_count": 70,
      "outputs": [
        {
          "output_type": "display_data",
          "data": {
            "image/png": "[encoded data removed]",
            "text/plain": [
              "<Figure size 864x864 with 12 Axes>"
            ]
          },
          "metadata": {
            "tags": []
          }
        }
      ]
    },
    {
      "cell_type": "code",
      "metadata": {
        "id": "9tvptcn8dxvp",
        "colab_type": "code",
        "colab": {}
      },
      "source": [
        ""
      ],
      "execution_count": 0,
      "outputs": []
    }
  ]
}