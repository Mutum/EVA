{
  "nbformat": 4,
  "nbformat_minor": 0,
  "metadata": {
    "colab": {
      "name": "EVA1st DNN_1.6.ipynb",
      "version": "0.3.2",
      "provenance": [],
      "collapsed_sections": []
    },
    "kernelspec": {
      "name": "python3",
      "display_name": "Python 3"
    },
    "accelerator": "GPU"
  },
  "cells": [
    {
      "cell_type": "markdown",
      "metadata": {
        "id": "aNyZv-Ec52ot",
        "colab_type": "text"
      },
      "source": [
        "# **Import Libraries and modules**"
      ]
    },
    {
      "cell_type": "code",
      "metadata": {
        "id": "3m3w1Cw49Zkt",
        "colab_type": "code",
        "colab": {}
      },
      "source": [
        "# https://keras.io/\n",
        "!pip install -q keras    # intalled keras\n",
        "import keras             # import keras"
      ],
      "execution_count": 0,
      "outputs": []
    },
    {
      "cell_type": "code",
      "metadata": {
        "id": "Eso6UHE080D4",
        "colab_type": "code",
        "colab": {}
      },
      "source": [
        "import numpy as np                                                        # import numpy for numerical calculation\n",
        "\n",
        "from keras.models import Sequential                                       # import keras` Sequential model which is a linear stack of layers.\n",
        "from keras.layers import Dense, Dropout, Activation, Flatten, Add         # importing : Dense - for fullconnected layers , Dropout : for dropout , Activation: activation function, \n",
        "                                                                          # Flatten : for converting n-dimensional array to 1-D array , Add : for adding layers\n",
        "\n",
        "from keras.layers import Convolution2D, MaxPooling2D,BatchNormalization\n",
        "from keras.utils import np_utils                                           # from keras.utils import np_utils which is a separate package (and a keras dependency - which doesn't get install with it)\n",
        "\n",
        "\n",
        "\n",
        "from keras.datasets import mnist                                          # from keras.datasets, importing mnist dataset"
      ],
      "execution_count": 0,
      "outputs": []
    },
    {
      "cell_type": "markdown",
      "metadata": {
        "id": "zByEi95J86RD",
        "colab_type": "text"
      },
      "source": [
        "### Load pre-shuffled MNIST data into train and test sets"
      ]
    },
    {
      "cell_type": "code",
      "metadata": {
        "id": "7eRM0QWN83PV",
        "colab_type": "code",
        "colab": {}
      },
      "source": [
        "(X_train, y_train), (X_test, y_test) = mnist.load_data()                 # Load mnist and make  tuple pair of train and test"
      ],
      "execution_count": 0,
      "outputs": []
    },
    {
      "cell_type": "code",
      "metadata": {
        "id": "4a4Be72j8-ZC",
        "colab_type": "code",
        "outputId": "53066b9d-49c2-436a-ef98-52a18f32483e",
        "colab": {
          "base_uri": "https://localhost:8080/",
          "height": 305
        }
      },
      "source": [
        "print (X_train.shape)                                                  # printing dimension of X_train. Total 60k of 2-Dimension 28x28 image\n",
        "from matplotlib import pyplot as plt                                   # import pyplot as plt from matplotlib, used for plotting\n",
        "%matplotlib inline                                                     # matplotlib magic command to show static plot right below our code\n",
        "plt.imshow(X_train[0])                                                 # display first image in our training data"
      ],
      "execution_count": 122,
      "outputs": [
        {
          "output_type": "stream",
          "text": [
            "(60000, 28, 28)\n"
          ],
          "name": "stdout"
        },
        {
          "output_type": "execute_result",
          "data": {
            "text/plain": [
              "<matplotlib.image.AxesImage at 0x7f4d0a654a90>"
            ]
          },
          "metadata": {
            "tags": []
          },
          "execution_count": 122
        },
        {
          "output_type": "display_data",
          "data": {
            "image/png": "[encoded data removed]",
            "text/plain": [
              "<Figure size 432x288 with 1 Axes>"
            ]
          },
          "metadata": {
            "tags": []
          }
        }
      ]
    },
    {
      "cell_type": "markdown",
      "metadata": {
        "id": "VbHjFwsWaoBR",
        "colab_type": "text"
      },
      "source": [
        "## Reshaping image because The Convolution2D layers in Keras are designed to work with 3 dimensions per example"
      ]
    },
    {
      "cell_type": "code",
      "metadata": {
        "id": "dkmprriw9AnZ",
        "colab_type": "code",
        "colab": {}
      },
      "source": [
        "X_train = X_train.reshape(X_train.shape[0], 28, 28,1)      # reshaping 28x28x1 dimensions for all 60k images\n",
        "X_test = X_test.reshape(X_test.shape[0], 28, 28,1)         # reshaping 28x28x1 dimensions for all 10k images"
      ],
      "execution_count": 0,
      "outputs": []
    },
    {
      "cell_type": "markdown",
      "metadata": {
        "id": "SudCgN5dazGY",
        "colab_type": "text"
      },
      "source": [
        "## Change numpy array data types and Scaled\n",
        "Currently it has \"uint8\" i.e. Unsigned integer (0 to 255).\n",
        "\n",
        "**Scaled** ? Since we used Gradient Descent, for faster convergence we required number to be scaled."
      ]
    },
    {
      "cell_type": "code",
      "metadata": {
        "id": "X2m4YS4E9CRh",
        "colab_type": "code",
        "colab": {}
      },
      "source": [
        "X_train = X_train.astype('float32')                   # changed array’s data-type to float32\n",
        "X_test = X_test.astype('float32')                     # same as above\n",
        "\n",
        "# scale the pixel intensities down to the 0-1 range by dividing them by 255 which is the max value       \n",
        "X_train /= 255\n",
        "X_test /= 255"
      ],
      "execution_count": 0,
      "outputs": []
    },
    {
      "cell_type": "markdown",
      "metadata": {
        "id": "dNyLlLLSbF1w",
        "colab_type": "text"
      },
      "source": [
        "## One-hot vector labels of target variable"
      ]
    },
    {
      "cell_type": "code",
      "metadata": {
        "id": "0Mn0vAYD9DvB",
        "colab_type": "code",
        "outputId": "e680570a-b733-44a3-9f6d-15021f2c118f",
        "colab": {
          "base_uri": "https://localhost:8080/",
          "height": 35
        }
      },
      "source": [
        "y_train[:10]                     # checking first 10 digits label (target variable)"
      ],
      "execution_count": 125,
      "outputs": [
        {
          "output_type": "execute_result",
          "data": {
            "text/plain": [
              "array([5, 0, 4, 1, 9, 2, 1, 3, 1, 4], dtype=uint8)"
            ]
          },
          "metadata": {
            "tags": []
          },
          "execution_count": 125
        }
      ]
    },
    {
      "cell_type": "code",
      "metadata": {
        "id": "ZG8JiXR39FHC",
        "colab_type": "code",
        "colab": {}
      },
      "source": [
        "# Convert 1-dimensional class arrays to 10-dimensional class matrices\n",
        "Y_train = np_utils.to_categorical(y_train, 10)\n",
        "Y_test = np_utils.to_categorical(y_test, 10)"
      ],
      "execution_count": 0,
      "outputs": []
    },
    {
      "cell_type": "code",
      "metadata": {
        "id": "fYlFRvKS9HMB",
        "colab_type": "code",
        "outputId": "1ec04236-8a95-4328-d1d8-1764b96cd9fc",
        "colab": {
          "base_uri": "https://localhost:8080/",
          "height": 195
        }
      },
      "source": [
        "Y_train[:10]                     # the first 10 class` array, compare the position of 1 (count starts from 0) in below and our y_train[:10] values. These two are same!!\n"
      ],
      "execution_count": 127,
      "outputs": [
        {
          "output_type": "execute_result",
          "data": {
            "text/plain": [
              "array([[0., 0., 0., 0., 0., 1., 0., 0., 0., 0.],\n",
              "       [1., 0., 0., 0., 0., 0., 0., 0., 0., 0.],\n",
              "       [0., 0., 0., 0., 1., 0., 0., 0., 0., 0.],\n",
              "       [0., 1., 0., 0., 0., 0., 0., 0., 0., 0.],\n",
              "       [0., 0., 0., 0., 0., 0., 0., 0., 0., 1.],\n",
              "       [0., 0., 1., 0., 0., 0., 0., 0., 0., 0.],\n",
              "       [0., 1., 0., 0., 0., 0., 0., 0., 0., 0.],\n",
              "       [0., 0., 0., 1., 0., 0., 0., 0., 0., 0.],\n",
              "       [0., 1., 0., 0., 0., 0., 0., 0., 0., 0.],\n",
              "       [0., 0., 0., 0., 1., 0., 0., 0., 0., 0.]], dtype=float32)"
            ]
          },
          "metadata": {
            "tags": []
          },
          "execution_count": 127
        }
      ]
    },
    {
      "cell_type": "markdown",
      "metadata": {
        "id": "BH9yyNg1bQe_",
        "colab_type": "text"
      },
      "source": [
        "## Import google colab drive and user authentication"
      ]
    },
    {
      "cell_type": "code",
      "metadata": {
        "id": "0gt8t4GwIEuL",
        "colab_type": "code",
        "outputId": "c45b53b3-dc60-4eb7-d8ed-c9ac8b7e34cc",
        "colab": {
          "base_uri": "https://localhost:8080/",
          "height": 35
        }
      },
      "source": [
        "from google.colab import drive\n",
        "drive.mount('/content/gdrive')\n",
        "\n",
        "!pip install -U -q PyDrive\n",
        "from pydrive.auth import GoogleAuth\n",
        "from pydrive.drive import GoogleDrive\n",
        "from google.colab import auth\n",
        "from oauth2client.client import GoogleCredentials \n",
        "\n",
        "\n",
        "# 1. Authenticate and create the PyDrive client.\n",
        "auth.authenticate_user()\n",
        "gauth = GoogleAuth()\n",
        "gauth.credentials = GoogleCredentials.get_application_default()\n",
        "drive = GoogleDrive(gauth)"
      ],
      "execution_count": 128,
      "outputs": [
        {
          "output_type": "stream",
          "text": [
            "Drive already mounted at /content/gdrive; to attempt to forcibly remount, call drive.mount(\"/content/gdrive\", force_remount=True).\n"
          ],
          "name": "stdout"
        }
      ]
    },
    {
      "cell_type": "markdown",
      "metadata": {
        "id": "NiOaOjoxbp9W",
        "colab_type": "text"
      },
      "source": [
        "## Defining model\n",
        "\n",
        "Used the following:\n",
        "\n",
        "- Batchnormalization\n",
        "- Dropout\n",
        "- MaxPooling\n",
        "- 1x1 convolution\n",
        "- 3x3 kernel\n",
        "\n",
        "Also please note, we have structure model as\n",
        "- convolution block\n",
        "- transition block\n"
      ]
    },
    {
      "cell_type": "code",
      "metadata": {
        "id": "osKqT73Q9JJB",
        "colab_type": "code",
        "outputId": "4f3448a4-b2af-4c62-9653-21e23cd7461e",
        "colab": {
          "base_uri": "https://localhost:8080/",
          "height": 1157
        }
      },
      "source": [
        "from keras.layers import Activation                             # importing \"Activation\" MaxPooling2D \n",
        "model = Sequential()                                            # initiate keras` Sequential model \n",
        "\n",
        "model.add(Convolution2D(32, 3, 3, activation='relu', use_bias=False,input_shape=(28,28,1)))    \n",
        "\n",
        "model.add(Dropout(0.2))\n",
        "model.add(BatchNormalization())\n",
        "model.add(Convolution2D(16, 3,3, use_bias=False, activation='relu'))                           \n",
        "model.add(BatchNormalization())\n",
        "model.add(Dropout(0.2))                       \n",
        "model.add(Convolution2D(16, 3,3, use_bias=False, activation='relu'))                          \n",
        "\n",
        "\n",
        "model.add(MaxPooling2D((2, 2)))                                                                \n",
        "model.add(BatchNormalization())\n",
        "model.add(Convolution2D(10, 1, use_bias=False, activation='relu'))   \n",
        "\n",
        "model.add(Dropout(0.2))\n",
        "model.add(BatchNormalization())\n",
        "model.add(Convolution2D(16, 3,3, use_bias=False, activation='relu'))                          \n",
        "model.add(BatchNormalization())\n",
        "model.add(Dropout(0.2))\n",
        "model.add(Convolution2D(16, 3,3, use_bias=False, activation='relu'))                         \n",
        "\n",
        "model.add(MaxPooling2D((2, 2)))                                                               \n",
        "model.add(BatchNormalization())\n",
        "model.add(Convolution2D(10, 1, use_bias=False, activation='relu')) \n",
        "\n",
        "model.add(Convolution2D(10, 3,3, use_bias=False, activation='relu'))  \n",
        "\n",
        "model.add(Flatten())\n",
        "model.add(Activation('softmax'))\n",
        "\n",
        "model.summary()"
      ],
      "execution_count": 134,
      "outputs": [
        {
          "output_type": "stream",
          "text": [
            "WARNING:tensorflow:From /usr/local/lib/python3.6/dist-packages/keras/backend/tensorflow_backend.py:3445: calling dropout (from tensorflow.python.ops.nn_ops) with keep_prob is deprecated and will be removed in a future version.\n",
            "Instructions for updating:\n",
            "Please use `rate` instead of `keep_prob`. Rate should be set to `rate = 1 - keep_prob`.\n"
          ],
          "name": "stdout"
        },
        {
          "output_type": "stream",
          "text": [
            "/usr/local/lib/python3.6/dist-packages/ipykernel_launcher.py:4: UserWarning: Update your `Conv2D` call to the Keras 2 API: `Conv2D(32, (3, 3), activation=\"relu\", use_bias=False, input_shape=(28, 28, 1...)`\n",
            "  after removing the cwd from sys.path.\n",
            "/usr/local/lib/python3.6/dist-packages/ipykernel_launcher.py:8: UserWarning: Update your `Conv2D` call to the Keras 2 API: `Conv2D(16, (3, 3), use_bias=False, activation=\"relu\")`\n",
            "  \n",
            "/usr/local/lib/python3.6/dist-packages/ipykernel_launcher.py:11: UserWarning: Update your `Conv2D` call to the Keras 2 API: `Conv2D(16, (3, 3), use_bias=False, activation=\"relu\")`\n",
            "  # This is added back by InteractiveShellApp.init_path()\n",
            "/usr/local/lib/python3.6/dist-packages/ipykernel_launcher.py:20: UserWarning: Update your `Conv2D` call to the Keras 2 API: `Conv2D(16, (3, 3), use_bias=False, activation=\"relu\")`\n",
            "/usr/local/lib/python3.6/dist-packages/ipykernel_launcher.py:23: UserWarning: Update your `Conv2D` call to the Keras 2 API: `Conv2D(16, (3, 3), use_bias=False, activation=\"relu\")`\n"
          ],
          "name": "stderr"
        },
        {
          "output_type": "stream",
          "text": [
            "_________________________________________________________________\n",
            "Layer (type)                 Output Shape              Param #   \n",
            "=================================================================\n",
            "conv2d_158 (Conv2D)          (None, 26, 26, 32)        288       \n",
            "_________________________________________________________________\n",
            "dropout_1 (Dropout)          (None, 26, 26, 32)        0         \n",
            "_________________________________________________________________\n",
            "batch_normalization_78 (Batc (None, 26, 26, 32)        128       \n",
            "_________________________________________________________________\n",
            "conv2d_159 (Conv2D)          (None, 24, 24, 16)        4608      \n",
            "_________________________________________________________________\n",
            "batch_normalization_79 (Batc (None, 24, 24, 16)        64        \n",
            "_________________________________________________________________\n",
            "dropout_2 (Dropout)          (None, 24, 24, 16)        0         \n",
            "_________________________________________________________________\n",
            "conv2d_160 (Conv2D)          (None, 22, 22, 16)        2304      \n",
            "_________________________________________________________________\n",
            "max_pooling2d_48 (MaxPooling (None, 11, 11, 16)        0         \n",
            "_________________________________________________________________\n",
            "batch_normalization_80 (Batc (None, 11, 11, 16)        64        \n",
            "_________________________________________________________________\n",
            "conv2d_161 (Conv2D)          (None, 11, 11, 10)        160       \n",
            "_________________________________________________________________\n",
            "dropout_3 (Dropout)          (None, 11, 11, 10)        0         \n",
            "_________________________________________________________________\n",
            "batch_normalization_81 (Batc (None, 11, 11, 10)        40        \n",
            "_________________________________________________________________\n",
            "conv2d_162 (Conv2D)          (None, 9, 9, 16)          1440      \n",
            "_________________________________________________________________\n",
            "batch_normalization_82 (Batc (None, 9, 9, 16)          64        \n",
            "_________________________________________________________________\n",
            "dropout_4 (Dropout)          (None, 9, 9, 16)          0         \n",
            "_________________________________________________________________\n",
            "conv2d_163 (Conv2D)          (None, 7, 7, 16)          2304      \n",
            "_________________________________________________________________\n",
            "max_pooling2d_49 (MaxPooling (None, 3, 3, 16)          0         \n",
            "_________________________________________________________________\n",
            "batch_normalization_83 (Batc (None, 3, 3, 16)          64        \n",
            "_________________________________________________________________\n",
            "conv2d_164 (Conv2D)          (None, 3, 3, 10)          160       \n",
            "_________________________________________________________________\n",
            "conv2d_165 (Conv2D)          (None, 1, 1, 10)          900       \n",
            "_________________________________________________________________\n",
            "flatten_24 (Flatten)         (None, 10)                0         \n",
            "_________________________________________________________________\n",
            "activation_24 (Activation)   (None, 10)                0         \n",
            "=================================================================\n",
            "Total params: 12,588\n",
            "Trainable params: 12,376\n",
            "Non-trainable params: 212\n",
            "_________________________________________________________________\n"
          ],
          "name": "stdout"
        },
        {
          "output_type": "stream",
          "text": [
            "/usr/local/lib/python3.6/dist-packages/ipykernel_launcher.py:29: UserWarning: Update your `Conv2D` call to the Keras 2 API: `Conv2D(10, (3, 3), use_bias=False, activation=\"relu\")`\n"
          ],
          "name": "stderr"
        }
      ]
    },
    {
      "cell_type": "markdown",
      "metadata": {
        "id": "8qOcU3v-bzCr",
        "colab_type": "text"
      },
      "source": [
        "## Configures the model for training.\n",
        "- loss as 'categorical_crossentropy' since we are dealing with multi-class classification\n",
        "- \"adam\" - Adaptive Moment Estimation one of the common/best gradient-based optimizer\n",
        "- \"accuracy\" as the model metrics"
      ]
    },
    {
      "cell_type": "code",
      "metadata": {
        "id": "Zp6SuGrL9M3h",
        "colab_type": "code",
        "colab": {}
      },
      "source": [
        "# configure model with above parameters\n",
        "\n",
        "model.compile(loss='categorical_crossentropy',\n",
        "             optimizer='adam',\n",
        "             metrics=['accuracy'])"
      ],
      "execution_count": 0,
      "outputs": []
    },
    {
      "cell_type": "markdown",
      "metadata": {
        "id": "IQoz8ATRcidQ",
        "colab_type": "text"
      },
      "source": [
        "## Callbacks for model monitor during training and saving weights"
      ]
    },
    {
      "cell_type": "code",
      "metadata": {
        "id": "x1MJY9BfjvVe",
        "colab_type": "code",
        "colab": {}
      },
      "source": [
        "from keras.callbacks import  ModelCheckpoint  # importing checkpoint\n",
        "\n",
        "filepath=\"/content/gdrive/My Drive/EVA_1.6_weights-improvement-{epoch:02d}-{val_acc:.2f}.hdf5\"                                  # filepath in google drive to save weights\n",
        "checkpoint = ModelCheckpoint(filepath, monitor='val_acc', verbose=1, save_best_only=True, mode='max',save_weights_only=True)    # checkpoint to monitor validation accuracy, and save which give max accuracy"
      ],
      "execution_count": 0,
      "outputs": []
    },
    {
      "cell_type": "markdown",
      "metadata": {
        "id": "sCUoiHR5cWfT",
        "colab_type": "text"
      },
      "source": [
        "### Fit the model on Training set\n",
        "batch_size=25 : sends 25 image in batch-wise and train model (feed-forward and backpropagation)\n",
        "10 number of epoch : One epoch is when an entire dataset is passed both forward and backward through the neural network only once.\n",
        "verbose as 1 : show progress bar of the training with details"
      ]
    },
    {
      "cell_type": "code",
      "metadata": {
        "id": "bl83jg2TkAXP",
        "colab_type": "code",
        "outputId": "e773355b-325d-4b53-9a07-a5af8fca97ff",
        "colab": {
          "base_uri": "https://localhost:8080/",
          "height": 799
        }
      },
      "source": [
        "model.fit(X_train, Y_train, batch_size=25, nb_epoch=10, verbose=1,       # fit model with above notes along with checkpoint\n",
        "         validation_data=(X_test, Y_test),callbacks=[checkpoint])"
      ],
      "execution_count": 137,
      "outputs": [
        {
          "output_type": "stream",
          "text": [
            "/usr/local/lib/python3.6/dist-packages/ipykernel_launcher.py:2: UserWarning: The `nb_epoch` argument in `fit` has been renamed `epochs`.\n",
            "  \n"
          ],
          "name": "stderr"
        },
        {
          "output_type": "stream",
          "text": [
            "Train on 60000 samples, validate on 10000 samples\n",
            "Epoch 1/10\n",
            "60000/60000 [==============================] - 53s 878us/step - loss: 0.3096 - acc: 0.9029 - val_loss: 0.0629 - val_acc: 0.9804\n",
            "\n",
            "Epoch 00001: val_acc improved from -inf to 0.98040, saving model to /content/gdrive/My Drive/EVA_1.6_weights-improvement-01-0.98.hdf5\n",
            "Epoch 2/10\n",
            "60000/60000 [==============================] - 56s 927us/step - loss: 0.0906 - acc: 0.9718 - val_loss: 0.0436 - val_acc: 0.9865\n",
            "\n",
            "Epoch 00002: val_acc improved from 0.98040 to 0.98650, saving model to /content/gdrive/My Drive/EVA_1.6_weights-improvement-02-0.99.hdf5\n",
            "Epoch 3/10\n",
            "60000/60000 [==============================] - 87s 1ms/step - loss: 0.0715 - acc: 0.9779 - val_loss: 0.0407 - val_acc: 0.9867\n",
            "\n",
            "Epoch 00003: val_acc improved from 0.98650 to 0.98670, saving model to /content/gdrive/My Drive/EVA_1.6_weights-improvement-03-0.99.hdf5\n",
            "Epoch 4/10\n",
            "60000/60000 [==============================] - 88s 1ms/step - loss: 0.0628 - acc: 0.9811 - val_loss: 0.0334 - val_acc: 0.9892\n",
            "\n",
            "Epoch 00004: val_acc improved from 0.98670 to 0.98920, saving model to /content/gdrive/My Drive/EVA_1.6_weights-improvement-04-0.99.hdf5\n",
            "Epoch 5/10\n",
            "60000/60000 [==============================] - 86s 1ms/step - loss: 0.0552 - acc: 0.9825 - val_loss: 0.0385 - val_acc: 0.9878\n",
            "\n",
            "Epoch 00005: val_acc did not improve from 0.98920\n",
            "Epoch 6/10\n",
            "60000/60000 [==============================] - 88s 1ms/step - loss: 0.0523 - acc: 0.9834 - val_loss: 0.0314 - val_acc: 0.9897\n",
            "\n",
            "Epoch 00006: val_acc improved from 0.98920 to 0.98970, saving model to /content/gdrive/My Drive/EVA_1.6_weights-improvement-06-0.99.hdf5\n",
            "Epoch 7/10\n",
            "60000/60000 [==============================] - 93s 2ms/step - loss: 0.0502 - acc: 0.9841 - val_loss: 0.0338 - val_acc: 0.9892\n",
            "\n",
            "Epoch 00007: val_acc did not improve from 0.98970\n",
            "Epoch 8/10\n",
            "60000/60000 [==============================] - 121s 2ms/step - loss: 0.0480 - acc: 0.9849 - val_loss: 0.0316 - val_acc: 0.9899\n",
            "\n",
            "Epoch 00008: val_acc improved from 0.98970 to 0.98990, saving model to /content/gdrive/My Drive/EVA_1.6_weights-improvement-08-0.99.hdf5\n",
            "Epoch 9/10\n",
            "60000/60000 [==============================] - 121s 2ms/step - loss: 0.0439 - acc: 0.9860 - val_loss: 0.0287 - val_acc: 0.9912\n",
            "\n",
            "Epoch 00009: val_acc improved from 0.98990 to 0.99120, saving model to /content/gdrive/My Drive/EVA_1.6_weights-improvement-09-0.99.hdf5\n",
            "Epoch 10/10\n",
            "60000/60000 [==============================] - 119s 2ms/step - loss: 0.0441 - acc: 0.9859 - val_loss: 0.0256 - val_acc: 0.9922\n",
            "\n",
            "Epoch 00010: val_acc improved from 0.99120 to 0.99220, saving model to /content/gdrive/My Drive/EVA_1.6_weights-improvement-10-0.99.hdf5\n"
          ],
          "name": "stdout"
        },
        {
          "output_type": "execute_result",
          "data": {
            "text/plain": [
              "<keras.callbacks.History at 0x7f4d08d9f320>"
            ]
          },
          "metadata": {
            "tags": []
          },
          "execution_count": 137
        }
      ]
    },
    {
      "cell_type": "code",
      "metadata": {
        "id": "JaduSJC_r1gO",
        "colab_type": "code",
        "colab": {
          "base_uri": "https://localhost:8080/",
          "height": 1530
        },
        "outputId": "1625f1ca-05f3-4f7b-8705-8b4d65ad12f8"
      },
      "source": [
        "model.load_weights('/content/gdrive/My Drive/EVA_1.6_weights-improvement-10-0.99.hdf5')  # load weight which give 99.22 accuracy in above training\n",
        "\n",
        "model.fit(X_train, Y_train, batch_size=25, nb_epoch=20, verbose=1,                       # fit the model and train for 20 epoch again\n",
        "         validation_data=(X_test, Y_test),callbacks=[checkpoint])"
      ],
      "execution_count": 138,
      "outputs": [
        {
          "output_type": "stream",
          "text": [
            "Train on 60000 samples, validate on 10000 samples\n",
            "Epoch 1/20\n",
            "   75/60000 [..............................] - ETA: 1:55 - loss: 0.1059 - acc: 0.9733"
          ],
          "name": "stdout"
        },
        {
          "output_type": "stream",
          "text": [
            "/usr/local/lib/python3.6/dist-packages/ipykernel_launcher.py:4: UserWarning: The `nb_epoch` argument in `fit` has been renamed `epochs`.\n",
            "  after removing the cwd from sys.path.\n"
          ],
          "name": "stderr"
        },
        {
          "output_type": "stream",
          "text": [
            "60000/60000 [==============================] - 123s 2ms/step - loss: 0.0434 - acc: 0.9860 - val_loss: 0.0332 - val_acc: 0.9905\n",
            "\n",
            "Epoch 00001: val_acc did not improve from 0.99220\n",
            "Epoch 2/20\n",
            "60000/60000 [==============================] - 121s 2ms/step - loss: 0.0407 - acc: 0.9872 - val_loss: 0.0261 - val_acc: 0.9927\n",
            "\n",
            "Epoch 00002: val_acc improved from 0.99220 to 0.99270, saving model to /content/gdrive/My Drive/EVA_1.6_weights-improvement-02-0.99.hdf5\n",
            "Epoch 3/20\n",
            "60000/60000 [==============================] - 122s 2ms/step - loss: 0.0406 - acc: 0.9878 - val_loss: 0.0274 - val_acc: 0.9927\n",
            "\n",
            "Epoch 00003: val_acc improved from 0.99270 to 0.99270, saving model to /content/gdrive/My Drive/EVA_1.6_weights-improvement-03-0.99.hdf5\n",
            "Epoch 4/20\n",
            "60000/60000 [==============================] - 122s 2ms/step - loss: 0.0397 - acc: 0.9868 - val_loss: 0.0262 - val_acc: 0.9923\n",
            "\n",
            "Epoch 00004: val_acc did not improve from 0.99270\n",
            "Epoch 5/20\n",
            "60000/60000 [==============================] - 123s 2ms/step - loss: 0.0363 - acc: 0.9885 - val_loss: 0.0293 - val_acc: 0.9909\n",
            "\n",
            "Epoch 00005: val_acc did not improve from 0.99270\n",
            "Epoch 6/20\n",
            "60000/60000 [==============================] - 118s 2ms/step - loss: 0.0375 - acc: 0.9877 - val_loss: 0.0282 - val_acc: 0.9921\n",
            "\n",
            "Epoch 00006: val_acc did not improve from 0.99270\n",
            "Epoch 7/20\n",
            "60000/60000 [==============================] - 123s 2ms/step - loss: 0.0363 - acc: 0.9881 - val_loss: 0.0253 - val_acc: 0.9925\n",
            "\n",
            "Epoch 00007: val_acc did not improve from 0.99270\n",
            "Epoch 8/20\n",
            "60000/60000 [==============================] - 114s 2ms/step - loss: 0.0353 - acc: 0.9884 - val_loss: 0.0258 - val_acc: 0.9927\n",
            "\n",
            "Epoch 00008: val_acc improved from 0.99270 to 0.99270, saving model to /content/gdrive/My Drive/EVA_1.6_weights-improvement-08-0.99.hdf5\n",
            "Epoch 9/20\n",
            "60000/60000 [==============================] - 84s 1ms/step - loss: 0.0347 - acc: 0.9887 - val_loss: 0.0256 - val_acc: 0.9930\n",
            "\n",
            "Epoch 00009: val_acc improved from 0.99270 to 0.99300, saving model to /content/gdrive/My Drive/EVA_1.6_weights-improvement-09-0.99.hdf5\n",
            "Epoch 10/20\n",
            "60000/60000 [==============================] - 51s 851us/step - loss: 0.0347 - acc: 0.9890 - val_loss: 0.0253 - val_acc: 0.9929\n",
            "\n",
            "Epoch 00010: val_acc did not improve from 0.99300\n",
            "Epoch 11/20\n",
            "60000/60000 [==============================] - 85s 1ms/step - loss: 0.0342 - acc: 0.9889 - val_loss: 0.0269 - val_acc: 0.9925\n",
            "\n",
            "Epoch 00011: val_acc did not improve from 0.99300\n",
            "Epoch 12/20\n",
            "60000/60000 [==============================] - 84s 1ms/step - loss: 0.0324 - acc: 0.9898 - val_loss: 0.0302 - val_acc: 0.9913\n",
            "\n",
            "Epoch 00012: val_acc did not improve from 0.99300\n",
            "Epoch 13/20\n",
            "60000/60000 [==============================] - 82s 1ms/step - loss: 0.0336 - acc: 0.9896 - val_loss: 0.0268 - val_acc: 0.9915\n",
            "\n",
            "Epoch 00013: val_acc did not improve from 0.99300\n",
            "Epoch 14/20\n",
            "60000/60000 [==============================] - 83s 1ms/step - loss: 0.0331 - acc: 0.9894 - val_loss: 0.0262 - val_acc: 0.9918\n",
            "\n",
            "Epoch 00014: val_acc did not improve from 0.99300\n",
            "Epoch 15/20\n",
            "60000/60000 [==============================] - 101s 2ms/step - loss: 0.0325 - acc: 0.9897 - val_loss: 0.0275 - val_acc: 0.9921\n",
            "\n",
            "Epoch 00015: val_acc did not improve from 0.99300\n",
            "Epoch 16/20\n",
            "60000/60000 [==============================] - 122s 2ms/step - loss: 0.0306 - acc: 0.9904 - val_loss: 0.0269 - val_acc: 0.9923\n",
            "\n",
            "Epoch 00016: val_acc did not improve from 0.99300\n",
            "Epoch 17/20\n",
            "60000/60000 [==============================] - 122s 2ms/step - loss: 0.0309 - acc: 0.9900 - val_loss: 0.0260 - val_acc: 0.9922\n",
            "\n",
            "Epoch 00017: val_acc did not improve from 0.99300\n",
            "Epoch 18/20\n",
            "60000/60000 [==============================] - 123s 2ms/step - loss: 0.0300 - acc: 0.9906 - val_loss: 0.0276 - val_acc: 0.9918\n",
            "\n",
            "Epoch 00018: val_acc did not improve from 0.99300\n",
            "Epoch 19/20\n",
            "60000/60000 [==============================] - 122s 2ms/step - loss: 0.0296 - acc: 0.9901 - val_loss: 0.0248 - val_acc: 0.9923\n",
            "\n",
            "Epoch 00019: val_acc did not improve from 0.99300\n",
            "Epoch 20/20\n",
            "60000/60000 [==============================] - 116s 2ms/step - loss: 0.0302 - acc: 0.9905 - val_loss: 0.0275 - val_acc: 0.9920\n",
            "\n",
            "Epoch 00020: val_acc did not improve from 0.99300\n"
          ],
          "name": "stdout"
        },
        {
          "output_type": "execute_result",
          "data": {
            "text/plain": [
              "<keras.callbacks.History at 0x7f4d0830dba8>"
            ]
          },
          "metadata": {
            "tags": []
          },
          "execution_count": 138
        }
      ]
    },
    {
      "cell_type": "code",
      "metadata": {
        "id": "FSQuQwWQr1c4",
        "colab_type": "code",
        "colab": {
          "base_uri": "https://localhost:8080/",
          "height": 2952
        },
        "outputId": "36a37555-d17a-421a-d0c9-f304a788b9b1"
      },
      "source": [
        "model.load_weights('/content/gdrive/My Drive/EVA_1.6_weights-improvement-09-0.99.hdf5')    # load weight which give 99.3 accuracy in above training\n",
        "\n",
        "\n",
        "model.fit(X_train, Y_train, batch_size=25, nb_epoch=40, verbose=1,                         # fit the model and train for 40 epoch again\n",
        "         validation_data=(X_test, Y_test),callbacks=[checkpoint])"
      ],
      "execution_count": 139,
      "outputs": [
        {
          "output_type": "stream",
          "text": [
            "Train on 60000 samples, validate on 10000 samples\n",
            "Epoch 1/40\n",
            "   75/60000 [..............................] - ETA: 2:22 - loss: 0.0029 - acc: 1.0000"
          ],
          "name": "stdout"
        },
        {
          "output_type": "stream",
          "text": [
            "/usr/local/lib/python3.6/dist-packages/ipykernel_launcher.py:4: UserWarning: The `nb_epoch` argument in `fit` has been renamed `epochs`.\n",
            "  after removing the cwd from sys.path.\n"
          ],
          "name": "stderr"
        },
        {
          "output_type": "stream",
          "text": [
            "60000/60000 [==============================] - 126s 2ms/step - loss: 0.0360 - acc: 0.9886 - val_loss: 0.0242 - val_acc: 0.9928\n",
            "\n",
            "Epoch 00001: val_acc did not improve from 0.99300\n",
            "Epoch 2/40\n",
            "60000/60000 [==============================] - 125s 2ms/step - loss: 0.0332 - acc: 0.9894 - val_loss: 0.0236 - val_acc: 0.9930\n",
            "\n",
            "Epoch 00002: val_acc did not improve from 0.99300\n",
            "Epoch 3/40\n",
            "60000/60000 [==============================] - 125s 2ms/step - loss: 0.0330 - acc: 0.9891 - val_loss: 0.0251 - val_acc: 0.9920\n",
            "\n",
            "Epoch 00003: val_acc did not improve from 0.99300\n",
            "Epoch 4/40\n",
            "60000/60000 [==============================] - 125s 2ms/step - loss: 0.0342 - acc: 0.9893 - val_loss: 0.0267 - val_acc: 0.9920\n",
            "\n",
            "Epoch 00004: val_acc did not improve from 0.99300\n",
            "Epoch 5/40\n",
            "60000/60000 [==============================] - 124s 2ms/step - loss: 0.0308 - acc: 0.9899 - val_loss: 0.0261 - val_acc: 0.9917\n",
            "\n",
            "Epoch 00005: val_acc did not improve from 0.99300\n",
            "Epoch 6/40\n",
            "60000/60000 [==============================] - 125s 2ms/step - loss: 0.0300 - acc: 0.9903 - val_loss: 0.0257 - val_acc: 0.9924\n",
            "\n",
            "Epoch 00006: val_acc did not improve from 0.99300\n",
            "Epoch 7/40\n",
            "60000/60000 [==============================] - 124s 2ms/step - loss: 0.0314 - acc: 0.9895 - val_loss: 0.0269 - val_acc: 0.9923\n",
            "\n",
            "Epoch 00007: val_acc did not improve from 0.99300\n",
            "Epoch 8/40\n",
            "60000/60000 [==============================] - 123s 2ms/step - loss: 0.0303 - acc: 0.9905 - val_loss: 0.0334 - val_acc: 0.9912\n",
            "\n",
            "Epoch 00008: val_acc did not improve from 0.99300\n",
            "Epoch 9/40\n",
            "60000/60000 [==============================] - 127s 2ms/step - loss: 0.0300 - acc: 0.9903 - val_loss: 0.0247 - val_acc: 0.9925\n",
            "\n",
            "Epoch 00009: val_acc did not improve from 0.99300\n",
            "Epoch 10/40\n",
            "60000/60000 [==============================] - 128s 2ms/step - loss: 0.0290 - acc: 0.9906 - val_loss: 0.0250 - val_acc: 0.9922\n",
            "\n",
            "Epoch 00010: val_acc did not improve from 0.99300\n",
            "Epoch 11/40\n",
            "60000/60000 [==============================] - 91s 2ms/step - loss: 0.0302 - acc: 0.9902 - val_loss: 0.0273 - val_acc: 0.9917\n",
            "\n",
            "Epoch 00011: val_acc did not improve from 0.99300\n",
            "Epoch 12/40\n",
            "60000/60000 [==============================] - 85s 1ms/step - loss: 0.0307 - acc: 0.9901 - val_loss: 0.0258 - val_acc: 0.9923\n",
            "\n",
            "Epoch 00012: val_acc did not improve from 0.99300\n",
            "Epoch 13/40\n",
            "60000/60000 [==============================] - 83s 1ms/step - loss: 0.0295 - acc: 0.9904 - val_loss: 0.0243 - val_acc: 0.9936\n",
            "\n",
            "Epoch 00013: val_acc improved from 0.99300 to 0.99360, saving model to /content/gdrive/My Drive/EVA_1.6_weights-improvement-13-0.99.hdf5\n",
            "Epoch 14/40\n",
            "60000/60000 [==============================] - 83s 1ms/step - loss: 0.0293 - acc: 0.9905 - val_loss: 0.0267 - val_acc: 0.9924\n",
            "\n",
            "Epoch 00014: val_acc did not improve from 0.99360\n",
            "Epoch 15/40\n",
            "60000/60000 [==============================] - 83s 1ms/step - loss: 0.0284 - acc: 0.9907 - val_loss: 0.0259 - val_acc: 0.9928\n",
            "\n",
            "Epoch 00015: val_acc did not improve from 0.99360\n",
            "Epoch 16/40\n",
            "60000/60000 [==============================] - 74s 1ms/step - loss: 0.0290 - acc: 0.9904 - val_loss: 0.0249 - val_acc: 0.9915\n",
            "\n",
            "Epoch 00016: val_acc did not improve from 0.99360\n",
            "Epoch 17/40\n",
            "60000/60000 [==============================] - 48s 796us/step - loss: 0.0290 - acc: 0.9902 - val_loss: 0.0266 - val_acc: 0.9925\n",
            "\n",
            "Epoch 00017: val_acc did not improve from 0.99360\n",
            "Epoch 18/40\n",
            "60000/60000 [==============================] - 48s 800us/step - loss: 0.0288 - acc: 0.9906 - val_loss: 0.0269 - val_acc: 0.9925\n",
            "\n",
            "Epoch 00018: val_acc did not improve from 0.99360\n",
            "Epoch 19/40\n",
            "60000/60000 [==============================] - 73s 1ms/step - loss: 0.0281 - acc: 0.9910 - val_loss: 0.0261 - val_acc: 0.9920\n",
            "\n",
            "Epoch 00019: val_acc did not improve from 0.99360\n",
            "Epoch 20/40\n",
            "60000/60000 [==============================] - 83s 1ms/step - loss: 0.0275 - acc: 0.9914 - val_loss: 0.0241 - val_acc: 0.9923\n",
            "\n",
            "Epoch 00020: val_acc did not improve from 0.99360\n",
            "Epoch 21/40\n",
            "60000/60000 [==============================] - 83s 1ms/step - loss: 0.0258 - acc: 0.9918 - val_loss: 0.0252 - val_acc: 0.9920\n",
            "\n",
            "Epoch 00021: val_acc did not improve from 0.99360\n",
            "Epoch 22/40\n",
            "60000/60000 [==============================] - 76s 1ms/step - loss: 0.0264 - acc: 0.9908 - val_loss: 0.0229 - val_acc: 0.9932\n",
            "\n",
            "Epoch 00022: val_acc did not improve from 0.99360\n",
            "Epoch 23/40\n",
            "60000/60000 [==============================] - 81s 1ms/step - loss: 0.0287 - acc: 0.9907 - val_loss: 0.0226 - val_acc: 0.9931\n",
            "\n",
            "Epoch 00023: val_acc did not improve from 0.99360\n",
            "Epoch 24/40\n",
            "60000/60000 [==============================] - 82s 1ms/step - loss: 0.0271 - acc: 0.9911 - val_loss: 0.0254 - val_acc: 0.9924\n",
            "\n",
            "Epoch 00024: val_acc did not improve from 0.99360\n",
            "Epoch 25/40\n",
            "60000/60000 [==============================] - 82s 1ms/step - loss: 0.0258 - acc: 0.9917 - val_loss: 0.0268 - val_acc: 0.9923\n",
            "\n",
            "Epoch 00025: val_acc did not improve from 0.99360\n",
            "Epoch 26/40\n",
            "60000/60000 [==============================] - 68s 1ms/step - loss: 0.0263 - acc: 0.9912 - val_loss: 0.0250 - val_acc: 0.9931\n",
            "\n",
            "Epoch 00026: val_acc did not improve from 0.99360\n",
            "Epoch 27/40\n",
            "60000/60000 [==============================] - 82s 1ms/step - loss: 0.0261 - acc: 0.9918 - val_loss: 0.0219 - val_acc: 0.9931\n",
            "\n",
            "Epoch 00027: val_acc did not improve from 0.99360\n",
            "Epoch 28/40\n",
            "60000/60000 [==============================] - 83s 1ms/step - loss: 0.0249 - acc: 0.9918 - val_loss: 0.0242 - val_acc: 0.9935\n",
            "\n",
            "Epoch 00028: val_acc did not improve from 0.99360\n",
            "Epoch 29/40\n",
            "60000/60000 [==============================] - 78s 1ms/step - loss: 0.0252 - acc: 0.9917 - val_loss: 0.0246 - val_acc: 0.9928\n",
            "\n",
            "Epoch 00029: val_acc did not improve from 0.99360\n",
            "Epoch 30/40\n",
            "60000/60000 [==============================] - 78s 1ms/step - loss: 0.0267 - acc: 0.9909 - val_loss: 0.0269 - val_acc: 0.9930\n",
            "\n",
            "Epoch 00030: val_acc did not improve from 0.99360\n",
            "Epoch 31/40\n",
            "60000/60000 [==============================] - 78s 1ms/step - loss: 0.0257 - acc: 0.9917 - val_loss: 0.0233 - val_acc: 0.9929\n",
            "\n",
            "Epoch 00031: val_acc did not improve from 0.99360\n",
            "Epoch 32/40\n",
            "60000/60000 [==============================] - 81s 1ms/step - loss: 0.0247 - acc: 0.9917 - val_loss: 0.0231 - val_acc: 0.9932\n",
            "\n",
            "Epoch 00032: val_acc did not improve from 0.99360\n",
            "Epoch 33/40\n",
            "60000/60000 [==============================] - 76s 1ms/step - loss: 0.0254 - acc: 0.9915 - val_loss: 0.0223 - val_acc: 0.9933\n",
            "\n",
            "Epoch 00033: val_acc did not improve from 0.99360\n",
            "Epoch 34/40\n",
            "60000/60000 [==============================] - 81s 1ms/step - loss: 0.0244 - acc: 0.9920 - val_loss: 0.0241 - val_acc: 0.9930\n",
            "\n",
            "Epoch 00034: val_acc did not improve from 0.99360\n",
            "Epoch 35/40\n",
            "60000/60000 [==============================] - 80s 1ms/step - loss: 0.0255 - acc: 0.9919 - val_loss: 0.0239 - val_acc: 0.9932\n",
            "\n",
            "Epoch 00035: val_acc did not improve from 0.99360\n",
            "Epoch 36/40\n",
            "60000/60000 [==============================] - 81s 1ms/step - loss: 0.0247 - acc: 0.9918 - val_loss: 0.0249 - val_acc: 0.9925\n",
            "\n",
            "Epoch 00036: val_acc did not improve from 0.99360\n",
            "Epoch 37/40\n",
            "60000/60000 [==============================] - 82s 1ms/step - loss: 0.0241 - acc: 0.9922 - val_loss: 0.0242 - val_acc: 0.9923\n",
            "\n",
            "Epoch 00037: val_acc did not improve from 0.99360\n",
            "Epoch 38/40\n",
            "60000/60000 [==============================] - 82s 1ms/step - loss: 0.0245 - acc: 0.9919 - val_loss: 0.0242 - val_acc: 0.9940\n",
            "\n",
            "Epoch 00038: val_acc improved from 0.99360 to 0.99400, saving model to /content/gdrive/My Drive/EVA_1.6_weights-improvement-38-0.99.hdf5\n",
            "Epoch 39/40\n",
            "60000/60000 [==============================] - 82s 1ms/step - loss: 0.0226 - acc: 0.9926 - val_loss: 0.0240 - val_acc: 0.9925\n",
            "\n",
            "Epoch 00039: val_acc did not improve from 0.99400\n",
            "Epoch 40/40\n",
            "60000/60000 [==============================] - 82s 1ms/step - loss: 0.0228 - acc: 0.9923 - val_loss: 0.0258 - val_acc: 0.9926\n",
            "\n",
            "Epoch 00040: val_acc did not improve from 0.99400\n"
          ],
          "name": "stdout"
        },
        {
          "output_type": "execute_result",
          "data": {
            "text/plain": [
              "<keras.callbacks.History at 0x7f4d0827edd8>"
            ]
          },
          "metadata": {
            "tags": []
          },
          "execution_count": 139
        }
      ]
    },
    {
      "cell_type": "code",
      "metadata": {
        "id": "QKZwoDqkjaVD",
        "colab_type": "code",
        "colab": {
          "base_uri": "https://localhost:8080/",
          "height": 819
        },
        "outputId": "cc0722fb-22b3-4d62-e25b-82276d9377e5"
      },
      "source": [
        "model.load_weights('/content/gdrive/My Drive/EVA_1.6_weights-improvement-38-0.99.hdf5')    # load weight which give 99.4 accuracy in above training\n",
        "\n",
        "\n",
        "model.fit(X_train, Y_train, batch_size=25, nb_epoch=10, verbose=1,                         # fit the model and train for 10 epoch again\n",
        "         validation_data=(X_test, Y_test),callbacks=[checkpoint])"
      ],
      "execution_count": 150,
      "outputs": [
        {
          "output_type": "stream",
          "text": [
            "Train on 60000 samples, validate on 10000 samples\n",
            "Epoch 1/10\n",
            "  250/60000 [..............................] - ETA: 45s - loss: 0.0322 - acc: 0.9840"
          ],
          "name": "stdout"
        },
        {
          "output_type": "stream",
          "text": [
            "/usr/local/lib/python3.6/dist-packages/ipykernel_launcher.py:5: UserWarning: The `nb_epoch` argument in `fit` has been renamed `epochs`.\n",
            "  \"\"\"\n"
          ],
          "name": "stderr"
        },
        {
          "output_type": "stream",
          "text": [
            "60000/60000 [==============================] - 49s 809us/step - loss: 0.0242 - acc: 0.9921 - val_loss: 0.0233 - val_acc: 0.9926\n",
            "\n",
            "Epoch 00001: val_acc did not improve from 0.99400\n",
            "Epoch 2/10\n",
            "60000/60000 [==============================] - 49s 813us/step - loss: 0.0241 - acc: 0.9922 - val_loss: 0.0245 - val_acc: 0.9929\n",
            "\n",
            "Epoch 00002: val_acc did not improve from 0.99400\n",
            "Epoch 3/10\n",
            "60000/60000 [==============================] - 49s 814us/step - loss: 0.0228 - acc: 0.9923 - val_loss: 0.0226 - val_acc: 0.9941\n",
            "\n",
            "Epoch 00003: val_acc improved from 0.99400 to 0.99410, saving model to /content/gdrive/My Drive/EVA_1.6_weights-improvement-03-0.99.hdf5\n",
            "Epoch 4/10\n",
            "60000/60000 [==============================] - 48s 805us/step - loss: 0.0233 - acc: 0.9927 - val_loss: 0.0253 - val_acc: 0.9926\n",
            "\n",
            "Epoch 00004: val_acc did not improve from 0.99410\n",
            "Epoch 5/10\n",
            "60000/60000 [==============================] - 48s 802us/step - loss: 0.0240 - acc: 0.9922 - val_loss: 0.0228 - val_acc: 0.9939\n",
            "\n",
            "Epoch 00005: val_acc did not improve from 0.99410\n",
            "Epoch 6/10\n",
            "60000/60000 [==============================] - 48s 800us/step - loss: 0.0232 - acc: 0.9928 - val_loss: 0.0244 - val_acc: 0.9936\n",
            "\n",
            "Epoch 00006: val_acc did not improve from 0.99410\n",
            "Epoch 7/10\n",
            "60000/60000 [==============================] - 48s 798us/step - loss: 0.0227 - acc: 0.9923 - val_loss: 0.0237 - val_acc: 0.9936\n",
            "\n",
            "Epoch 00007: val_acc did not improve from 0.99410\n",
            "Epoch 8/10\n",
            "60000/60000 [==============================] - 48s 802us/step - loss: 0.0240 - acc: 0.9920 - val_loss: 0.0271 - val_acc: 0.9917\n",
            "\n",
            "Epoch 00008: val_acc did not improve from 0.99410\n",
            "Epoch 9/10\n",
            "60000/60000 [==============================] - 49s 811us/step - loss: 0.0216 - acc: 0.9928 - val_loss: 0.0246 - val_acc: 0.9932\n",
            "\n",
            "Epoch 00009: val_acc did not improve from 0.99410\n",
            "Epoch 10/10\n",
            "60000/60000 [==============================] - 48s 806us/step - loss: 0.0229 - acc: 0.9926 - val_loss: 0.0224 - val_acc: 0.9930\n",
            "\n",
            "Epoch 00010: val_acc did not improve from 0.99410\n"
          ],
          "name": "stdout"
        },
        {
          "output_type": "execute_result",
          "data": {
            "text/plain": [
              "<keras.callbacks.History at 0x7f4d06a09e48>"
            ]
          },
          "metadata": {
            "tags": []
          },
          "execution_count": 150
        }
      ]
    },
    {
      "cell_type": "markdown",
      "metadata": {
        "id": "0kjMwCLEdlS9",
        "colab_type": "text"
      },
      "source": [
        "## Model evaluation\n",
        "Please note that predict is a part of model evaluation. Only after we predict, one can used prediction value to evalute our metrics, say \"accuracy\""
      ]
    },
    {
      "cell_type": "code",
      "metadata": {
        "id": "MazRJXlGkoxp",
        "colab_type": "code",
        "colab": {}
      },
      "source": [
        "model.load_weights('/content/gdrive/My Drive/EVA_1.6_weights-improvement-03-0.99.hdf5')    # load weight which give 99.41 validation accuracy in above training"
      ],
      "execution_count": 0,
      "outputs": []
    },
    {
      "cell_type": "code",
      "metadata": {
        "id": "AtsH-lLk-eLb",
        "colab_type": "code",
        "colab": {}
      },
      "source": [
        "score = model.evaluate(X_test, Y_test, verbose=0)    # Use trained model and predict on test set , then finally score metrics. We have given \"accuracy\" as our metrics"
      ],
      "execution_count": 0,
      "outputs": []
    },
    {
      "cell_type": "code",
      "metadata": {
        "id": "mkX8JMv79q9r",
        "colab_type": "code",
        "outputId": "c39c513d-4ca8-4078-d0f2-b840e6de5a96",
        "colab": {
          "base_uri": "https://localhost:8080/",
          "height": 35
        }
      },
      "source": [
        "print(score)  # print validation score"
      ],
      "execution_count": 153,
      "outputs": [
        {
          "output_type": "stream",
          "text": [
            "[0.02262122784848325, 0.9941]\n"
          ],
          "name": "stdout"
        }
      ]
    },
    {
      "cell_type": "code",
      "metadata": {
        "id": "OCWoJkwE9suh",
        "colab_type": "code",
        "colab": {}
      },
      "source": [
        "y_pred = model.predict(X_test)   # used trained model to predict class"
      ],
      "execution_count": 0,
      "outputs": []
    },
    {
      "cell_type": "code",
      "metadata": {
        "id": "Ym7iCFBm9uBs",
        "colab_type": "code",
        "outputId": "fd2adfb0-c32d-47a9-d183-ed0089261097",
        "colab": {
          "base_uri": "https://localhost:8080/",
          "height": 355
        }
      },
      "source": [
        "print(y_pred[:9])   # first 9 prediction\n",
        "print(y_test[:9])    # actual 9 targel class"
      ],
      "execution_count": 155,
      "outputs": [
        {
          "output_type": "stream",
          "text": [
            "[[1.8394343e-09 1.8394343e-09 6.1321783e-09 1.6163167e-08 1.8394343e-09\n",
            "  1.8394343e-09 1.8394343e-09 9.9999988e-01 1.8394343e-09 1.5962836e-07]\n",
            " [4.3903731e-07 7.7913010e-06 9.9999142e-01 2.8926873e-08 2.3842969e-07\n",
            "  2.8926873e-08 2.8926873e-08 2.8926873e-08 2.8926873e-08 2.8926873e-08]\n",
            " [1.6051163e-06 9.9996603e-01 1.6051163e-06 1.6051163e-06 9.8222754e-06\n",
            "  2.1602802e-06 4.2789588e-06 9.6953709e-06 1.6051163e-06 1.6051163e-06]\n",
            " [9.9998915e-01 3.8215592e-08 3.8215592e-08 3.8215592e-08 6.5953209e-08\n",
            "  6.5411008e-08 2.0478833e-06 3.8215592e-08 2.2245818e-07 8.2861252e-06]\n",
            " [7.3233825e-10 7.3233825e-10 7.3233825e-10 7.3233825e-10 9.9999809e-01\n",
            "  7.3233825e-10 7.3233825e-10 7.3233825e-10 5.5439786e-09 1.8434835e-06]\n",
            " [1.0637756e-06 9.9996364e-01 1.7070030e-06 1.0637756e-06 5.3266244e-06\n",
            "  1.0637756e-06 1.5220249e-06 2.2494276e-05 1.0637756e-06 1.0637756e-06]\n",
            " [1.1131694e-09 1.2117336e-09 1.1131694e-09 1.1131694e-09 1.0000000e+00\n",
            "  1.1131694e-09 1.1131694e-09 4.7465250e-08 5.9833560e-09 3.3443975e-08]\n",
            " [7.4894764e-08 7.4894764e-08 5.3542540e-06 7.4894764e-08 1.7208574e-04\n",
            "  4.9918776e-07 7.4894764e-08 1.0730226e-07 1.5964999e-07 9.9982160e-01]\n",
            " [3.3309502e-07 3.3309502e-07 3.3309502e-07 3.3309502e-07 3.3309502e-07\n",
            "  9.2761344e-01 7.1641222e-02 3.3309502e-07 7.4295275e-04 3.3309502e-07]]\n",
            "[7 2 1 0 4 1 4 9 5]\n"
          ],
          "name": "stdout"
        }
      ]
    },
    {
      "cell_type": "markdown",
      "metadata": {
        "id": "ah_y85XXd_z7",
        "colab_type": "text"
      },
      "source": [
        "## Visualization"
      ]
    },
    {
      "cell_type": "code",
      "metadata": {
        "id": "CT--y98_dr2T",
        "colab_type": "code",
        "colab": {}
      },
      "source": [
        "layer_dict = dict([(layer.name, layer) for layer in model.layers])"
      ],
      "execution_count": 0,
      "outputs": []
    },
    {
      "cell_type": "code",
      "metadata": {
        "id": "2GY4Upv4dsUR",
        "colab_type": "code",
        "outputId": "cc4da10c-dc07-4e6a-9e01-9ba4ff833245",
        "colab": {
          "base_uri": "https://localhost:8080/",
          "height": 741
        }
      },
      "source": [
        "import numpy as np\n",
        "from matplotlib import pyplot as plt\n",
        "from keras import backend as K\n",
        "%matplotlib inline\n",
        "# util function to convert a tensor into a valid image\n",
        "def deprocess_image(x):\n",
        "    # normalize tensor: center on 0., ensure std is 0.1\n",
        "    x -= x.mean()\n",
        "    x /= (x.std() + 1e-5)\n",
        "    x *= 0.1\n",
        "\n",
        "    # clip to [0, 1]\n",
        "    x += 0.5\n",
        "    x = np.clip(x, 0, 1)\n",
        "\n",
        "    # convert to RGB array\n",
        "    x *= 255\n",
        "    #x = x.transpose((1, 2, 0))\n",
        "    x = np.clip(x, 0, 255).astype('uint8')\n",
        "    return x\n",
        "\n",
        "def vis_img_in_filter(img = np.array(X_train[2]).reshape((1, 28, 28, 1)).astype(np.float64), \n",
        "                      layer_name = 'conv2d_159'):\n",
        "    layer_output = layer_dict[layer_name].output\n",
        "    img_ascs = list()\n",
        "    for filter_index in range(layer_output.shape[3]):\n",
        "        # build a loss function that maximizes the activation\n",
        "        # of the nth filter of the layer considered\n",
        "        loss = K.mean(layer_output[:, :, :, filter_index])\n",
        "\n",
        "        # compute the gradient of the input picture wrt this loss\n",
        "        grads = K.gradients(loss, model.input)[0]\n",
        "\n",
        "        # normalization trick: we normalize the gradient\n",
        "        grads /= (K.sqrt(K.mean(K.square(grads))) + 1e-5)\n",
        "\n",
        "        # this function returns the loss and grads given the input picture\n",
        "        iterate = K.function([model.input], [loss, grads])\n",
        "\n",
        "        # step size for gradient ascent\n",
        "        step = 5.\n",
        "\n",
        "        img_asc = np.array(img)\n",
        "        # run gradient ascent for 20 steps\n",
        "        for i in range(20):\n",
        "            loss_value, grads_value = iterate([img_asc])\n",
        "            img_asc += grads_value * step\n",
        "\n",
        "        img_asc = img_asc[0]\n",
        "        img_ascs.append(deprocess_image(img_asc).reshape((28, 28)))\n",
        "        \n",
        "    if layer_output.shape[3] >= 35:\n",
        "        plot_x, plot_y = 6, 6\n",
        "    elif layer_output.shape[3] >= 23:\n",
        "        plot_x, plot_y = 4, 6\n",
        "    elif layer_output.shape[3] >= 11:\n",
        "        plot_x, plot_y = 2, 6\n",
        "    else:\n",
        "        plot_x, plot_y = 1, 2\n",
        "    fig, ax = plt.subplots(plot_x, plot_y, figsize = (12, 12))\n",
        "    ax[0, 0].imshow(img.reshape((28, 28)), cmap = 'gray')\n",
        "    ax[0, 0].set_title('Input image')\n",
        "    fig.suptitle('Input image and %s filters' % (layer_name,))\n",
        "    fig.tight_layout(pad = 0.3, rect = [0, 0, 0.9, 0.9])\n",
        "    for (x, y) in [(i, j) for i in range(plot_x) for j in range(plot_y)]:\n",
        "        if x == 0 and y == 0:\n",
        "            continue\n",
        "        ax[x, y].imshow(img_ascs[x * plot_y + y - 1], cmap = 'gray')\n",
        "        ax[x, y].set_title('filter %d' % (x * plot_y + y - 1))\n",
        "\n",
        "vis_img_in_filter()"
      ],
      "execution_count": 157,
      "outputs": [
        {
          "output_type": "display_data",
          "data": {
            "image/png": "[encoded data removed]",
            "text/plain": [
              "<Figure size 864x864 with 12 Axes>"
            ]
          },
          "metadata": {
            "tags": []
          }
        }
      ]
    },
    {
      "cell_type": "code",
      "metadata": {
        "id": "9tvptcn8dxvp",
        "colab_type": "code",
        "colab": {}
      },
      "source": [
        ""
      ],
      "execution_count": 0,
      "outputs": []
    }
  ]
}